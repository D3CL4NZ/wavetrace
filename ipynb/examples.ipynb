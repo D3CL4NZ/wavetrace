{
 "cells": [
  {
   "cell_type": "code",
   "execution_count": null,
   "metadata": {
    "collapsed": false
   },
   "outputs": [],
   "source": [
    "import sys\n",
    "from pathlib import Path\n",
    "\n",
    "DIR = Path('..')\n",
    "sys.path.append(str(DIR))\n",
    "\n",
    "import wavetrace as wt\n",
    "\n",
    "IN_DIR = DIR/'examples'/'inputs'\n",
    "OUT_DIR = DIR/'examples'/'outputs'\n",
    "\n",
    "%load_ext autoreload\n",
    "%autoreload 2\n",
    "\n",
    "high_definition = False\n"
   ]
  },
  {
   "cell_type": "code",
   "execution_count": null,
   "metadata": {
    "collapsed": false
   },
   "outputs": [],
   "source": [
    "# Download elevation data\n",
    "\n",
    "bounds = [174, -37, 176, -36]\n",
    "names = wt.get_srtm_tile_names(bounds)\n",
    "print('Tiles to download =', names)\n",
    "\n",
    "username = None\n",
    "password = None\n",
    "if high_definition:\n",
    "    path = IN_DIR/'elevations-hd'\n",
    "    try:\n",
    "        username = wt.get_secret('NASA_USERNAME')\n",
    "        password = wt.get_secret('NASA_PASSWORD')\n",
    "    except:\n",
    "        pass\n",
    "else:\n",
    "    path = IN_DIR/'elevations-sd'\n",
    "    \n",
    "wt.download_elevation_data_nasa(bounds, path, high_definition=high_definition,\n",
    "  username=username, password=password)"
   ]
  },
  {
   "cell_type": "code",
   "execution_count": null,
   "metadata": {
    "collapsed": false
   },
   "outputs": [],
   "source": [
    "# Create SPLAT transmitters data\n",
    "\n",
    "in_path = IN_DIR/'transmitters.csv'\n",
    "out_path = OUT_DIR/'splat_files'\n",
    "wt.create_splat_transmitter_data(in_path, out_path)\n",
    "% ls {out_path}"
   ]
  },
  {
   "cell_type": "code",
   "execution_count": null,
   "metadata": {
    "collapsed": false
   },
   "outputs": [],
   "source": [
    "# Create SPLAT elevation data\n",
    "\n",
    "if high_definition:\n",
    "    in_path = IN_DIR/'elevations-hd'\n",
    "else:\n",
    "    in_path = IN_DIR/'elevations-sd'\n",
    "out_path = OUT_DIR/'splat_files'\n",
    "\n",
    "wt.create_splat_elevation_data(in_path, out_path, high_definition=high_definition)\n",
    "% ls {out_path}"
   ]
  },
  {
   "cell_type": "code",
   "execution_count": 2,
   "metadata": {
    "collapsed": false
   },
   "outputs": [
    {
     "name": "stdout",
     "output_type": "stream",
     "text": [
      "Timing create_coverage_reports...\n",
      "2016-08-09 12:45:08.545321   Began process\n",
      "2016-08-09 12:48:08.527151   Finished in 2.98 min\n",
      "MyNetwork_11-ck.ppm           MyNetwork_11.kml\n",
      "MyNetwork_11-site_report.txt  MyNetwork_11.ppm\n",
      "MyNetwork_11.geo\n"
     ]
    }
   ],
   "source": [
    "# Create coverage reports\n",
    "\n",
    "transmitter_names = ['MyNetwork_11']\n",
    "in_path = OUT_DIR/'splat_files'\n",
    "out_path = OUT_DIR/'coverage_reports'\n",
    "wt.create_coverage_reports(in_path, out_path, transmitter_names, \n",
    "  high_definition=high_definition)\n",
    "% ls {out_path}"
   ]
  },
  {
   "cell_type": "code",
   "execution_count": null,
   "metadata": {
    "collapsed": false
   },
   "outputs": [],
   "source": [
    "# Post-process coverage reports\n",
    "\n",
    "path = OUT_DIR/'coverage_reports'\n",
    "wt.postprocess_coverage_reports(path, save_ppm=True)\n",
    "% ls {path}"
   ]
  },
  {
   "cell_type": "code",
   "execution_count": 20,
   "metadata": {
    "collapsed": false
   },
   "outputs": [
    {
     "name": "stdout",
     "output_type": "stream",
     "text": [
      "-35.00083 -38.00000 177.00000 173.00000\n",
      "gdal_translate -of Gtiff -a_ullr 173.00000 -35.00083 177.00000 -38.00000 -a_srs 4326 MyNetwork_11.ppm MyNetwork_11.tif\n"
     ]
    },
    {
     "ename": "CalledProcessError",
     "evalue": "Command '['gdal_translate', '-of', 'Gtiff', '-a_ullr', '173.00000', '-35.00083', '177.00000', '-38.00000', '-a_srs', '4326', 'MyNetwork_11.ppm', 'MyNetwork_11.tif']' returned non-zero exit status 1",
     "output_type": "error",
     "traceback": [
      "\u001b[0;31m---------------------------------------------------------------------------\u001b[0m",
      "\u001b[0;31mCalledProcessError\u001b[0m                        Traceback (most recent call last)",
      "\u001b[0;32m<ipython-input-20-f1b1e852f7ca>\u001b[0m in \u001b[0;36m<module>\u001b[0;34m()\u001b[0m\n\u001b[1;32m     22\u001b[0m \u001b[0mprint\u001b[0m\u001b[0;34m(\u001b[0m\u001b[0;34m\" \"\u001b[0m\u001b[0;34m.\u001b[0m\u001b[0mjoin\u001b[0m\u001b[0;34m(\u001b[0m\u001b[0margs\u001b[0m\u001b[0;34m)\u001b[0m\u001b[0;34m)\u001b[0m\u001b[0;34m\u001b[0m\u001b[0m\n\u001b[1;32m     23\u001b[0m subprocess.run(args, cwd=str(path.parent),\n\u001b[0;32m---> 24\u001b[0;31m   stdout=subprocess.PIPE, universal_newlines=True, check=True)\n\u001b[0m\u001b[1;32m     25\u001b[0m \u001b[0;34m\u001b[0m\u001b[0m\n\u001b[1;32m     26\u001b[0m \u001b[0;31m#gdal_translate -of Gtiff -a_ullr LEFT_LON UPPER_LAT RIGHT_LON LOWER_LAT -a_srs EPSG_PROJ INPUT_PNG_FILE OUTPUT_GTIFF_FILE.\u001b[0m\u001b[0;34m\u001b[0m\u001b[0;34m\u001b[0m\u001b[0m\n",
      "\u001b[0;32m/usr/local/Cellar/python3/3.5.1/Frameworks/Python.framework/Versions/3.5/lib/python3.5/subprocess.py\u001b[0m in \u001b[0;36mrun\u001b[0;34m(input, timeout, check, *popenargs, **kwargs)\u001b[0m\n\u001b[1;32m    709\u001b[0m         \u001b[0;32mif\u001b[0m \u001b[0mcheck\u001b[0m \u001b[0;32mand\u001b[0m \u001b[0mretcode\u001b[0m\u001b[0;34m:\u001b[0m\u001b[0;34m\u001b[0m\u001b[0m\n\u001b[1;32m    710\u001b[0m             raise CalledProcessError(retcode, process.args,\n\u001b[0;32m--> 711\u001b[0;31m                                      output=stdout, stderr=stderr)\n\u001b[0m\u001b[1;32m    712\u001b[0m     \u001b[0;32mreturn\u001b[0m \u001b[0mCompletedProcess\u001b[0m\u001b[0;34m(\u001b[0m\u001b[0mprocess\u001b[0m\u001b[0;34m.\u001b[0m\u001b[0margs\u001b[0m\u001b[0;34m,\u001b[0m \u001b[0mretcode\u001b[0m\u001b[0;34m,\u001b[0m \u001b[0mstdout\u001b[0m\u001b[0;34m,\u001b[0m \u001b[0mstderr\u001b[0m\u001b[0;34m)\u001b[0m\u001b[0;34m\u001b[0m\u001b[0m\n\u001b[1;32m    713\u001b[0m \u001b[0;34m\u001b[0m\u001b[0m\n",
      "\u001b[0;31mCalledProcessError\u001b[0m: Command '['gdal_translate', '-of', 'Gtiff', '-a_ullr', '173.00000', '-35.00083', '177.00000', '-38.00000', '-a_srs', '4326', 'MyNetwork_11.ppm', 'MyNetwork_11.tif']' returned non-zero exit status 1"
     ]
    }
   ],
   "source": [
    "import re\n",
    "import subprocess\n",
    "\n",
    "\n",
    "# Get PPM image lon-lat bounds from KML\n",
    "path = OUT_DIR/'coverage_reports'/'MyNetwork_11.kml'\n",
    "with path.open() as src:\n",
    "    kml = src.read()\n",
    "\n",
    "north = re.search(r\"<north>([0-9-][0-9\\.]*)<\\/north>\", kml).group(1)\n",
    "south = re.search(r\"<south>([0-9-][0-9\\.]*)<\\/south>\", kml).group(1)\n",
    "east = re.search(r\"<east>([0-9-][0-9\\.]*)<\\/east>\", kml).group(1)\n",
    "west = re.search(r\"<west>([0-9-][0-9\\.]*)<\\/west>\", kml).group(1)\n",
    "print(north, south, east, west)\n",
    "\n",
    "# Convert PPM (with lon-lat bounds) to GeoTiff via GDAL\n",
    "ppm = 'MyNetwork_11.ppm'\n",
    "tif = ppm.replace('.ppm', '.tif')\n",
    "epsg = '4326'\n",
    "args = ['gdal_translate', '-of', 'Gtiff', '-a_ullr', west, north, east, south, \n",
    " '-a_srs', epsg, ppm, tif]\n",
    "print(\" \".join(args))\n",
    "subprocess.run(args, cwd=str(path.parent),\n",
    "  stdout=subprocess.PIPE, universal_newlines=True, check=True)\n",
    "\n",
    "# See http://www.gdal.org/gdal_translate.html and https://gis.stackexchange.com/questions/118180/convert-png-to-geotiff-using-gdal\n",
    " \n",
    "#gdal_translate -of Gtiff -a_ullr LEFT_LON UPPER_LAT RIGHT_LON LOWER_LAT -a_srs EPSG_PROJ INPUT_PNG_FILE OUTPUT_GTIFF_FILE. "
   ]
  },
  {
   "cell_type": "code",
   "execution_count": null,
   "metadata": {
    "collapsed": true
   },
   "outputs": [],
   "source": []
  }
 ],
 "metadata": {
  "kernelspec": {
   "display_name": "Python 3",
   "language": "python",
   "name": "python3"
  },
  "language_info": {
   "codemirror_mode": {
    "name": "ipython",
    "version": 3
   },
   "file_extension": ".py",
   "mimetype": "text/x-python",
   "name": "python",
   "nbconvert_exporter": "python",
   "pygments_lexer": "ipython3",
   "version": "3.5.1"
  }
 },
 "nbformat": 4,
 "nbformat_minor": 0
}
