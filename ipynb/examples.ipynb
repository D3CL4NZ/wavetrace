{
 "cells": [
  {
   "cell_type": "code",
   "execution_count": null,
   "metadata": {
    "collapsed": false
   },
   "outputs": [],
   "source": [
    "import sys\n",
    "from pathlib import Path\n",
    "\n",
    "DIR = Path('..')\n",
    "sys.path.append(str(DIR))\n",
    "\n",
    "import wavetrace as wt\n",
    "\n",
    "IN_DIR = DIR/'example_data'/'inputs'\n",
    "OUT_DIR = DIR/'example_data'/'outputs'\n",
    "\n",
    "%load_ext autoreload\n",
    "%autoreload 2\n",
    "\n"
   ]
  },
  {
   "cell_type": "code",
   "execution_count": 3,
   "metadata": {
    "collapsed": false
   },
   "outputs": [
    {
     "name": "stdout",
     "output_type": "stream",
     "text": [
      "Tiles to download = ['S36E174', 'S37E175']\n",
      "Downloading S36E174.hgt.zip...\n",
      "Downloading S37E175.hgt.zip...\n"
     ]
    }
   ],
   "source": [
    "# Download test elevation data\n",
    "\n",
    "TEST_DATA_DIR = DIR/'tests'/'data'\n",
    "ts = wt.read_transmitters(TEST_DATA_DIR/'transmitters.csv')[:2]\n",
    "lon_lats = wt.get_lon_lats(ts)\n",
    "tiles = wt.get_srtm_tile_names(lon_lats)\n",
    "print('Tiles to download =', tiles)\n",
    "    \n",
    "wt.download_topography_nasa(tiles, TEST_DATA_DIR)"
   ]
  },
  {
   "cell_type": "code",
   "execution_count": null,
   "metadata": {
    "collapsed": true
   },
   "outputs": [],
   "source": [
    "transmitters = wt.read_transmitters(DATA_DIR/'transmitters.csv')[:2]\n",
    "high_definition = False\n"
   ]
  },
  {
   "cell_type": "code",
   "execution_count": null,
   "metadata": {
    "collapsed": false
   },
   "outputs": [],
   "source": [
    "# Download elevation data\n",
    "lon_lats = wt.get_lon_lats(transmitters)\n",
    "tiles = wt.get_srtm_tile_names(lon_lats)\n",
    "print('Tiles to download =', tiles)\n",
    "\n",
    "username = None\n",
    "password = None\n",
    "if high_definition:\n",
    "    path = IN_DIR/'elevations-hd'\n",
    "    try:\n",
    "        username = wt.get_secret('NASA_USERNAME')\n",
    "        password = wt.get_secret('NASA_PASSWORD')\n",
    "    except:\n",
    "        pass\n",
    "else:\n",
    "    path = IN_DIR/'elevations-sd'\n",
    "    \n",
    "wt.download_topography_nasa(tiles, path, high_definition=high_definition,\n",
    "  username=username, password=password)"
   ]
  },
  {
   "cell_type": "code",
   "execution_count": null,
   "metadata": {
    "collapsed": false
   },
   "outputs": [],
   "source": [
    "path = IN_DIR/'transmitters.csv'\n",
    "ts = wt.read_transmitters(path)\n",
    "ts[0]"
   ]
  },
  {
   "cell_type": "code",
   "execution_count": null,
   "metadata": {
    "collapsed": false
   },
   "outputs": [],
   "source": [
    "# Create SPLAT transmitter files\n",
    "\n",
    "in_path = IN_DIR/'transmitters.csv'\n",
    "out_path = OUT_DIR/'splat_files'\n",
    "wt.create_splat_transmitter_files(in_path, out_path)\n",
    "\n",
    "% ls {out_path}"
   ]
  },
  {
   "cell_type": "code",
   "execution_count": null,
   "metadata": {
    "collapsed": false
   },
   "outputs": [],
   "source": [
    "# Create SPLAT topography files\n",
    "\n",
    "if high_definition:\n",
    "    in_path = IN_DIR/'elevations-hd'\n",
    "else:\n",
    "    in_path = IN_DIR/'elevations-sd'\n",
    "out_path = OUT_DIR/'splat_files'\n",
    "\n",
    "wt.create_splat_topography_files(in_path, out_path, high_definition=high_definition)\n",
    "\n",
    "% ls {out_path}"
   ]
  },
  {
   "cell_type": "code",
   "execution_count": null,
   "metadata": {
    "collapsed": false
   },
   "outputs": [],
   "source": [
    "# Create coverage reports\n",
    "\n",
    "transmitter_names = ['MyNetwork_11']\n",
    "in_path = OUT_DIR/'splat_files'\n",
    "out_path = OUT_DIR/'coverage_reports'\n",
    "wt.create_coverage_reports(in_path, out_path, transmitter_names, \n",
    "  high_definition=high_definition)\n",
    "\n",
    "% ls {out_path}"
   ]
  },
  {
   "cell_type": "code",
   "execution_count": null,
   "metadata": {
    "collapsed": false
   },
   "outputs": [],
   "source": [
    "# Post-process coverage reports\n",
    "\n",
    "path = OUT_DIR/'coverage_reports'\n",
    "wt.postprocess_coverage_reports(path, delete_ppm=False)\n",
    "\n",
    "% ls {path}"
   ]
  },
  {
   "cell_type": "code",
   "execution_count": null,
   "metadata": {
    "collapsed": false
   },
   "outputs": [],
   "source": [
    "import re\n",
    "import subprocess\n",
    "\n",
    "\n",
    "re.search(r\"<west>([0-9-][0-9\\.]*)<\\/west>\", '').group(1)"
   ]
  },
  {
   "cell_type": "code",
   "execution_count": null,
   "metadata": {
    "collapsed": true
   },
   "outputs": [],
   "source": []
  }
 ],
 "metadata": {
  "kernelspec": {
   "display_name": "Python 3",
   "language": "python",
   "name": "python3"
  },
  "language_info": {
   "codemirror_mode": {
    "name": "ipython",
    "version": 3
   },
   "file_extension": ".py",
   "mimetype": "text/x-python",
   "name": "python",
   "nbconvert_exporter": "python",
   "pygments_lexer": "ipython3",
   "version": "3.5.1"
  }
 },
 "nbformat": 4,
 "nbformat_minor": 0
}
