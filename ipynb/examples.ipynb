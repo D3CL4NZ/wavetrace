{
 "cells": [
  {
   "cell_type": "code",
   "execution_count": 4,
   "metadata": {
    "collapsed": false
   },
   "outputs": [],
   "source": [
    "import sys\n",
    "from pathlib import Path\n",
    "\n",
    "DIR = Path('..')\n",
    "sys.path.append(str(DIR))\n",
    "\n",
    "import wavetrace as wt\n",
    "\n",
    "IN_DIR = DIR/'examples'/'inputs'\n",
    "OUT_DIR = DIR/'examples'/'outputs'\n",
    "\n",
    "%load_ext autoreload\n",
    "%autoreload 2\n",
    "\n",
    "high_definition = False\n"
   ]
  },
  {
   "cell_type": "code",
   "execution_count": null,
   "metadata": {
    "collapsed": true
   },
   "outputs": [],
   "source": [
    "# To test high definition download use\n",
    "# http://e4ftl01.cr.usgs.gov/SRTM/SRTMGL1.003/2000.02.11/N00E006.SRTMGL1.hgt.zip\n",
    "# username='bingobongo', password='Bingo0Bongo'"
   ]
  },
  {
   "cell_type": "code",
   "execution_count": null,
   "metadata": {
    "collapsed": false
   },
   "outputs": [],
   "source": [
    "# Download elevation data\n",
    "\n",
    "bounds = [174, -37, 176, -36]\n",
    "names = wt.get_srtm_tile_names(bounds)\n",
    "print('Tiles to download =', names)\n",
    "\n",
    "\n",
    "if high_definition:\n",
    "    path = IN_DIR/'elevations-hd'\n",
    "else:\n",
    "    path = IN_DIR/'elevations-sd'\n",
    "    \n",
    "wt.download_elevation_data_nasa(bounds, path, high_definition=high_definition,\n",
    "  username='bingobongo', password='Bingo0Bongo')"
   ]
  },
  {
   "cell_type": "code",
   "execution_count": null,
   "metadata": {
    "collapsed": false
   },
   "outputs": [],
   "source": [
    "# Create SPLAT transmitters data\n",
    "\n",
    "in_path = IN_DIR/'transmitters.csv'\n",
    "out_path = OUT_DIR/'splat_files'\n",
    "wt.create_splat_transmitter_data(in_path, out_path)\n",
    "% ls {out_path}"
   ]
  },
  {
   "cell_type": "code",
   "execution_count": null,
   "metadata": {
    "collapsed": false
   },
   "outputs": [],
   "source": [
    "# Create SPLAT elevation data\n",
    "\n",
    "if high_definition:\n",
    "    in_path = IN_DIR/'elevations-hd'\n",
    "else:\n",
    "    in_path = IN_DIR/'elevations-sd'\n",
    "out_path = OUT_DIR/'splat_files'\n",
    "\n",
    "wt.create_splat_elevation_data(in_path, out_path, high_definition=high_definition)\n",
    "% ls {out_path}"
   ]
  },
  {
   "cell_type": "code",
   "execution_count": 6,
   "metadata": {
    "collapsed": false
   },
   "outputs": [
    {
     "name": "stdout",
     "output_type": "stream",
     "text": [
      "Timing create_coverage_maps...\n",
      "2016-08-08 13:46:19.936088   Began process\n",
      "2016-08-08 13:49:45.472541   Finished in 3.42 min\n",
      "MyNetwork_11-ck.ppm           MyNetwork_11.kml\n",
      "MyNetwork_11-site_report.txt\n"
     ]
    }
   ],
   "source": [
    "# Create a coverage maps\n",
    "\n",
    "transmitter_names = ['MyNetwork_11']\n",
    "in_path = OUT_DIR/'splat_files'\n",
    "out_path = OUT_DIR\n",
    "wt.create_coverage_maps(in_path, out_path, transmitter_names, high_definition=high_definition)\n",
    "% ls {out_path/transmitter_names[0]}"
   ]
  },
  {
   "cell_type": "code",
   "execution_count": null,
   "metadata": {
    "collapsed": true
   },
   "outputs": [],
   "source": []
  }
 ],
 "metadata": {
  "kernelspec": {
   "display_name": "Python 3",
   "language": "python",
   "name": "python3"
  }
 },
 "nbformat": 4,
 "nbformat_minor": 0
}
