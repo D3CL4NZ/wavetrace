{
 "cells": [
  {
   "cell_type": "code",
   "execution_count": 17,
   "metadata": {
    "collapsed": false
   },
   "outputs": [
    {
     "name": "stdout",
     "output_type": "stream",
     "text": [
      "The autoreload extension is already loaded. To reload it, use:\n",
      "  %reload_ext autoreload\n"
     ]
    }
   ],
   "source": [
    "import sys\n",
    "from pathlib import Path\n",
    "import shutil\n",
    "import json\n",
    "\n",
    "import shapely\n",
    "import requests\n",
    "\n",
    "DIR = Path('..')\n",
    "sys.path.append(str(DIR))\n",
    "\n",
    "import wavetrace as wt\n",
    "\n",
    "IN_DIR = DIR/'data'/'sample_inputs'\n",
    "OUT_DIR = DIR/'data'/'sample_outputs'\n",
    "\n",
    "%load_ext autoreload\n",
    "%autoreload 2\n",
    "\n"
   ]
  },
  {
   "cell_type": "code",
   "execution_count": 18,
   "metadata": {
    "collapsed": false
   },
   "outputs": [],
   "source": [
    "# def parse_raster_query(r):\n",
    "#     layers = r['rasterQuery']['layers']\n",
    "#     for layer_id, d in layers.items():\n",
    "#         if d['status'] == 'ok':\n",
    "#             return layer_id\n",
    "\n",
    "# def get_nzsosdem_tile_name(lon, lat):\n",
    "#     for i, j in [(0, 10), (10, 20), (20, 30)]:\n",
    "#         url = \"http://api.koordinates.com/api/rasterQuery.json/\"\n",
    "#         params = {\n",
    "#             'key': wt.get_secret('KOORDINATES_API_KEY'),\n",
    "#             'layer': wt.NZSOSDEM[i:j],\n",
    "#             'x': lon, \n",
    "#             'y': lat,\n",
    "#         }\n",
    "#         r = requests.get(url, params=params).json()\n",
    "#         if r.status_code != requests.codes.ok:\n",
    "#             raise ValueError('Failed to query', url)\n",
    "#         layer_id = parse_raster_query(r)\n",
    "#         if layer_id is not None:\n",
    "#             break\n",
    "\n",
    "#     return layer_id\n"
   ]
  },
  {
   "cell_type": "code",
   "execution_count": 14,
   "metadata": {
    "collapsed": false
   },
   "outputs": [],
   "source": [
    "# # Download elevation test data\n",
    "\n",
    "# TEST_DATA_DIR = DIR/'tests'/'data'\n",
    "# ts = wt.read_transmitters(TEST_DATA_DIR/'transmitters.csv')[:2]\n",
    "# lon_lats = wt.get_lon_lats(ts)\n",
    "# tiles = wt.get_srtm_tile_names(lon_lats)\n",
    "# print('Tiles to download =', tiles)\n",
    "    \n",
    "# wt.download_topography_nasa(tiles, TEST_DATA_DIR)"
   ]
  },
  {
   "cell_type": "code",
   "execution_count": 19,
   "metadata": {
    "collapsed": false
   },
   "outputs": [
    {
     "name": "stdout",
     "output_type": "stream",
     "text": [
      "[{'bearing': '0', 'longitude': 174.336547, 'antenna_downtilt': '', 'network_name': 'Gray Wireless', 'frequency': 5725.0, 'name': 'GrayWireless_4', 'antenna_height': 10.0, 'latitude': -35.712247, 'polarization': 0.0, 'vertical_beamwidth': '', 'site_name': '4', 'power_eirp': 4.0, 'horizontal_beamwidth': ''}, {'bearing': '0', 'longitude': 174.281534, 'antenna_downtilt': '1', 'network_name': 'My Network', 'frequency': 5725.0, 'name': 'MyNetwork_5', 'antenna_height': 20.0, 'latitude': -35.658841, 'polarization': 0.0, 'vertical_beamwidth': '30', 'site_name': '5', 'power_eirp': 4.0, 'horizontal_beamwidth': '90'}]\n"
     ]
    }
   ],
   "source": [
    "transmitters = wt.read_transmitters(IN_DIR/'transmitters.csv')[:2]\n",
    "high_definition = False\n",
    "print(transmitters)"
   ]
  },
  {
   "cell_type": "code",
   "execution_count": null,
   "metadata": {
    "collapsed": false
   },
   "outputs": [],
   "source": [
    "# Download topography data\n",
    "\n",
    "lon_lats = wt.get_lon_lats(transmitters)\n",
    "tiles = wt.get_srtm_tile_names(lon_lats)\n",
    "print('Tiles to download =', tiles)\n",
    "\n",
    "username = None\n",
    "password = None\n",
    "if high_definition:\n",
    "    path = IN_DIR/'srtm-hd'\n",
    "    try:\n",
    "        username = wt.get_secret('NASA_USERNAME')\n",
    "        password = wt.get_secret('NASA_PASSWORD')\n",
    "    except:\n",
    "        pass\n",
    "else:\n",
    "    path = IN_DIR/'srtm-sd'\n",
    "    \n",
    "wt.download_topography_nasa(tiles, path, high_definition=high_definition,\n",
    "  username=username, password=password)"
   ]
  },
  {
   "cell_type": "code",
   "execution_count": 20,
   "metadata": {
    "collapsed": false
   },
   "outputs": [
    {
     "name": "stdout",
     "output_type": "stream",
     "text": [
      "CanUCMe_21.az       MyNetwork_11.az     MyNetwork_9.az      Skynet_14.az\r\n",
      "CanUCMe_21.el       MyNetwork_11.el     MyNetwork_9.el      Skynet_14.el\r\n",
      "CanUCMe_21.lrp      MyNetwork_11.lrp    MyNetwork_9.lrp     Skynet_14.lrp\r\n",
      "CanUCMe_21.qth      MyNetwork_11.qth    MyNetwork_9.qth     Skynet_14.qth\r\n",
      "CanUCMe_22.az       MyNetwork_5.az      RuralCom_18.az      Skynet_15.az\r\n",
      "CanUCMe_22.el       MyNetwork_5.el      RuralCom_18.el      Skynet_15.el\r\n",
      "CanUCMe_22.lrp      MyNetwork_5.lrp     RuralCom_18.lrp     Skynet_15.lrp\r\n",
      "CanUCMe_22.qth      MyNetwork_5.qth     RuralCom_18.qth     Skynet_15.qth\r\n",
      "CanUCMe_23.az       MyNetwork_6.az      RuralCom_19.az      Skynet_16.az\r\n",
      "CanUCMe_23.el       MyNetwork_6.el      RuralCom_19.el      Skynet_16.el\r\n",
      "CanUCMe_23.lrp      MyNetwork_6.lrp     RuralCom_19.lrp     Skynet_16.lrp\r\n",
      "CanUCMe_23.qth      MyNetwork_6.qth     RuralCom_19.qth     Skynet_16.qth\r\n",
      "GrayWireless_4.az   MyNetwork_7.az      Skynet_12.az        Skynet_17.az\r\n",
      "GrayWireless_4.el   MyNetwork_7.el      Skynet_12.el        Skynet_17.el\r\n",
      "GrayWireless_4.lrp  MyNetwork_7.lrp     Skynet_12.lrp       Skynet_17.lrp\r\n",
      "GrayWireless_4.qth  MyNetwork_7.qth     Skynet_12.qth       Skynet_17.qth\r\n",
      "MyNetwork_10.az     MyNetwork_8.az      Skynet_13.az        Sonar_20.az\r\n",
      "MyNetwork_10.el     MyNetwork_8.el      Skynet_13.el        Sonar_20.el\r\n",
      "MyNetwork_10.lrp    MyNetwork_8.lrp     Skynet_13.lrp       Sonar_20.lrp\r\n",
      "MyNetwork_10.qth    MyNetwork_8.qth     Skynet_13.qth       Sonar_20.qth\r\n"
     ]
    }
   ],
   "source": [
    "# Create SPLAT transmitter files\n",
    "\n",
    "in_path = IN_DIR/'transmitters.csv'\n",
    "out_path = OUT_DIR/'splat_files'\n",
    "if out_path.exists():\n",
    "    shutil.rmtree(str(out_path))\n",
    "    \n",
    "wt.create_splat_transmitter_files(in_path, out_path)\n",
    "\n",
    "% ls {out_path}"
   ]
  },
  {
   "cell_type": "code",
   "execution_count": 21,
   "metadata": {
    "collapsed": false
   },
   "outputs": [
    {
     "name": "stdout",
     "output_type": "stream",
     "text": [
      "-35:-34:186:187.sdf  MyNetwork_5.lrp      Skynet_12.lrp\r\n",
      "-36:-35:185:186.sdf  MyNetwork_5.qth      Skynet_12.qth\r\n",
      "CanUCMe_21.az        MyNetwork_6.az       Skynet_13.az\r\n",
      "CanUCMe_21.el        MyNetwork_6.el       Skynet_13.el\r\n",
      "CanUCMe_21.lrp       MyNetwork_6.lrp      Skynet_13.lrp\r\n",
      "CanUCMe_21.qth       MyNetwork_6.qth      Skynet_13.qth\r\n",
      "CanUCMe_22.az        MyNetwork_7.az       Skynet_14.az\r\n",
      "CanUCMe_22.el        MyNetwork_7.el       Skynet_14.el\r\n",
      "CanUCMe_22.lrp       MyNetwork_7.lrp      Skynet_14.lrp\r\n",
      "CanUCMe_22.qth       MyNetwork_7.qth      Skynet_14.qth\r\n",
      "CanUCMe_23.az        MyNetwork_8.az       Skynet_15.az\r\n",
      "CanUCMe_23.el        MyNetwork_8.el       Skynet_15.el\r\n",
      "CanUCMe_23.lrp       MyNetwork_8.lrp      Skynet_15.lrp\r\n",
      "CanUCMe_23.qth       MyNetwork_8.qth      Skynet_15.qth\r\n",
      "GrayWireless_4.az    MyNetwork_9.az       Skynet_16.az\r\n",
      "GrayWireless_4.el    MyNetwork_9.el       Skynet_16.el\r\n",
      "GrayWireless_4.lrp   MyNetwork_9.lrp      Skynet_16.lrp\r\n",
      "GrayWireless_4.qth   MyNetwork_9.qth      Skynet_16.qth\r\n",
      "MyNetwork_10.az      RuralCom_18.az       Skynet_17.az\r\n",
      "MyNetwork_10.el      RuralCom_18.el       Skynet_17.el\r\n",
      "MyNetwork_10.lrp     RuralCom_18.lrp      Skynet_17.lrp\r\n",
      "MyNetwork_10.qth     RuralCom_18.qth      Skynet_17.qth\r\n",
      "MyNetwork_11.az      RuralCom_19.az       Sonar_20.az\r\n",
      "MyNetwork_11.el      RuralCom_19.el       Sonar_20.el\r\n",
      "MyNetwork_11.lrp     RuralCom_19.lrp      Sonar_20.lrp\r\n",
      "MyNetwork_11.qth     RuralCom_19.qth      Sonar_20.qth\r\n",
      "MyNetwork_5.az       Skynet_12.az\r\n",
      "MyNetwork_5.el       Skynet_12.el\r\n"
     ]
    }
   ],
   "source": [
    "# Create SPLAT topography files\n",
    "\n",
    "if high_definition:\n",
    "    in_path = IN_DIR/'srtm-hd'\n",
    "else:\n",
    "    in_path = IN_DIR/'srtm-sd'\n",
    "out_path = OUT_DIR/'splat_files'\n",
    "\n",
    "wt.create_splat_topography_files(in_path, out_path, high_definition=high_definition)\n",
    "\n",
    "% ls {out_path}"
   ]
  },
  {
   "cell_type": "code",
   "execution_count": 22,
   "metadata": {
    "collapsed": false
   },
   "outputs": [
    {
     "name": "stdout",
     "output_type": "stream",
     "text": [
      "Timing create_coverage_reports...\n",
      "2016-08-15 17:02:11.807730   Began process\n",
      "2016-08-15 17:02:53.442129   Finished in 0.68 min\n",
      "GrayWireless_4-ck.png           MyNetwork_5-ck.ppm\n",
      "GrayWireless_4-ck.ppm           MyNetwork_5-site_report.txt\n",
      "GrayWireless_4-site_report.txt  MyNetwork_5.kml\n",
      "GrayWireless_4.kml              MyNetwork_5.ppm\n",
      "GrayWireless_4.ppm\n"
     ]
    }
   ],
   "source": [
    "# Create coverage reports\n",
    "\n",
    "transmitter_names = [t['name'] for t in transmitters[:1]]\n",
    "in_path = OUT_DIR/'splat_files'\n",
    "out_path = OUT_DIR/'coverage_reports'\n",
    "wt.create_coverage_reports(in_path, out_path, transmitter_names, \n",
    "  high_definition=high_definition)\n",
    "\n",
    "% ls {out_path}"
   ]
  },
  {
   "cell_type": "code",
   "execution_count": 23,
   "metadata": {
    "collapsed": false
   },
   "outputs": [
    {
     "name": "stdout",
     "output_type": "stream",
     "text": [
      "gdal_translate -of Gtiff -a_ullr 173.0 -34.00083 176.0 -37.0 -a_srs EPSG:4326 GrayWireless_4.png GrayWireless_4.tif\n",
      "gdal_translate -of Gtiff -a_ullr 173.0 -34.00083 176.0 -37.0 -a_srs EPSG:4326 MyNetwork_5.png MyNetwork_5.tif\n",
      "GrayWireless_4-ck.png           MyNetwork_5-ck.png\n",
      "GrayWireless_4-ck.ppm           MyNetwork_5-ck.ppm\n",
      "GrayWireless_4-site_report.txt  MyNetwork_5-site_report.txt\n",
      "GrayWireless_4.kml              MyNetwork_5.kml\n",
      "GrayWireless_4.png              MyNetwork_5.png\n",
      "GrayWireless_4.ppm              MyNetwork_5.ppm\n",
      "GrayWireless_4.tif              MyNetwork_5.tif\n"
     ]
    }
   ],
   "source": [
    "# Post-process coverage reports\n",
    "\n",
    "path = OUT_DIR/'coverage_reports'\n",
    "wt.postprocess_coverage_reports(path, delete_ppm=False)\n",
    "\n",
    "% ls {path}"
   ]
  },
  {
   "cell_type": "code",
   "execution_count": null,
   "metadata": {
    "collapsed": true
   },
   "outputs": [],
   "source": []
  }
 ],
 "metadata": {
  "kernelspec": {
   "display_name": "Python 3",
   "language": "python",
   "name": "python3"
  },
  "language_info": {
   "codemirror_mode": {
    "name": "ipython",
    "version": 3
   },
   "file_extension": ".py",
   "mimetype": "text/x-python",
   "name": "python",
   "nbconvert_exporter": "python",
   "pygments_lexer": "ipython3",
   "version": "3.5.1"
  }
 },
 "nbformat": 4,
 "nbformat_minor": 0
}
