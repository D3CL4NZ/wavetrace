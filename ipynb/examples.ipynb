{
 "cells": [
  {
   "cell_type": "code",
   "execution_count": 1,
   "metadata": {
    "collapsed": false
   },
   "outputs": [],
   "source": [
    "import sys\n",
    "from pathlib import Path\n",
    "\n",
    "DIR = Path('..')\n",
    "sys.path.append(str(DIR))\n",
    "\n",
    "import wavetrace as wt\n",
    "\n",
    "IN_DIR = DIR/'examples'/'inputs'\n",
    "OUT_DIR = DIR/'examples'/'outputs'\n",
    "\n",
    "%load_ext autoreload\n",
    "%autoreload 2\n",
    "\n",
    "high_definition = False\n"
   ]
  },
  {
   "cell_type": "code",
   "execution_count": null,
   "metadata": {
    "collapsed": false
   },
   "outputs": [],
   "source": [
    "# Download elevation data\n",
    "\n",
    "bounds = [174, -37, 176, -36]\n",
    "names = wt.get_srtm_tile_names(bounds)\n",
    "print('Tiles to download =', names)\n",
    "\n",
    "username = None\n",
    "password = None\n",
    "if high_definition:\n",
    "    path = IN_DIR/'elevations-hd'\n",
    "    try:\n",
    "        username = wt.get_secret('NASA_USERNAME')\n",
    "        password = wt.get_secret('NASA_PASSWORD')\n",
    "    except:\n",
    "        pass\n",
    "else:\n",
    "    path = IN_DIR/'elevations-sd'\n",
    "    \n",
    "wt.download_elevation_data_nasa(bounds, path, high_definition=high_definition,\n",
    "  username=username, password=password)"
   ]
  },
  {
   "cell_type": "code",
   "execution_count": null,
   "metadata": {
    "collapsed": false
   },
   "outputs": [],
   "source": [
    "# Create SPLAT transmitters data\n",
    "\n",
    "in_path = IN_DIR/'transmitters.csv'\n",
    "out_path = OUT_DIR/'splat_files'\n",
    "wt.create_splat_transmitter_data(in_path, out_path)\n",
    "% ls {out_path}"
   ]
  },
  {
   "cell_type": "code",
   "execution_count": null,
   "metadata": {
    "collapsed": false
   },
   "outputs": [],
   "source": [
    "# Create SPLAT elevation data\n",
    "\n",
    "if high_definition:\n",
    "    in_path = IN_DIR/'elevations-hd'\n",
    "else:\n",
    "    in_path = IN_DIR/'elevations-sd'\n",
    "out_path = OUT_DIR/'splat_files'\n",
    "\n",
    "wt.create_splat_elevation_data(in_path, out_path, high_definition=high_definition)\n",
    "% ls {out_path}"
   ]
  },
  {
   "cell_type": "code",
   "execution_count": 9,
   "metadata": {
    "collapsed": false
   },
   "outputs": [
    {
     "name": "stdout",
     "output_type": "stream",
     "text": [
      "Timing create_coverage_reports...\n",
      "2016-08-09 16:35:57.456815   Began process\n",
      "2016-08-09 16:38:30.812679   Finished in 2.55 min\n",
      "\u001b[0m\u001b[01;35mMyNetwork_11-ck.png\u001b[0m  \u001b[01;35mMyNetwork_11.png\u001b[0m              \u001b[01;35mMyNetwork_11.tif\u001b[0m\n",
      "\u001b[01;35mMyNetwork_11-ck.ppm\u001b[0m  \u001b[01;35mMyNetwork_11.ppm\u001b[0m\n",
      "MyNetwork_11.kml     MyNetwork_11-site_report.txt\n"
     ]
    }
   ],
   "source": [
    "# Create coverage reports\n",
    "\n",
    "transmitter_names = ['MyNetwork_11']\n",
    "in_path = OUT_DIR/'splat_files'\n",
    "out_path = OUT_DIR/'coverage_reports'\n",
    "wt.create_coverage_reports(in_path, out_path, transmitter_names, \n",
    "  high_definition=high_definition)\n",
    "\n",
    "% ls {out_path}"
   ]
  },
  {
   "cell_type": "code",
   "execution_count": 17,
   "metadata": {
    "collapsed": false
   },
   "outputs": [
    {
     "name": "stdout",
     "output_type": "stream",
     "text": [
      "gdal_translate -of Gtiff -a_ullr 173.0 -35.00083 177.0 -38.0 -a_srs EPSG:4326 MyNetwork_11.png MyNetwork_11.tif\n",
      "\u001b[0m\u001b[01;35mMyNetwork_11-ck.png\u001b[0m  \u001b[01;35mMyNetwork_11.png\u001b[0m              \u001b[01;35mMyNetwork_11.tif\u001b[0m\r\n",
      "\u001b[01;35mMyNetwork_11-ck.ppm\u001b[0m  \u001b[01;35mMyNetwork_11.ppm\u001b[0m\r\n",
      "MyNetwork_11.kml     MyNetwork_11-site_report.txt\r\n"
     ]
    }
   ],
   "source": [
    "# Post-process coverage reports\n",
    "\n",
    "path = OUT_DIR/'coverage_reports'\n",
    "wt.postprocess_coverage_reports(path, delete_ppm=False)\n",
    "\n",
    "% ls {path}"
   ]
  },
  {
   "cell_type": "code",
   "execution_count": 18,
   "metadata": {
    "collapsed": false
   },
   "outputs": [
    {
     "ename": "AttributeError",
     "evalue": "'NoneType' object has no attribute 'group'",
     "output_type": "error",
     "traceback": [
      "\u001b[0;31m---------------------------------------------------------------------------\u001b[0m",
      "\u001b[0;31mAttributeError\u001b[0m                            Traceback (most recent call last)",
      "\u001b[0;32m<ipython-input-18-ee240b22a6bb>\u001b[0m in \u001b[0;36m<module>\u001b[0;34m()\u001b[0m\n\u001b[1;32m      3\u001b[0m \u001b[0;34m\u001b[0m\u001b[0m\n\u001b[1;32m      4\u001b[0m \u001b[0;34m\u001b[0m\u001b[0m\n\u001b[0;32m----> 5\u001b[0;31m \u001b[0mre\u001b[0m\u001b[0;34m.\u001b[0m\u001b[0msearch\u001b[0m\u001b[0;34m(\u001b[0m\u001b[0;34mr\"<west>([0-9-][0-9\\.]*)<\\/west>\"\u001b[0m\u001b[0;34m,\u001b[0m \u001b[0;34m''\u001b[0m\u001b[0;34m)\u001b[0m\u001b[0;34m.\u001b[0m\u001b[0mgroup\u001b[0m\u001b[0;34m(\u001b[0m\u001b[0;36m1\u001b[0m\u001b[0;34m)\u001b[0m\u001b[0;34m\u001b[0m\u001b[0m\n\u001b[0m",
      "\u001b[0;31mAttributeError\u001b[0m: 'NoneType' object has no attribute 'group'"
     ]
    }
   ],
   "source": [
    "import re\n",
    "import subprocess\n",
    "\n",
    "\n",
    "re.search(r\"<west>([0-9-][0-9\\.]*)<\\/west>\", '').group(1)"
   ]
  },
  {
   "cell_type": "code",
   "execution_count": null,
   "metadata": {
    "collapsed": true
   },
   "outputs": [],
   "source": []
  }
 ],
 "metadata": {
  "kernelspec": {
   "display_name": "Python 3",
   "language": "python",
   "name": "python3"
  },
  "language_info": {
   "codemirror_mode": {
    "name": "ipython",
    "version": 3
   },
   "file_extension": ".py",
   "mimetype": "text/x-python",
   "name": "python",
   "nbconvert_exporter": "python",
   "pygments_lexer": "ipython3",
   "version": "3.5.1"
  }
 },
 "nbformat": 4,
 "nbformat_minor": 0
}
