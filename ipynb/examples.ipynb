{
 "cells": [
  {
   "cell_type": "code",
   "execution_count": 10,
   "metadata": {
    "collapsed": false
   },
   "outputs": [
    {
     "name": "stdout",
     "output_type": "stream",
     "text": [
      "The autoreload extension is already loaded. To reload it, use:\n",
      "  %reload_ext autoreload\n"
     ]
    }
   ],
   "source": [
    "import sys\n",
    "from pathlib import Path\n",
    "import shutil\n",
    "import json\n",
    "import csv\n",
    "\n",
    "import requests\n",
    "\n",
    "DIR = Path('..')\n",
    "sys.path.append(str(DIR))\n",
    "\n",
    "import wavetrace as wt\n",
    "\n",
    "DATA_DIR = DIR/'data'\n",
    "IN_DIR = DATA_DIR/'sample_inputs'\n",
    "OUT_DIR = DATA_DIR/'sample_outputs'\n",
    "\n",
    "%load_ext autoreload\n",
    "%autoreload 2\n",
    "\n"
   ]
  },
  {
   "cell_type": "code",
   "execution_count": 14,
   "metadata": {
    "collapsed": false
   },
   "outputs": [
    {
     "name": "stdout",
     "output_type": "stream",
     "text": [
      "66 {'S36E173', 'S36E174', 'S44E173', 'S46E170', 'S48E167', 'S37E175', 'S40E175', 'S42E175', 'S38E175', 'S39E174', 'S38E177', 'S47E169', 'S43E173', 'S44E170', 'S46E166', 'S38E174', 'S42E172', 'S41E172', 'S37E176', 'S45E170', 'S44E169', 'S46E169', 'S40E177', 'S40E174', 'S38E178', 'S41E173', 'S42E174', 'S39E176', 'S39E178', 'S47E166', 'S47E170', 'S46E171', 'S45E172', 'S42E173', 'S40E173', 'S41E174', 'S40E178', 'S45E171', 'S38E176', 'S41E176', 'S47E167', 'S43E170', 'S47E168', 'S42E176', 'S44E168', 'S43E172', 'S46E167', 'S45E169', 'S45E167', 'S36E175', 'S37E174', 'S43E171', 'S35E172', 'S45E168', 'S42E171', 'S35E173', 'S39E177', 'S41E175', 'S48E168', 'S37E173', 'S44E172', 'S46E168', 'S40E176', 'S39E175', 'S43E174', 'S44E171'}\n"
     ]
    }
   ],
   "source": [
    "# Get SRTM tiles covering NZ \n",
    "\n",
    "# NZ sample points:\n",
    "path = DATA_DIR/'nz_placenames_2008.csv' \n",
    "lonlats = []\n",
    "with path.open() as src:\n",
    "    reader = csv.DictReader(src)\n",
    "    for row in reader:\n",
    "        lonlats.append([float(row['GEOMETRY_X']), float(row['GEOMETRY_Y'])])\n",
    "nz_tids = wt.get_srtm_tile_ids(lonlats)\n",
    "print(len(nz_tids), nz_tids)\n",
    "    \n",
    "# Make polygons and then visually check them on https://geojson.io\n",
    "polygons = wt.get_polygons(nz_tids)\n",
    "collection = {'type': 'FeatureCollection', 'features': polygons}\n",
    "path = DIR/'data'/'nz_srtm_polygons.geojson'\n",
    "with path.open('w') as tgt:\n",
    "    json.dump(collection, tgt)"
   ]
  },
  {
   "cell_type": "code",
   "execution_count": 20,
   "metadata": {
    "collapsed": false
   },
   "outputs": [
    {
     "name": "stdout",
     "output_type": "stream",
     "text": [
      "0 http://e4ftl01.cr.usgs.gov/SRTM/SRTMGL1.003/2000.02.11/S35E172.SRTMGL1.hgt.zip\n",
      "1 http://e4ftl01.cr.usgs.gov/SRTM/SRTMGL1.003/2000.02.11/S35E173.SRTMGL1.hgt.zip\n",
      "2 http://e4ftl01.cr.usgs.gov/SRTM/SRTMGL1.003/2000.02.11/S36E173.SRTMGL1.hgt.zip\n",
      "3 http://e4ftl01.cr.usgs.gov/SRTM/SRTMGL1.003/2000.02.11/S36E174.SRTMGL1.hgt.zip\n",
      "4 http://e4ftl01.cr.usgs.gov/SRTM/SRTMGL1.003/2000.02.11/S36E175.SRTMGL1.hgt.zip\n",
      "5 http://e4ftl01.cr.usgs.gov/SRTM/SRTMGL1.003/2000.02.11/S37E173.SRTMGL1.hgt.zip\n",
      "6 http://e4ftl01.cr.usgs.gov/SRTM/SRTMGL1.003/2000.02.11/S37E174.SRTMGL1.hgt.zip\n",
      "7 http://e4ftl01.cr.usgs.gov/SRTM/SRTMGL1.003/2000.02.11/S37E175.SRTMGL1.hgt.zip\n",
      "8 http://e4ftl01.cr.usgs.gov/SRTM/SRTMGL1.003/2000.02.11/S37E176.SRTMGL1.hgt.zip\n",
      "9 http://e4ftl01.cr.usgs.gov/SRTM/SRTMGL1.003/2000.02.11/S38E174.SRTMGL1.hgt.zip\n",
      "10 http://e4ftl01.cr.usgs.gov/SRTM/SRTMGL1.003/2000.02.11/S38E175.SRTMGL1.hgt.zip\n",
      "11 http://e4ftl01.cr.usgs.gov/SRTM/SRTMGL1.003/2000.02.11/S38E176.SRTMGL1.hgt.zip\n",
      "12 http://e4ftl01.cr.usgs.gov/SRTM/SRTMGL1.003/2000.02.11/S38E177.SRTMGL1.hgt.zip\n",
      "13 http://e4ftl01.cr.usgs.gov/SRTM/SRTMGL1.003/2000.02.11/S38E178.SRTMGL1.hgt.zip\n",
      "14 http://e4ftl01.cr.usgs.gov/SRTM/SRTMGL1.003/2000.02.11/S39E174.SRTMGL1.hgt.zip\n",
      "15 http://e4ftl01.cr.usgs.gov/SRTM/SRTMGL1.003/2000.02.11/S39E175.SRTMGL1.hgt.zip\n",
      "16 http://e4ftl01.cr.usgs.gov/SRTM/SRTMGL1.003/2000.02.11/S39E176.SRTMGL1.hgt.zip\n",
      "17 http://e4ftl01.cr.usgs.gov/SRTM/SRTMGL1.003/2000.02.11/S39E177.SRTMGL1.hgt.zip\n",
      "18 http://e4ftl01.cr.usgs.gov/SRTM/SRTMGL1.003/2000.02.11/S39E178.SRTMGL1.hgt.zip\n",
      "19 http://e4ftl01.cr.usgs.gov/SRTM/SRTMGL1.003/2000.02.11/S40E173.SRTMGL1.hgt.zip\n",
      "20 http://e4ftl01.cr.usgs.gov/SRTM/SRTMGL1.003/2000.02.11/S40E174.SRTMGL1.hgt.zip\n",
      "21 http://e4ftl01.cr.usgs.gov/SRTM/SRTMGL1.003/2000.02.11/S40E175.SRTMGL1.hgt.zip\n",
      "22 http://e4ftl01.cr.usgs.gov/SRTM/SRTMGL1.003/2000.02.11/S40E176.SRTMGL1.hgt.zip\n",
      "23 http://e4ftl01.cr.usgs.gov/SRTM/SRTMGL1.003/2000.02.11/S40E177.SRTMGL1.hgt.zip\n",
      "24 http://e4ftl01.cr.usgs.gov/SRTM/SRTMGL1.003/2000.02.11/S40E178.SRTMGL1.hgt.zip\n",
      "25 http://e4ftl01.cr.usgs.gov/SRTM/SRTMGL1.003/2000.02.11/S41E172.SRTMGL1.hgt.zip\n",
      "26 http://e4ftl01.cr.usgs.gov/SRTM/SRTMGL1.003/2000.02.11/S41E173.SRTMGL1.hgt.zip\n",
      "27 http://e4ftl01.cr.usgs.gov/SRTM/SRTMGL1.003/2000.02.11/S41E174.SRTMGL1.hgt.zip\n",
      "28 http://e4ftl01.cr.usgs.gov/SRTM/SRTMGL1.003/2000.02.11/S41E175.SRTMGL1.hgt.zip\n",
      "29 http://e4ftl01.cr.usgs.gov/SRTM/SRTMGL1.003/2000.02.11/S41E176.SRTMGL1.hgt.zip\n",
      "30 http://e4ftl01.cr.usgs.gov/SRTM/SRTMGL1.003/2000.02.11/S42E171.SRTMGL1.hgt.zip\n",
      "31 http://e4ftl01.cr.usgs.gov/SRTM/SRTMGL1.003/2000.02.11/S42E172.SRTMGL1.hgt.zip\n",
      "32 http://e4ftl01.cr.usgs.gov/SRTM/SRTMGL1.003/2000.02.11/S42E173.SRTMGL1.hgt.zip\n",
      "33 http://e4ftl01.cr.usgs.gov/SRTM/SRTMGL1.003/2000.02.11/S42E174.SRTMGL1.hgt.zip\n",
      "34 http://e4ftl01.cr.usgs.gov/SRTM/SRTMGL1.003/2000.02.11/S42E175.SRTMGL1.hgt.zip\n",
      "35 http://e4ftl01.cr.usgs.gov/SRTM/SRTMGL1.003/2000.02.11/S42E176.SRTMGL1.hgt.zip\n",
      "36 http://e4ftl01.cr.usgs.gov/SRTM/SRTMGL1.003/2000.02.11/S43E170.SRTMGL1.hgt.zip\n",
      "37 http://e4ftl01.cr.usgs.gov/SRTM/SRTMGL1.003/2000.02.11/S43E171.SRTMGL1.hgt.zip\n",
      "38 http://e4ftl01.cr.usgs.gov/SRTM/SRTMGL1.003/2000.02.11/S43E172.SRTMGL1.hgt.zip\n",
      "39 http://e4ftl01.cr.usgs.gov/SRTM/SRTMGL1.003/2000.02.11/S43E173.SRTMGL1.hgt.zip\n",
      "40 http://e4ftl01.cr.usgs.gov/SRTM/SRTMGL1.003/2000.02.11/S43E174.SRTMGL1.hgt.zip\n",
      "41 http://e4ftl01.cr.usgs.gov/SRTM/SRTMGL1.003/2000.02.11/S44E168.SRTMGL1.hgt.zip\n",
      "42 http://e4ftl01.cr.usgs.gov/SRTM/SRTMGL1.003/2000.02.11/S44E169.SRTMGL1.hgt.zip\n",
      "43 http://e4ftl01.cr.usgs.gov/SRTM/SRTMGL1.003/2000.02.11/S44E170.SRTMGL1.hgt.zip\n",
      "44 http://e4ftl01.cr.usgs.gov/SRTM/SRTMGL1.003/2000.02.11/S44E171.SRTMGL1.hgt.zip\n",
      "45 http://e4ftl01.cr.usgs.gov/SRTM/SRTMGL1.003/2000.02.11/S44E172.SRTMGL1.hgt.zip\n",
      "46 http://e4ftl01.cr.usgs.gov/SRTM/SRTMGL1.003/2000.02.11/S44E173.SRTMGL1.hgt.zip\n",
      "47 http://e4ftl01.cr.usgs.gov/SRTM/SRTMGL1.003/2000.02.11/S45E167.SRTMGL1.hgt.zip\n",
      "48 http://e4ftl01.cr.usgs.gov/SRTM/SRTMGL1.003/2000.02.11/S45E168.SRTMGL1.hgt.zip\n",
      "49 http://e4ftl01.cr.usgs.gov/SRTM/SRTMGL1.003/2000.02.11/S45E169.SRTMGL1.hgt.zip\n",
      "50 http://e4ftl01.cr.usgs.gov/SRTM/SRTMGL1.003/2000.02.11/S45E170.SRTMGL1.hgt.zip\n",
      "51 http://e4ftl01.cr.usgs.gov/SRTM/SRTMGL1.003/2000.02.11/S45E171.SRTMGL1.hgt.zip\n",
      "52 http://e4ftl01.cr.usgs.gov/SRTM/SRTMGL1.003/2000.02.11/S45E172.SRTMGL1.hgt.zip\n",
      "53 http://e4ftl01.cr.usgs.gov/SRTM/SRTMGL1.003/2000.02.11/S46E166.SRTMGL1.hgt.zip\n",
      "54 http://e4ftl01.cr.usgs.gov/SRTM/SRTMGL1.003/2000.02.11/S46E167.SRTMGL1.hgt.zip\n",
      "55 http://e4ftl01.cr.usgs.gov/SRTM/SRTMGL1.003/2000.02.11/S46E168.SRTMGL1.hgt.zip\n",
      "56 http://e4ftl01.cr.usgs.gov/SRTM/SRTMGL1.003/2000.02.11/S46E169.SRTMGL1.hgt.zip\n",
      "57 http://e4ftl01.cr.usgs.gov/SRTM/SRTMGL1.003/2000.02.11/S46E170.SRTMGL1.hgt.zip\n",
      "58 http://e4ftl01.cr.usgs.gov/SRTM/SRTMGL1.003/2000.02.11/S46E171.SRTMGL1.hgt.zip\n",
      "59 http://e4ftl01.cr.usgs.gov/SRTM/SRTMGL1.003/2000.02.11/S47E166.SRTMGL1.hgt.zip\n",
      "60 http://e4ftl01.cr.usgs.gov/SRTM/SRTMGL1.003/2000.02.11/S47E167.SRTMGL1.hgt.zip\n",
      "61 http://e4ftl01.cr.usgs.gov/SRTM/SRTMGL1.003/2000.02.11/S47E168.SRTMGL1.hgt.zip\n",
      "62 http://e4ftl01.cr.usgs.gov/SRTM/SRTMGL1.003/2000.02.11/S47E169.SRTMGL1.hgt.zip\n",
      "63 http://e4ftl01.cr.usgs.gov/SRTM/SRTMGL1.003/2000.02.11/S47E170.SRTMGL1.hgt.zip\n",
      "64 http://e4ftl01.cr.usgs.gov/SRTM/SRTMGL1.003/2000.02.11/S48E167.SRTMGL1.hgt.zip\n",
      "65 http://e4ftl01.cr.usgs.gov/SRTM/SRTMGL1.003/2000.02.11/S48E168.SRTMGL1.hgt.zip\n"
     ]
    }
   ],
   "source": [
    "path = Path('/home/araichev/srtmnz/srtm1')\n",
    "url = \"http://e4ftl01.cr.usgs.gov/SRTM/SRTMGL1.003/2000.02.11/\"\n",
    "for i, tid in enumerate(sorted(nz_tids)):\n",
    "    filename = tid + '.SRTMGL1.hgt.zip'\n",
    "    href = url + filename\n",
    "    print(i, href)\n"
   ]
  },
  {
   "cell_type": "code",
   "execution_count": null,
   "metadata": {
    "collapsed": false
   },
   "outputs": [],
   "source": [
    "# def parse_raster_query(r):\n",
    "#     layers = r['rasterQuery']['layers']\n",
    "#     for layer_id, d in layers.items():\n",
    "#         if d['status'] == 'ok':\n",
    "#             return layer_id\n",
    "\n",
    "# def get_nzsos_tile_name(lon, lat):\n",
    "#     for i, j in [(0, 10), (10, 20), (20, 30)]:\n",
    "#         url = \"http://api.koordinates.com/api/rasterQuery.json/\"\n",
    "#         params = {\n",
    "#             'key': wt.get_secret('KOORDINATES_API_KEY'),\n",
    "#             'layer': wt.NZSOSDEM[i:j],\n",
    "#             'x': lon, \n",
    "#             'y': lat,\n",
    "#         }\n",
    "#         r = requests.get(url, params=params).json()\n",
    "#         if r.status_code != requests.codes.ok:\n",
    "#             raise ValueError('Failed to query', url)\n",
    "#         layer_id = parse_raster_query(r)\n",
    "#         if layer_id is not None:\n",
    "#             break\n",
    "\n",
    "#     return layer_id\n"
   ]
  },
  {
   "cell_type": "code",
   "execution_count": null,
   "metadata": {
    "collapsed": false
   },
   "outputs": [],
   "source": [
    "# # Download elevation test data\n",
    "\n",
    "# TEST_DATA_DIR = DIR/'tests'/'data'\n",
    "# ts = wt.read_transmitters(TEST_DATA_DIR/'transmitters.csv')[:2]\n",
    "# lon_lats = wt.get_lon_lats(ts)\n",
    "# tiles = wt.get_srtm_tile_names(lon_lats)\n",
    "# print('Tiles to download =', tiles)\n",
    "    \n",
    "# wt.download_srtm_nasa(tiles, TEST_DATA_DIR)"
   ]
  },
  {
   "cell_type": "code",
   "execution_count": null,
   "metadata": {
    "collapsed": false
   },
   "outputs": [],
   "source": [
    "transmitters = wt.read_transmitters(IN_DIR/'transmitters.csv')[:2]\n",
    "high_definition = False\n",
    "print(transmitters)"
   ]
  },
  {
   "cell_type": "code",
   "execution_count": null,
   "metadata": {
    "collapsed": false
   },
   "outputs": [],
   "source": [
    "# Download topography data\n",
    "\n",
    "lon_lats = wt.get_lon_lats(transmitters)\n",
    "tiles = wt.get_srtm_tile_names(lon_lats)\n",
    "print('Tiles to download =', tiles)\n",
    "\n",
    "username = None\n",
    "password = None\n",
    "if high_definition:\n",
    "    path = IN_DIR/'srtm1'\n",
    "    try:\n",
    "        username = wt.get_secret('NASA_USERNAME')\n",
    "        password = wt.get_secret('NASA_PASSWORD')\n",
    "    except:\n",
    "        pass\n",
    "else:\n",
    "    path = IN_DIR/'srtm3'\n",
    "    \n",
    "wt.download_srtm_nasa(tiles, path, high_definition=high_definition,\n",
    "  username=username, password=password)"
   ]
  },
  {
   "cell_type": "code",
   "execution_count": null,
   "metadata": {
    "collapsed": false
   },
   "outputs": [],
   "source": [
    "# Create SPLAT transmitter files\n",
    "\n",
    "in_path = IN_DIR/'transmitters.csv'\n",
    "out_path = OUT_DIR/'splat_files'\n",
    "if out_path.exists():\n",
    "    shutil.rmtree(str(out_path))\n",
    "    \n",
    "wt.create_splat_transmitter_files(in_path, out_path)\n",
    "\n",
    "% ls {out_path}"
   ]
  },
  {
   "cell_type": "code",
   "execution_count": null,
   "metadata": {
    "collapsed": false
   },
   "outputs": [],
   "source": [
    "# Create SPLAT topography files\n",
    "\n",
    "if high_definition:\n",
    "    in_path = IN_DIR/'srtm1'\n",
    "else:\n",
    "    in_path = IN_DIR/'srtm3'\n",
    "out_path = OUT_DIR/'splat_files'\n",
    "\n",
    "wt.create_splat_topography_files(in_path, out_path, high_definition=high_definition)\n",
    "\n",
    "% ls {out_path}"
   ]
  },
  {
   "cell_type": "code",
   "execution_count": null,
   "metadata": {
    "collapsed": false
   },
   "outputs": [],
   "source": [
    "# Create coverage reports\n",
    "\n",
    "transmitter_names = [t['name'] for t in transmitters[:1]]\n",
    "in_path = OUT_DIR/'splat_files'\n",
    "out_path = OUT_DIR/'coverage_reports'\n",
    "wt.create_coverage_reports(in_path, out_path, transmitter_names, \n",
    "  high_definition=high_definition)\n",
    "\n",
    "% ls {out_path}"
   ]
  },
  {
   "cell_type": "code",
   "execution_count": null,
   "metadata": {
    "collapsed": false
   },
   "outputs": [],
   "source": [
    "# Post-process coverage reports\n",
    "\n",
    "path = OUT_DIR/'coverage_reports'\n",
    "wt.postprocess_coverage_reports(path, delete_ppm=False)\n",
    "\n",
    "% ls {path}"
   ]
  },
  {
   "cell_type": "code",
   "execution_count": null,
   "metadata": {
    "collapsed": true
   },
   "outputs": [],
   "source": []
  }
 ],
 "metadata": {
  "kernelspec": {
   "display_name": "Python 3",
   "language": "python",
   "name": "python3"
  },
  "language_info": {
   "codemirror_mode": {
    "name": "ipython",
    "version": 3
   },
   "file_extension": ".py",
   "mimetype": "text/x-python",
   "name": "python",
   "nbconvert_exporter": "python",
   "pygments_lexer": "ipython3",
   "version": "3.5.1"
  }
 },
 "nbformat": 4,
 "nbformat_minor": 0
}
