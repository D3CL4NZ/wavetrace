{
 "cells": [
  {
   "cell_type": "code",
   "execution_count": 2,
   "metadata": {
    "collapsed": false
   },
   "outputs": [
    {
     "name": "stdout",
     "output_type": "stream",
     "text": [
      "The autoreload extension is already loaded. To reload it, use:\n",
      "  %reload_ext autoreload\n"
     ]
    }
   ],
   "source": [
    "import sys\n",
    "from pathlib import Path\n",
    "import shutil\n",
    "import json\n",
    "import csv\n",
    "\n",
    "import requests\n",
    "\n",
    "DIR = Path('..')\n",
    "sys.path.append(str(DIR))\n",
    "\n",
    "import wavetrace as wt\n",
    "\n",
    "TMP = DIR/'tmp'\n",
    "IN_DIR = TMP/'inputs'\n",
    "OUT_DIR = TMP/'outputs'\n",
    "\n",
    "%load_ext autoreload\n",
    "%autoreload 2\n",
    "\n",
    "# Start fresh\n",
    "wt.rm_paths(TMP)\n"
   ]
  },
  {
   "cell_type": "code",
   "execution_count": 3,
   "metadata": {
    "collapsed": false
   },
   "outputs": [],
   "source": [
    "# # Visually check that SRTM tiles cover NZ by \n",
    "# # making polygons and viewing them at https://geojson.io.\n",
    "\n",
    "# tids = wt.SRTM_NZ_TILE_IDS\n",
    "# polygons = wt.build_polygons(tids)\n",
    "# collection = {'type': 'FeatureCollection', 'features': polygons}\n",
    "# json.dumps(collection)"
   ]
  },
  {
   "cell_type": "code",
   "execution_count": 4,
   "metadata": {
    "collapsed": false
   },
   "outputs": [],
   "source": [
    "# # Download SRTM data from NASA\n",
    "\n",
    "# path = Path('/home/araichev/srtmnz/srtm1')\n",
    "# url = \"http://e4ftl01.cr.usgs.gov/SRTM/SRTMGL3.003/2000.02.11/\"\n",
    "# #url = \"http://e4ftl01.cr.usgs.gov/SRTM/SRTMGL1.003/2000.02.11/\"\n",
    "# tids = wt.SRTM_NZ_TILE_IDS\n",
    "# for i, tid in enumerate(sorted(tids)):\n",
    "#     filename = tid + '.SRTMGL3.hgt.zip'\n",
    "#     href = url + filename\n",
    "#     print(i, href)"
   ]
  },
  {
   "cell_type": "code",
   "execution_count": 5,
   "metadata": {
    "collapsed": false
   },
   "outputs": [],
   "source": [
    "# # Download elevation test data\n",
    "\n",
    "# TEST_DATA_DIR = DIR/'tests'/'data'\n",
    "# ts = wt.read_transmitters(TEST_DATA_DIR/'transmitters.csv')[:2]\n",
    "# lon_lats = wt.get_lon_lats(ts)\n",
    "# tiles = wt.get_tile_names(lon_lats)\n",
    "# print('Tiles to download =', tiles)\n",
    "# wt.download_srtm(tiles, TEST_DATA_DIR/'srtm3', api_key=wt.get_secret('GITLAB_API_KEY'))"
   ]
  },
  {
   "cell_type": "code",
   "execution_count": 11,
   "metadata": {
    "collapsed": false
   },
   "outputs": [
    {
     "name": "stdout",
     "output_type": "stream",
     "text": [
      "{'vertical_beamwidth': '', 'antenna_height': 10.0, 'polarization': 0.0, 'downtilt': '', 'power_eirp': 4.0, 'latitude': -35.712247, 'site_name': '4', 'name': 'GrayWireless_4', 'frequency': 5725.0, 'longitude': 174.336547, 'bearing': '0', 'horizontal_beamwidth': '', 'network_name': 'Gray Wireless'}\n",
      "{'vertical_beamwidth': '30', 'antenna_height': 20.0, 'polarization': 0.0, 'downtilt': '1', 'power_eirp': 4.0, 'latitude': -35.658841, 'site_name': '5', 'name': 'MyNetwork_5', 'frequency': 5725.0, 'longitude': 174.281534, 'bearing': '0', 'horizontal_beamwidth': '90', 'network_name': 'My Network'}\n"
     ]
    }
   ],
   "source": [
    "high_definition = True\n",
    "\n",
    "path = DIR/'tests'/'data'/'transmitters.csv'\n",
    "transmitters = wt.read_transmitters(path)[:2]\n",
    "for t in transmitters:\n",
    "    print(t)"
   ]
  },
  {
   "cell_type": "code",
   "execution_count": 12,
   "metadata": {
    "collapsed": false
   },
   "outputs": [
    {
     "name": "stdout",
     "output_type": "stream",
     "text": [
      "Tiles to download = {'S36E174'}\n",
      "\u001b[0m\u001b[01;31mS36E174.SRTMGL1.hgt.zip\u001b[0m\n"
     ]
    }
   ],
   "source": [
    "# Download topography data\n",
    "\n",
    "lonlats = wt.get_lonlats(transmitters)\n",
    "tiles = wt.get_tile_ids(lonlats)\n",
    "print('Tiles to download =', tiles)\n",
    "if high_definition:\n",
    "    path = IN_DIR/'srtm1'\n",
    "else:\n",
    "    path = IN_DIR/'srtm3'\n",
    "api_key = wt.get_secret('GITLAB_API_KEY')\n",
    "\n",
    "wt.download_srtm(tiles, path, high_definition=high_definition, api_key=api_key)\n",
    "\n",
    "% ls {path}"
   ]
  },
  {
   "cell_type": "code",
   "execution_count": 14,
   "metadata": {
    "collapsed": false
   },
   "outputs": [
    {
     "name": "stdout",
     "output_type": "stream",
     "text": [
      "CanUCMe_21.az       MyNetwork_11.az   MyNetwork_9.az   Skynet_14.az\r\n",
      "CanUCMe_21.el       MyNetwork_11.el   MyNetwork_9.el   Skynet_14.el\r\n",
      "CanUCMe_21.lrp      MyNetwork_11.lrp  MyNetwork_9.lrp  Skynet_14.lrp\r\n",
      "CanUCMe_21.qth      MyNetwork_11.qth  MyNetwork_9.qth  Skynet_14.qth\r\n",
      "CanUCMe_22.az       MyNetwork_5.az    RuralCom_18.az   Skynet_15.az\r\n",
      "CanUCMe_22.el       MyNetwork_5.el    RuralCom_18.el   Skynet_15.el\r\n",
      "CanUCMe_22.lrp      MyNetwork_5.lrp   RuralCom_18.lrp  Skynet_15.lrp\r\n",
      "CanUCMe_22.qth      MyNetwork_5.qth   RuralCom_18.qth  Skynet_15.qth\r\n",
      "CanUCMe_23.az       MyNetwork_6.az    RuralCom_19.az   Skynet_16.az\r\n",
      "CanUCMe_23.el       MyNetwork_6.el    RuralCom_19.el   Skynet_16.el\r\n",
      "CanUCMe_23.lrp      MyNetwork_6.lrp   RuralCom_19.lrp  Skynet_16.lrp\r\n",
      "CanUCMe_23.qth      MyNetwork_6.qth   RuralCom_19.qth  Skynet_16.qth\r\n",
      "GrayWireless_4.az   MyNetwork_7.az    Skynet_12.az     Skynet_17.az\r\n",
      "GrayWireless_4.el   MyNetwork_7.el    Skynet_12.el     Skynet_17.el\r\n",
      "GrayWireless_4.lrp  MyNetwork_7.lrp   Skynet_12.lrp    Skynet_17.lrp\r\n",
      "GrayWireless_4.qth  MyNetwork_7.qth   Skynet_12.qth    Skynet_17.qth\r\n",
      "MyNetwork_10.az     MyNetwork_8.az    Skynet_13.az     Sonar_20.az\r\n",
      "MyNetwork_10.el     MyNetwork_8.el    Skynet_13.el     Sonar_20.el\r\n",
      "MyNetwork_10.lrp    MyNetwork_8.lrp   Skynet_13.lrp    Sonar_20.lrp\r\n",
      "MyNetwork_10.qth    MyNetwork_8.qth   Skynet_13.qth    Sonar_20.qth\r\n"
     ]
    }
   ],
   "source": [
    "# Create SPLAT transmitter files\n",
    "\n",
    "in_path = DIR/'tests'/'data'/'transmitters.csv'\n",
    "out_path = OUT_DIR/'splat_files'\n",
    "if out_path.exists():\n",
    "    shutil.rmtree(str(out_path))\n",
    "    \n",
    "wt.create_splat_transmitter_files(in_path, out_path)\n",
    "\n",
    "% ls {out_path}"
   ]
  },
  {
   "cell_type": "code",
   "execution_count": 15,
   "metadata": {
    "collapsed": false
   },
   "outputs": [
    {
     "name": "stdout",
     "output_type": "stream",
     "text": [
      "-36:-35:185:186-hd.sdf  MyNetwork_11.az   MyNetwork_9.el   Skynet_14.lrp\r\n",
      "CanUCMe_21.az           MyNetwork_11.el   MyNetwork_9.lrp  Skynet_14.qth\r\n",
      "CanUCMe_21.el           MyNetwork_11.lrp  MyNetwork_9.qth  Skynet_15.az\r\n",
      "CanUCMe_21.lrp          MyNetwork_11.qth  RuralCom_18.az   Skynet_15.el\r\n",
      "CanUCMe_21.qth          MyNetwork_5.az    RuralCom_18.el   Skynet_15.lrp\r\n",
      "CanUCMe_22.az           MyNetwork_5.el    RuralCom_18.lrp  Skynet_15.qth\r\n",
      "CanUCMe_22.el           MyNetwork_5.lrp   RuralCom_18.qth  Skynet_16.az\r\n",
      "CanUCMe_22.lrp          MyNetwork_5.qth   RuralCom_19.az   Skynet_16.el\r\n",
      "CanUCMe_22.qth          MyNetwork_6.az    RuralCom_19.el   Skynet_16.lrp\r\n",
      "CanUCMe_23.az           MyNetwork_6.el    RuralCom_19.lrp  Skynet_16.qth\r\n",
      "CanUCMe_23.el           MyNetwork_6.lrp   RuralCom_19.qth  Skynet_17.az\r\n",
      "CanUCMe_23.lrp          MyNetwork_6.qth   Skynet_12.az     Skynet_17.el\r\n",
      "CanUCMe_23.qth          MyNetwork_7.az    Skynet_12.el     Skynet_17.lrp\r\n",
      "GrayWireless_4.az       MyNetwork_7.el    Skynet_12.lrp    Skynet_17.qth\r\n",
      "GrayWireless_4.el       MyNetwork_7.lrp   Skynet_12.qth    Sonar_20.az\r\n",
      "GrayWireless_4.lrp      MyNetwork_7.qth   Skynet_13.az     Sonar_20.el\r\n",
      "GrayWireless_4.qth      MyNetwork_8.az    Skynet_13.el     Sonar_20.lrp\r\n",
      "MyNetwork_10.az         MyNetwork_8.el    Skynet_13.lrp    Sonar_20.qth\r\n",
      "MyNetwork_10.el         MyNetwork_8.lrp   Skynet_13.qth\r\n",
      "MyNetwork_10.lrp        MyNetwork_8.qth   Skynet_14.az\r\n",
      "MyNetwork_10.qth        MyNetwork_9.az    Skynet_14.el\r\n"
     ]
    }
   ],
   "source": [
    "# Create SPLAT topography files\n",
    "\n",
    "if high_definition:\n",
    "    in_path = IN_DIR/'srtm1'\n",
    "else:\n",
    "    in_path = IN_DIR/'srtm3'\n",
    "out_path = OUT_DIR/'splat_files'\n",
    "\n",
    "wt.create_splat_topography_files(in_path, out_path, high_definition=high_definition)\n",
    "\n",
    "% ls {out_path}"
   ]
  },
  {
   "cell_type": "code",
   "execution_count": null,
   "metadata": {
    "collapsed": false
   },
   "outputs": [
    {
     "name": "stdout",
     "output_type": "stream",
     "text": [
      "Timing create_coverage_reports...\n",
      "2016-08-17 12:47:51.072356   Began process\n"
     ]
    }
   ],
   "source": [
    "# Create coverage reports\n",
    "\n",
    "transmitter_names = [t['name'] for t in transmitters[:1]]\n",
    "in_path = OUT_DIR/'splat_files'\n",
    "out_path = OUT_DIR/'coverage_reports'\n",
    "wt.create_coverage_reports(in_path, out_path, transmitter_names, \n",
    "  high_definition=high_definition)\n",
    "\n",
    "% ls {out_path}"
   ]
  },
  {
   "cell_type": "code",
   "execution_count": null,
   "metadata": {
    "collapsed": false
   },
   "outputs": [],
   "source": [
    "# Post-process coverage reports\n",
    "\n",
    "path = OUT_DIR/'coverage_reports'\n",
    "wt.postprocess_coverage_reports(path)\n",
    "\n",
    "% ls {path}"
   ]
  },
  {
   "cell_type": "code",
   "execution_count": null,
   "metadata": {
    "collapsed": true
   },
   "outputs": [],
   "source": []
  }
 ],
 "metadata": {
  "kernelspec": {
   "display_name": "Python 3",
   "language": "python",
   "name": "python3"
  },
  "language_info": {
   "codemirror_mode": {
    "name": "ipython",
    "version": 3
   },
   "file_extension": ".py",
   "mimetype": "text/x-python",
   "name": "python",
   "nbconvert_exporter": "python",
   "pygments_lexer": "ipython3",
   "version": "3.5.1"
  }
 },
 "nbformat": 4,
 "nbformat_minor": 0
}
