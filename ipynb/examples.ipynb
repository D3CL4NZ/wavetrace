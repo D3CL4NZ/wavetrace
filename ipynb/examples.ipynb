{
 "cells": [
  {
   "cell_type": "code",
   "execution_count": 1,
   "metadata": {
    "collapsed": false
   },
   "outputs": [],
   "source": [
    "import sys\n",
    "from pathlib import Path\n",
    "import shutil\n",
    "import json\n",
    "import csv\n",
    "\n",
    "from shapely.geometry import Point\n",
    "import requests\n",
    "\n",
    "DIR = Path('..')\n",
    "sys.path.append(str(DIR))\n",
    "\n",
    "import wavetrace as wt\n",
    "\n",
    "TMP = DIR/'tmp'\n",
    "IN_DIR = TMP/'inputs'\n",
    "OUT_DIR = TMP/'outputs'\n",
    "\n",
    "%load_ext autoreload\n",
    "%autoreload 2\n",
    "\n"
   ]
  },
  {
   "cell_type": "code",
   "execution_count": 2,
   "metadata": {
    "collapsed": false
   },
   "outputs": [],
   "source": [
    "# # Visually check that SRTM tiles cover NZ by \n",
    "# # making polygons and viewing them at https://geojson.io.\n",
    "\n",
    "# tids = wt.SRTM_NZ_TILE_IDS\n",
    "# collection = {\n",
    "#     'type': 'FeatureCollection', \n",
    "#     'features': list(map(wt.build_feature, tids))\n",
    "#     }\n",
    "# json.dumps(collection)"
   ]
  },
  {
   "cell_type": "code",
   "execution_count": 3,
   "metadata": {
    "collapsed": false
   },
   "outputs": [],
   "source": [
    "# # Download SRTM data from NASA\n",
    "\n",
    "# path = Path('/home/araichev/srtmnz/srtm1')\n",
    "# url = \"http://e4ftl01.cr.usgs.gov/SRTM/SRTMGL3.003/2000.02.11/\"\n",
    "# #url = \"http://e4ftl01.cr.usgs.gov/SRTM/SRTMGL1.003/2000.02.11/\"\n",
    "# tids = wt.SRTM_NZ_TILE_IDS\n",
    "# for i, tid in enumerate(sorted(tids)):\n",
    "#     filename = tid + '.SRTMGL3.hgt.zip'\n",
    "#     href = url + filename\n",
    "#     print(i, href)"
   ]
  },
  {
   "cell_type": "code",
   "execution_count": 4,
   "metadata": {
    "collapsed": false
   },
   "outputs": [],
   "source": [
    "# # Download elevation test data\n",
    "\n",
    "# TEST_DATA_DIR = DIR/'tests'/'data'\n",
    "# ts = wt.read_transmitters(TEST_DATA_DIR/'transmitters.csv')[:2]\n",
    "# lon_lats = wt.get_lon_lats(ts)\n",
    "# tiles = wt.get_tile_names(lon_lats)\n",
    "# print('Tiles to download =', tiles)\n",
    "# wt.download_srtm(tiles, TEST_DATA_DIR/'srtm3', api_key=wt.get_secret('GITLAB_API_KEY'))"
   ]
  },
  {
   "cell_type": "code",
   "execution_count": 5,
   "metadata": {
    "collapsed": true
   },
   "outputs": [],
   "source": [
    "# Start fresh\n",
    "wt.rm_paths(TMP)\n"
   ]
  },
  {
   "cell_type": "code",
   "execution_count": 6,
   "metadata": {
    "collapsed": false
   },
   "outputs": [
    {
     "name": "stdout",
     "output_type": "stream",
     "text": [
      "num transmitters = 20\n",
      "{'vertical_beamwidth': '', 'power_eirp': 4.0, 'site_name': '4', 'antenna_height': 10.0, 'name': 'GrayWireless_4', 'horizontal_beamwidth': '', 'longitude': 174.336547, 'polarization': 0.0, 'downtilt': '', 'frequency': 5725.0, 'latitude': -35.712247, 'network_name': 'Gray Wireless', 'bearing': '0'}\n",
      "{'vertical_beamwidth': '30', 'power_eirp': 4.0, 'site_name': '5', 'antenna_height': 20.0, 'name': 'MyNetwork_5', 'horizontal_beamwidth': '90', 'longitude': 174.281534, 'polarization': 0.0, 'downtilt': '1', 'frequency': 5725.0, 'latitude': -35.658841, 'network_name': 'My Network', 'bearing': '0'}\n",
      "{'vertical_beamwidth': '30', 'power_eirp': 4.0, 'site_name': '6', 'antenna_height': 20.0, 'name': 'MyNetwork_6', 'horizontal_beamwidth': '90', 'longitude': 173.156248, 'polarization': 0.0, 'downtilt': '1', 'frequency': 5725.0, 'latitude': -34.819217, 'network_name': 'My Network', 'bearing': '0'}\n",
      "{'vertical_beamwidth': '30', 'power_eirp': 4.0, 'site_name': '7', 'antenna_height': 20.0, 'name': 'MyNetwork_7', 'horizontal_beamwidth': '90', 'longitude': 173.543255, 'polarization': 0.0, 'downtilt': '1', 'frequency': 5725.0, 'latitude': -35.506041, 'network_name': 'My Network', 'bearing': '0'}\n",
      "{'vertical_beamwidth': '30', 'power_eirp': 4.0, 'site_name': '8', 'antenna_height': 20.0, 'name': 'MyNetwork_8', 'horizontal_beamwidth': '90', 'longitude': 174.201653, 'polarization': 0.0, 'downtilt': '1', 'frequency': 5725.0, 'latitude': -35.216764, 'network_name': 'My Network', 'bearing': '0'}\n",
      "{'vertical_beamwidth': '30', 'power_eirp': 1.0, 'site_name': '9', 'antenna_height': 10.0, 'name': 'MyNetwork_9', 'horizontal_beamwidth': '90', 'longitude': 174.434034, 'polarization': 1.0, 'downtilt': '1', 'frequency': 2400.0, 'latitude': -36.831747, 'network_name': 'My Network', 'bearing': '0'}\n",
      "{'vertical_beamwidth': '30', 'power_eirp': 4.0, 'site_name': '10', 'antenna_height': 10.0, 'name': 'MyNetwork_10', 'horizontal_beamwidth': '90', 'longitude': 174.56047, 'polarization': 1.0, 'downtilt': '1', 'frequency': 2400.0, 'latitude': -37.049911, 'network_name': 'My Network', 'bearing': '20'}\n",
      "{'vertical_beamwidth': '20', 'power_eirp': 4.0, 'site_name': '11', 'antenna_height': 20.0, 'name': 'MyNetwork_11', 'horizontal_beamwidth': '180', 'longitude': 175.40128, 'polarization': 1.0, 'downtilt': '1', 'frequency': 2400.0, 'latitude': -36.540001, 'network_name': 'My Network', 'bearing': '90'}\n",
      "{'vertical_beamwidth': '20', 'power_eirp': 4.0, 'site_name': '12', 'antenna_height': 20.0, 'name': 'Skynet_12', 'horizontal_beamwidth': '180', 'longitude': 175.35, 'polarization': 1.0, 'downtilt': '2', 'frequency': 2400.0, 'latitude': -41.4575, 'network_name': 'Skynet', 'bearing': '340'}\n",
      "{'vertical_beamwidth': '20', 'power_eirp': 4.0, 'site_name': '13', 'antenna_height': 20.0, 'name': 'Skynet_13', 'horizontal_beamwidth': '180', 'longitude': 167.9158333, 'polarization': 1.0, 'downtilt': '3', 'frequency': 2400.0, 'latitude': -46.74, 'network_name': 'Skynet', 'bearing': '0'}\n",
      "{'vertical_beamwidth': '20', 'power_eirp': 4.0, 'site_name': '14', 'antenna_height': 20.0, 'name': 'Skynet_14', 'horizontal_beamwidth': '180', 'longitude': 175.0983333, 'polarization': 1.0, 'downtilt': '4', 'frequency': 2400.0, 'latitude': -37.9925, 'network_name': 'Skynet', 'bearing': '0'}\n",
      "{'vertical_beamwidth': '', 'power_eirp': 4.0, 'site_name': '15', 'antenna_height': 20.0, 'name': 'Skynet_15', 'horizontal_beamwidth': '', 'longitude': 175.7416666, 'polarization': 1.0, 'downtilt': '', 'frequency': 2400.0, 'latitude': -37.5341666, 'network_name': 'Skynet', 'bearing': '0'}\n",
      "{'vertical_beamwidth': '30', 'power_eirp': 4.0, 'site_name': '16', 'antenna_height': 20.0, 'name': 'Skynet_16', 'horizontal_beamwidth': '90', 'longitude': 175.0166667, 'polarization': 1.0, 'downtilt': '1', 'frequency': 2400.0, 'latitude': -41.35, 'network_name': 'Skynet', 'bearing': '34'}\n",
      "{'vertical_beamwidth': '40', 'power_eirp': 4.0, 'site_name': '17', 'antenna_height': 20.0, 'name': 'Skynet_17', 'horizontal_beamwidth': '10', 'longitude': 168.6833333, 'polarization': 1.0, 'downtilt': '1', 'frequency': 2400.0, 'latitude': -45.2666667, 'network_name': 'Skynet', 'bearing': '0'}\n",
      "{'vertical_beamwidth': '30', 'power_eirp': 4.0, 'site_name': '18', 'antenna_height': 20.0, 'name': 'RuralCom_18', 'horizontal_beamwidth': '90', 'longitude': 176.82643, 'polarization': 1.0, 'downtilt': '1', 'frequency': 2400.0, 'latitude': -39.52559, 'network_name': 'RuralCom', 'bearing': '0'}\n",
      "{'vertical_beamwidth': '30', 'power_eirp': 4.0, 'site_name': '19', 'antenna_height': 20.0, 'name': 'RuralCom_19', 'horizontal_beamwidth': '270', 'longitude': 175.75, 'polarization': 1.0, 'downtilt': '1', 'frequency': 2400.0, 'latitude': -40.355, 'network_name': 'RuralCom', 'bearing': '0'}\n",
      "{'vertical_beamwidth': '30', 'power_eirp': 4.0, 'site_name': '20', 'antenna_height': 20.0, 'name': 'Sonar_20', 'horizontal_beamwidth': '90', 'longitude': 176.6601, 'polarization': 1.0, 'downtilt': '1', 'frequency': 2400.0, 'latitude': -37.5063, 'network_name': 'Sonar', 'bearing': '0'}\n",
      "{'vertical_beamwidth': '20', 'power_eirp': 1.0, 'site_name': '21', 'antenna_height': 30.0, 'name': 'CanUCMe_21', 'horizontal_beamwidth': '45', 'longitude': 175.662501, 'polarization': 0.0, 'downtilt': '1', 'frequency': 3665.0, 'latitude': -40.948184, 'network_name': 'CanUCMe', 'bearing': '0'}\n",
      "{'vertical_beamwidth': '20', 'power_eirp': 1.0, 'site_name': '22', 'antenna_height': 30.0, 'name': 'CanUCMe_22', 'horizontal_beamwidth': '45', 'longitude': 175.662501, 'polarization': 0.0, 'downtilt': '1', 'frequency': 3685.0, 'latitude': -40.948184, 'network_name': 'CanUCMe', 'bearing': '90'}\n",
      "{'vertical_beamwidth': '5', 'power_eirp': 2.0, 'site_name': '23', 'antenna_height': 25.0, 'name': 'CanUCMe_23', 'horizontal_beamwidth': '5', 'longitude': 175.754578, 'polarization': 1.0, 'downtilt': '1', 'frequency': 24000.0, 'latitude': -40.975633, 'network_name': 'CanUCMe', 'bearing': '260'}\n"
     ]
    }
   ],
   "source": [
    "high_definition = True\n",
    "\n",
    "path = DIR/'tests'/'data'/'transmitters.csv'\n",
    "transmitters = wt.read_transmitters(path)\n",
    "print('num transmitters =', len(transmitters))\n",
    "for t in transmitters:\n",
    "    print(t)"
   ]
  },
  {
   "cell_type": "code",
   "execution_count": null,
   "metadata": {
    "collapsed": false
   },
   "outputs": [
    {
     "name": "stdout",
     "output_type": "stream",
     "text": [
      "CanUCMe_21.az       MyNetwork_11.az   MyNetwork_9.az   Skynet_14.az\r\n",
      "CanUCMe_21.el       MyNetwork_11.el   MyNetwork_9.el   Skynet_14.el\r\n",
      "CanUCMe_21.lrp      MyNetwork_11.lrp  MyNetwork_9.lrp  Skynet_14.lrp\r\n",
      "CanUCMe_21.qth      MyNetwork_11.qth  MyNetwork_9.qth  Skynet_14.qth\r\n",
      "CanUCMe_22.az       MyNetwork_5.az    RuralCom_18.az   Skynet_15.az\r\n",
      "CanUCMe_22.el       MyNetwork_5.el    RuralCom_18.el   Skynet_15.el\r\n",
      "CanUCMe_22.lrp      MyNetwork_5.lrp   RuralCom_18.lrp  Skynet_15.lrp\r\n",
      "CanUCMe_22.qth      MyNetwork_5.qth   RuralCom_18.qth  Skynet_15.qth\r\n",
      "CanUCMe_23.az       MyNetwork_6.az    RuralCom_19.az   Skynet_16.az\r\n",
      "CanUCMe_23.el       MyNetwork_6.el    RuralCom_19.el   Skynet_16.el\r\n",
      "CanUCMe_23.lrp      MyNetwork_6.lrp   RuralCom_19.lrp  Skynet_16.lrp\r\n",
      "CanUCMe_23.qth      MyNetwork_6.qth   RuralCom_19.qth  Skynet_16.qth\r\n",
      "GrayWireless_4.az   MyNetwork_7.az    Skynet_12.az     Skynet_17.az\r\n",
      "GrayWireless_4.el   MyNetwork_7.el    Skynet_12.el     Skynet_17.el\r\n",
      "GrayWireless_4.lrp  MyNetwork_7.lrp   Skynet_12.lrp    Skynet_17.lrp\r\n",
      "GrayWireless_4.qth  MyNetwork_7.qth   Skynet_12.qth    Skynet_17.qth\r\n",
      "MyNetwork_10.az     MyNetwork_8.az    Skynet_13.az     Sonar_20.az\r\n",
      "MyNetwork_10.el     MyNetwork_8.el    Skynet_13.el     Sonar_20.el\r\n",
      "MyNetwork_10.lrp    MyNetwork_8.lrp   Skynet_13.lrp    Sonar_20.lrp\r\n",
      "MyNetwork_10.qth    MyNetwork_8.qth   Skynet_13.qth    Sonar_20.qth\r\n"
     ]
    }
   ],
   "source": [
    "# Create SPLAT transmitter files\n",
    "\n",
    "in_path = DIR/'tests'/'data'/'transmitters.csv'\n",
    "out_path = OUT_DIR/'splat_files'\n",
    "if out_path.exists():\n",
    "    shutil.rmtree(str(out_path))\n",
    "    \n",
    "wt.create_splat_transmitter_files(in_path, out_path)\n",
    "\n",
    "% ls {out_path}"
   ]
  },
  {
   "cell_type": "code",
   "execution_count": null,
   "metadata": {
    "collapsed": false
   },
   "outputs": [
    {
     "name": "stdout",
     "output_type": "stream",
     "text": [
      "Tiles to download = ['S35E173', 'S36E173', 'S36E174', 'S37E174', 'S37E175', 'S38E174', 'S38E175', 'S38E176', 'S40E176', 'S41E175', 'S42E175', 'S46E168', 'S47E167']\n"
     ]
    }
   ],
   "source": [
    "# Download topography data\n",
    "\n",
    "points = [Point(p) for p in wt.get_lonlats(transmitters)]\n",
    "tids = wt.compute_tile_cover(list(points))\n",
    "print('Tiles to download =', tids)\n",
    "\n",
    "if high_definition:\n",
    "    path = IN_DIR/'srtm1'\n",
    "else:\n",
    "    path = IN_DIR/'srtm3'\n",
    "api_key = wt.get_secret('GITLAB_API_KEY')\n",
    "\n",
    "wt.download_srtm(tids, path, high_definition=high_definition, api_key=api_key)\n",
    "\n",
    "% ls {path}"
   ]
  },
  {
   "cell_type": "code",
   "execution_count": null,
   "metadata": {
    "collapsed": false
   },
   "outputs": [],
   "source": [
    "# Create SPLAT topography files\n",
    "\n",
    "if high_definition:\n",
    "    in_path = IN_DIR/'srtm1'\n",
    "else:\n",
    "    in_path = IN_DIR/'srtm3'\n",
    "out_path = OUT_DIR/'splat_files'\n",
    "\n",
    "wt.create_splat_topography_files(in_path, out_path, high_definition=high_definition)\n",
    "\n",
    "% ls {out_path}"
   ]
  },
  {
   "cell_type": "code",
   "execution_count": null,
   "metadata": {
    "collapsed": false
   },
   "outputs": [],
   "source": [
    "# Create coverage reports\n",
    "\n",
    "in_path = OUT_DIR/'splat_files'\n",
    "out_path = OUT_DIR/'coverage_reports'\n",
    "wt.create_coverage_reports(in_path, out_path, transmitters=transmitters, \n",
    "  high_definition=high_definition)\n",
    "\n",
    "% ls {out_path}"
   ]
  },
  {
   "cell_type": "code",
   "execution_count": null,
   "metadata": {
    "collapsed": false
   },
   "outputs": [],
   "source": [
    "# Post-process coverage reports\n",
    "\n",
    "path = OUT_DIR/'coverage_reports'\n",
    "wt.postprocess_coverage_reports(path)\n",
    "\n",
    "% ls {path}"
   ]
  },
  {
   "cell_type": "code",
   "execution_count": null,
   "metadata": {
    "collapsed": true
   },
   "outputs": [],
   "source": []
  }
 ],
 "metadata": {
  "kernelspec": {
   "display_name": "Python 3",
   "language": "python",
   "name": "python3"
  },
  "language_info": {
   "codemirror_mode": {
    "name": "ipython",
    "version": 3
   },
   "file_extension": ".py",
   "mimetype": "text/x-python",
   "name": "python",
   "nbconvert_exporter": "python",
   "pygments_lexer": "ipython3",
   "version": "3.5.1"
  }
 },
 "nbformat": 4,
 "nbformat_minor": 0
}
