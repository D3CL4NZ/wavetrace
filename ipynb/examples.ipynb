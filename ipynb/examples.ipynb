{
 "cells": [
  {
   "cell_type": "code",
   "execution_count": 6,
   "metadata": {
    "collapsed": false
   },
   "outputs": [
    {
     "name": "stdout",
     "output_type": "stream",
     "text": [
      "The autoreload extension is already loaded. To reload it, use:\n",
      "  %reload_ext autoreload\n"
     ]
    }
   ],
   "source": [
    "import sys\n",
    "from pathlib import Path\n",
    "import shutil\n",
    "\n",
    "import requests\n",
    "\n",
    "DIR = Path('..')\n",
    "sys.path.append(str(DIR))\n",
    "\n",
    "import wavetrace as wt\n",
    "\n",
    "IN_DIR = DIR/'example_data'/'inputs'\n",
    "OUT_DIR = DIR/'example_data'/'outputs'\n",
    "\n",
    "%load_ext autoreload\n",
    "%autoreload 2\n",
    "\n"
   ]
  },
  {
   "cell_type": "code",
   "execution_count": 2,
   "metadata": {
    "collapsed": false
   },
   "outputs": [],
   "source": [
    "transmitters = wt.read_transmitters(IN_DIR/'transmitters.csv')[:2]\n",
    "high_definition = True\n"
   ]
  },
  {
   "cell_type": "code",
   "execution_count": null,
   "metadata": {
    "collapsed": false
   },
   "outputs": [],
   "source": [
    "# # Download elevation test data\n",
    "\n",
    "# TEST_DATA_DIR = DIR/'tests'/'data'\n",
    "# ts = wt.read_transmitters(TEST_DATA_DIR/'transmitters.csv')[:2]\n",
    "# lon_lats = wt.get_lon_lats(ts)\n",
    "# tiles = wt.get_srtm_tile_names(lon_lats)\n",
    "# print('Tiles to download =', tiles)\n",
    "    \n",
    "# wt.download_topography_nasa(tiles, TEST_DATA_DIR)"
   ]
  },
  {
   "cell_type": "code",
   "execution_count": 3,
   "metadata": {
    "collapsed": false
   },
   "outputs": [
    {
     "name": "stdout",
     "output_type": "stream",
     "text": [
      "Tiles to download = {'S36E174'}\n"
     ]
    },
    {
     "ename": "NotImplementedError",
     "evalue": "Downloading high definition data has not been implemented yet",
     "output_type": "error",
     "traceback": [
      "\u001b[0;31m---------------------------------------------------------------------------\u001b[0m",
      "\u001b[0;31mNotImplementedError\u001b[0m                       Traceback (most recent call last)",
      "\u001b[0;32m<ipython-input-3-9c25d5389af9>\u001b[0m in \u001b[0;36m<module>\u001b[0;34m()\u001b[0m\n\u001b[1;32m     18\u001b[0m \u001b[0;34m\u001b[0m\u001b[0m\n\u001b[1;32m     19\u001b[0m wt.download_topography_nasa(tiles, path, high_definition=high_definition,\n\u001b[0;32m---> 20\u001b[0;31m   username=username, password=password)\n\u001b[0m",
      "\u001b[0;32m/home/araichev/wavetrace/wavetrace/downloader.py\u001b[0m in \u001b[0;36mdownload_topography_nasa\u001b[0;34m(srtm_tile_names, path, high_definition, username, password)\u001b[0m\n\u001b[1;32m     41\u001b[0m     \"\"\"\n\u001b[1;32m     42\u001b[0m     \u001b[0;32mif\u001b[0m \u001b[0mhigh_definition\u001b[0m\u001b[0;34m:\u001b[0m\u001b[0;34m\u001b[0m\u001b[0m\n\u001b[0;32m---> 43\u001b[0;31m         \u001b[0;32mraise\u001b[0m \u001b[0mNotImplementedError\u001b[0m\u001b[0;34m(\u001b[0m\u001b[0;34m'Downloading high definition data has not been implemented yet'\u001b[0m\u001b[0;34m)\u001b[0m\u001b[0;34m\u001b[0m\u001b[0m\n\u001b[0m\u001b[1;32m     44\u001b[0m         \u001b[0mext\u001b[0m \u001b[0;34m=\u001b[0m \u001b[0;34m'.SRTMGL1.hgt.zip'\u001b[0m\u001b[0;34m\u001b[0m\u001b[0m\n\u001b[1;32m     45\u001b[0m         \u001b[0mpattern\u001b[0m \u001b[0;34m=\u001b[0m \u001b[0mre\u001b[0m\u001b[0;34m.\u001b[0m\u001b[0mcompile\u001b[0m\u001b[0;34m(\u001b[0m\u001b[0;34mr'^\\w+\\.SRTMGL1\\.hgt\\.zip$'\u001b[0m\u001b[0;34m)\u001b[0m\u001b[0;34m\u001b[0m\u001b[0m\n",
      "\u001b[0;31mNotImplementedError\u001b[0m: Downloading high definition data has not been implemented yet"
     ]
    }
   ],
   "source": [
    "# Download topography data\n",
    "\n",
    "lon_lats = wt.get_lon_lats(transmitters)\n",
    "tiles = wt.get_srtm_tile_names(lon_lats)\n",
    "print('Tiles to download =', tiles)\n",
    "\n",
    "username = None\n",
    "password = None\n",
    "if high_definition:\n",
    "    path = IN_DIR/'topography-hd'\n",
    "    try:\n",
    "        username = wt.get_secret('NASA_USERNAME')\n",
    "        password = wt.get_secret('NASA_PASSWORD')\n",
    "    except:\n",
    "        pass\n",
    "else:\n",
    "    path = IN_DIR/'topography-sd'\n",
    "    \n",
    "wt.download_topography_nasa(tiles, path, high_definition=high_definition,\n",
    "  username=username, password=password)"
   ]
  },
  {
   "cell_type": "code",
   "execution_count": 7,
   "metadata": {
    "collapsed": false
   },
   "outputs": [
    {
     "name": "stdout",
     "output_type": "stream",
     "text": [
      "CanUCMe_21.az       MyNetwork_11.az   MyNetwork_9.az   Skynet_14.az\r\n",
      "CanUCMe_21.el       MyNetwork_11.el   MyNetwork_9.el   Skynet_14.el\r\n",
      "CanUCMe_21.lrp      MyNetwork_11.lrp  MyNetwork_9.lrp  Skynet_14.lrp\r\n",
      "CanUCMe_21.qth      MyNetwork_11.qth  MyNetwork_9.qth  Skynet_14.qth\r\n",
      "CanUCMe_22.az       MyNetwork_5.az    RuralCom_18.az   Skynet_15.az\r\n",
      "CanUCMe_22.el       MyNetwork_5.el    RuralCom_18.el   Skynet_15.el\r\n",
      "CanUCMe_22.lrp      MyNetwork_5.lrp   RuralCom_18.lrp  Skynet_15.lrp\r\n",
      "CanUCMe_22.qth      MyNetwork_5.qth   RuralCom_18.qth  Skynet_15.qth\r\n",
      "CanUCMe_23.az       MyNetwork_6.az    RuralCom_19.az   Skynet_16.az\r\n",
      "CanUCMe_23.el       MyNetwork_6.el    RuralCom_19.el   Skynet_16.el\r\n",
      "CanUCMe_23.lrp      MyNetwork_6.lrp   RuralCom_19.lrp  Skynet_16.lrp\r\n",
      "CanUCMe_23.qth      MyNetwork_6.qth   RuralCom_19.qth  Skynet_16.qth\r\n",
      "GrayWireless_4.az   MyNetwork_7.az    Skynet_12.az     Skynet_17.az\r\n",
      "GrayWireless_4.el   MyNetwork_7.el    Skynet_12.el     Skynet_17.el\r\n",
      "GrayWireless_4.lrp  MyNetwork_7.lrp   Skynet_12.lrp    Skynet_17.lrp\r\n",
      "GrayWireless_4.qth  MyNetwork_7.qth   Skynet_12.qth    Skynet_17.qth\r\n",
      "MyNetwork_10.az     MyNetwork_8.az    Skynet_13.az     Sonar_20.az\r\n",
      "MyNetwork_10.el     MyNetwork_8.el    Skynet_13.el     Sonar_20.el\r\n",
      "MyNetwork_10.lrp    MyNetwork_8.lrp   Skynet_13.lrp    Sonar_20.lrp\r\n",
      "MyNetwork_10.qth    MyNetwork_8.qth   Skynet_13.qth    Sonar_20.qth\r\n"
     ]
    }
   ],
   "source": [
    "# Create SPLAT transmitter files\n",
    "\n",
    "in_path = IN_DIR/'transmitters.csv'\n",
    "out_path = OUT_DIR/'splat_files'\n",
    "if out_path.exists():\n",
    "    shutil.rmtree(str(out_path))\n",
    "    \n",
    "wt.create_splat_transmitter_files(in_path, out_path)\n",
    "\n",
    "% ls {out_path}"
   ]
  },
  {
   "cell_type": "code",
   "execution_count": 9,
   "metadata": {
    "collapsed": false
   },
   "outputs": [
    {
     "name": "stdout",
     "output_type": "stream",
     "text": [
      "-36:-35:185:186-hd.sdf  MyNetwork_11.az   MyNetwork_9.el   Skynet_14.lrp\r\n",
      "CanUCMe_21.az           MyNetwork_11.el   MyNetwork_9.lrp  Skynet_14.qth\r\n",
      "CanUCMe_21.el           MyNetwork_11.lrp  MyNetwork_9.qth  Skynet_15.az\r\n",
      "CanUCMe_21.lrp          MyNetwork_11.qth  RuralCom_18.az   Skynet_15.el\r\n",
      "CanUCMe_21.qth          MyNetwork_5.az    RuralCom_18.el   Skynet_15.lrp\r\n",
      "CanUCMe_22.az           MyNetwork_5.el    RuralCom_18.lrp  Skynet_15.qth\r\n",
      "CanUCMe_22.el           MyNetwork_5.lrp   RuralCom_18.qth  Skynet_16.az\r\n",
      "CanUCMe_22.lrp          MyNetwork_5.qth   RuralCom_19.az   Skynet_16.el\r\n",
      "CanUCMe_22.qth          MyNetwork_6.az    RuralCom_19.el   Skynet_16.lrp\r\n",
      "CanUCMe_23.az           MyNetwork_6.el    RuralCom_19.lrp  Skynet_16.qth\r\n",
      "CanUCMe_23.el           MyNetwork_6.lrp   RuralCom_19.qth  Skynet_17.az\r\n",
      "CanUCMe_23.lrp          MyNetwork_6.qth   Skynet_12.az     Skynet_17.el\r\n",
      "CanUCMe_23.qth          MyNetwork_7.az    Skynet_12.el     Skynet_17.lrp\r\n",
      "GrayWireless_4.az       MyNetwork_7.el    Skynet_12.lrp    Skynet_17.qth\r\n",
      "GrayWireless_4.el       MyNetwork_7.lrp   Skynet_12.qth    Sonar_20.az\r\n",
      "GrayWireless_4.lrp      MyNetwork_7.qth   Skynet_13.az     Sonar_20.el\r\n",
      "GrayWireless_4.qth      MyNetwork_8.az    Skynet_13.el     Sonar_20.lrp\r\n",
      "MyNetwork_10.az         MyNetwork_8.el    Skynet_13.lrp    Sonar_20.qth\r\n",
      "MyNetwork_10.el         MyNetwork_8.lrp   Skynet_13.qth\r\n",
      "MyNetwork_10.lrp        MyNetwork_8.qth   Skynet_14.az\r\n",
      "MyNetwork_10.qth        MyNetwork_9.az    Skynet_14.el\r\n"
     ]
    }
   ],
   "source": [
    "# Create SPLAT topography files\n",
    "\n",
    "if high_definition:\n",
    "    in_path = IN_DIR/'topography-hd'\n",
    "else:\n",
    "    in_path = IN_DIR/'topography-sd'\n",
    "out_path = OUT_DIR/'splat_files'\n",
    "\n",
    "wt.create_splat_topography_files(in_path, out_path, high_definition=high_definition)\n",
    "\n",
    "% ls {out_path}"
   ]
  },
  {
   "cell_type": "code",
   "execution_count": null,
   "metadata": {
    "collapsed": false
   },
   "outputs": [
    {
     "name": "stdout",
     "output_type": "stream",
     "text": [
      "Timing create_coverage_reports...\n",
      "2016-08-10 17:41:23.585768   Began process\n"
     ]
    }
   ],
   "source": [
    "# Create coverage reports\n",
    "\n",
    "transmitter_names = [t['name'] for t in transmitters[:1]]\n",
    "in_path = OUT_DIR/'splat_files'\n",
    "out_path = OUT_DIR/'coverage_reports'\n",
    "wt.create_coverage_reports(in_path, out_path, transmitter_names, \n",
    "  high_definition=high_definition)\n",
    "\n",
    "% ls {out_path}"
   ]
  },
  {
   "cell_type": "code",
   "execution_count": null,
   "metadata": {
    "collapsed": false
   },
   "outputs": [],
   "source": [
    "# Post-process coverage reports\n",
    "\n",
    "path = OUT_DIR/'coverage_reports'\n",
    "wt.postprocess_coverage_reports(path, delete_ppm=False)\n",
    "\n",
    "% ls {path}"
   ]
  },
  {
   "cell_type": "code",
   "execution_count": null,
   "metadata": {
    "collapsed": true
   },
   "outputs": [],
   "source": []
  }
 ],
 "metadata": {
  "kernelspec": {
   "display_name": "Python 3",
   "language": "python",
   "name": "python3"
  },
  "language_info": {
   "codemirror_mode": {
    "name": "ipython",
    "version": 3
   },
   "file_extension": ".py",
   "mimetype": "text/x-python",
   "name": "python",
   "nbconvert_exporter": "python",
   "pygments_lexer": "ipython3",
   "version": "3.5.1"
  }
 },
 "nbformat": 4,
 "nbformat_minor": 0
}
