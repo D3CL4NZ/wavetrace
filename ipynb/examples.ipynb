{
 "cells": [
  {
   "cell_type": "code",
   "execution_count": 1,
   "metadata": {
    "collapsed": false
   },
   "outputs": [],
   "source": [
    "import sys\n",
    "from pathlib import Path\n",
    "import shutil\n",
    "import json\n",
    "import csv\n",
    "\n",
    "from shapely.geometry import Point\n",
    "import requests\n",
    "\n",
    "DIR = Path('..')\n",
    "sys.path.append(str(DIR))\n",
    "\n",
    "import wavetrace as wt\n",
    "\n",
    "TMP = DIR/'tmp'\n",
    "IN_DIR = TMP/'inputs'\n",
    "OUT_DIR = TMP/'outputs'\n",
    "\n",
    "%load_ext autoreload\n",
    "%autoreload 2\n",
    "\n"
   ]
  },
  {
   "cell_type": "code",
   "execution_count": 16,
   "metadata": {
    "collapsed": false
   },
   "outputs": [
    {
     "data": {
      "text/plain": [
       "111.19492664455873"
      ]
     },
     "execution_count": 16,
     "metadata": {},
     "output_type": "execute_result"
    }
   ],
   "source": [
    "import math\n",
    "\n",
    "6371*math.pi/180\n"
   ]
  },
  {
   "cell_type": "code",
   "execution_count": 2,
   "metadata": {
    "collapsed": false
   },
   "outputs": [],
   "source": [
    "# # Visually check that SRTM tiles cover NZ by \n",
    "# # making polygons and viewing them at https://geojson.io.\n",
    "\n",
    "# tids = wt.SRTM_NZ_TILE_IDS\n",
    "# collection = {\n",
    "#     'type': 'FeatureCollection', \n",
    "#     'features': list(map(wt.build_feature, tids))\n",
    "#     }\n",
    "# json.dumps(collection)"
   ]
  },
  {
   "cell_type": "code",
   "execution_count": 3,
   "metadata": {
    "collapsed": false
   },
   "outputs": [],
   "source": [
    "# # Download SRTM data from NASA\n",
    "\n",
    "# path = Path('/home/araichev/srtmnz/srtm1')\n",
    "# url = \"http://e4ftl01.cr.usgs.gov/SRTM/SRTMGL3.003/2000.02.11/\"\n",
    "# #url = \"http://e4ftl01.cr.usgs.gov/SRTM/SRTMGL1.003/2000.02.11/\"\n",
    "# tids = wt.SRTM_NZ_TILE_IDS\n",
    "# for i, tid in enumerate(sorted(tids)):\n",
    "#     filename = tid + '.SRTMGL3.hgt.zip'\n",
    "#     href = url + filename\n",
    "#     print(i, href)"
   ]
  },
  {
   "cell_type": "code",
   "execution_count": 4,
   "metadata": {
    "collapsed": false
   },
   "outputs": [],
   "source": [
    "# # Download elevation test data\n",
    "\n",
    "# TEST_DATA_DIR = DIR/'tests'/'data'\n",
    "# ts = wt.read_transmitters(TEST_DATA_DIR/'transmitters.csv')[:2]\n",
    "# lon_lats = wt.get_lon_lats(ts)\n",
    "# tiles = wt.get_tile_names(lon_lats)\n",
    "# print('Tiles to download =', tiles)\n",
    "# wt.download_srtm(tiles, TEST_DATA_DIR/'srtm3', api_key=wt.get_secret('GITLAB_API_KEY'))"
   ]
  },
  {
   "cell_type": "code",
   "execution_count": 5,
   "metadata": {
    "collapsed": true
   },
   "outputs": [],
   "source": [
    "# Start fresh\n",
    "wt.rm_paths(TMP)\n"
   ]
  },
  {
   "cell_type": "code",
   "execution_count": 12,
   "metadata": {
    "collapsed": false
   },
   "outputs": [
    {
     "name": "stdout",
     "output_type": "stream",
     "text": [
      "num transmitters = 20\n",
      "{'vertical_beamwidth': '', 'power_eirp': 4.0, 'site_name': '4', 'antenna_height': 10.0, 'name': 'GrayWireless_4', 'horizontal_beamwidth': '', 'longitude': 174.336547, 'polarization': 0.0, 'downtilt': '', 'frequency': 5725.0, 'latitude': -35.712247, 'network_name': 'Gray Wireless', 'bearing': '0'}\n",
      "{'vertical_beamwidth': '30', 'power_eirp': 4.0, 'site_name': '5', 'antenna_height': 20.0, 'name': 'MyNetwork_5', 'horizontal_beamwidth': '90', 'longitude': 174.281534, 'polarization': 0.0, 'downtilt': '1', 'frequency': 5725.0, 'latitude': -35.658841, 'network_name': 'My Network', 'bearing': '0'}\n",
      "{'vertical_beamwidth': '30', 'power_eirp': 4.0, 'site_name': '6', 'antenna_height': 20.0, 'name': 'MyNetwork_6', 'horizontal_beamwidth': '90', 'longitude': 173.156248, 'polarization': 0.0, 'downtilt': '1', 'frequency': 5725.0, 'latitude': -34.819217, 'network_name': 'My Network', 'bearing': '0'}\n",
      "{'vertical_beamwidth': '30', 'power_eirp': 4.0, 'site_name': '7', 'antenna_height': 20.0, 'name': 'MyNetwork_7', 'horizontal_beamwidth': '90', 'longitude': 173.543255, 'polarization': 0.0, 'downtilt': '1', 'frequency': 5725.0, 'latitude': -35.506041, 'network_name': 'My Network', 'bearing': '0'}\n",
      "{'vertical_beamwidth': '30', 'power_eirp': 4.0, 'site_name': '8', 'antenna_height': 20.0, 'name': 'MyNetwork_8', 'horizontal_beamwidth': '90', 'longitude': 174.201653, 'polarization': 0.0, 'downtilt': '1', 'frequency': 5725.0, 'latitude': -35.216764, 'network_name': 'My Network', 'bearing': '0'}\n",
      "{'vertical_beamwidth': '30', 'power_eirp': 1.0, 'site_name': '9', 'antenna_height': 10.0, 'name': 'MyNetwork_9', 'horizontal_beamwidth': '90', 'longitude': 174.434034, 'polarization': 1.0, 'downtilt': '1', 'frequency': 2400.0, 'latitude': -36.831747, 'network_name': 'My Network', 'bearing': '0'}\n",
      "{'vertical_beamwidth': '30', 'power_eirp': 4.0, 'site_name': '10', 'antenna_height': 10.0, 'name': 'MyNetwork_10', 'horizontal_beamwidth': '90', 'longitude': 174.56047, 'polarization': 1.0, 'downtilt': '1', 'frequency': 2400.0, 'latitude': -37.049911, 'network_name': 'My Network', 'bearing': '20'}\n",
      "{'vertical_beamwidth': '20', 'power_eirp': 4.0, 'site_name': '11', 'antenna_height': 20.0, 'name': 'MyNetwork_11', 'horizontal_beamwidth': '180', 'longitude': 175.40128, 'polarization': 1.0, 'downtilt': '1', 'frequency': 2400.0, 'latitude': -36.540001, 'network_name': 'My Network', 'bearing': '90'}\n",
      "{'vertical_beamwidth': '20', 'power_eirp': 4.0, 'site_name': '12', 'antenna_height': 20.0, 'name': 'Skynet_12', 'horizontal_beamwidth': '180', 'longitude': 175.35, 'polarization': 1.0, 'downtilt': '2', 'frequency': 2400.0, 'latitude': -41.4575, 'network_name': 'Skynet', 'bearing': '340'}\n",
      "{'vertical_beamwidth': '20', 'power_eirp': 4.0, 'site_name': '13', 'antenna_height': 20.0, 'name': 'Skynet_13', 'horizontal_beamwidth': '180', 'longitude': 167.9158333, 'polarization': 1.0, 'downtilt': '3', 'frequency': 2400.0, 'latitude': -46.74, 'network_name': 'Skynet', 'bearing': '0'}\n",
      "{'vertical_beamwidth': '20', 'power_eirp': 4.0, 'site_name': '14', 'antenna_height': 20.0, 'name': 'Skynet_14', 'horizontal_beamwidth': '180', 'longitude': 175.0983333, 'polarization': 1.0, 'downtilt': '4', 'frequency': 2400.0, 'latitude': -37.9925, 'network_name': 'Skynet', 'bearing': '0'}\n",
      "{'vertical_beamwidth': '', 'power_eirp': 4.0, 'site_name': '15', 'antenna_height': 20.0, 'name': 'Skynet_15', 'horizontal_beamwidth': '', 'longitude': 175.7416666, 'polarization': 1.0, 'downtilt': '', 'frequency': 2400.0, 'latitude': -37.5341666, 'network_name': 'Skynet', 'bearing': '0'}\n",
      "{'vertical_beamwidth': '30', 'power_eirp': 4.0, 'site_name': '16', 'antenna_height': 20.0, 'name': 'Skynet_16', 'horizontal_beamwidth': '90', 'longitude': 175.0166667, 'polarization': 1.0, 'downtilt': '1', 'frequency': 2400.0, 'latitude': -41.35, 'network_name': 'Skynet', 'bearing': '34'}\n",
      "{'vertical_beamwidth': '40', 'power_eirp': 4.0, 'site_name': '17', 'antenna_height': 20.0, 'name': 'Skynet_17', 'horizontal_beamwidth': '10', 'longitude': 168.6833333, 'polarization': 1.0, 'downtilt': '1', 'frequency': 2400.0, 'latitude': -45.2666667, 'network_name': 'Skynet', 'bearing': '0'}\n",
      "{'vertical_beamwidth': '30', 'power_eirp': 4.0, 'site_name': '18', 'antenna_height': 20.0, 'name': 'RuralCom_18', 'horizontal_beamwidth': '90', 'longitude': 176.82643, 'polarization': 1.0, 'downtilt': '1', 'frequency': 2400.0, 'latitude': -39.52559, 'network_name': 'RuralCom', 'bearing': '0'}\n",
      "{'vertical_beamwidth': '30', 'power_eirp': 4.0, 'site_name': '19', 'antenna_height': 20.0, 'name': 'RuralCom_19', 'horizontal_beamwidth': '270', 'longitude': 175.75, 'polarization': 1.0, 'downtilt': '1', 'frequency': 2400.0, 'latitude': -40.355, 'network_name': 'RuralCom', 'bearing': '0'}\n",
      "{'vertical_beamwidth': '30', 'power_eirp': 4.0, 'site_name': '20', 'antenna_height': 20.0, 'name': 'Sonar_20', 'horizontal_beamwidth': '90', 'longitude': 176.6601, 'polarization': 1.0, 'downtilt': '1', 'frequency': 2400.0, 'latitude': -37.5063, 'network_name': 'Sonar', 'bearing': '0'}\n",
      "{'vertical_beamwidth': '20', 'power_eirp': 1.0, 'site_name': '21', 'antenna_height': 30.0, 'name': 'CanUCMe_21', 'horizontal_beamwidth': '45', 'longitude': 175.662501, 'polarization': 0.0, 'downtilt': '1', 'frequency': 3665.0, 'latitude': -40.948184, 'network_name': 'CanUCMe', 'bearing': '0'}\n",
      "{'vertical_beamwidth': '20', 'power_eirp': 1.0, 'site_name': '22', 'antenna_height': 30.0, 'name': 'CanUCMe_22', 'horizontal_beamwidth': '45', 'longitude': 175.662501, 'polarization': 0.0, 'downtilt': '1', 'frequency': 3685.0, 'latitude': -40.948184, 'network_name': 'CanUCMe', 'bearing': '90'}\n",
      "{'vertical_beamwidth': '5', 'power_eirp': 2.0, 'site_name': '23', 'antenna_height': 25.0, 'name': 'CanUCMe_23', 'horizontal_beamwidth': '5', 'longitude': 175.754578, 'polarization': 1.0, 'downtilt': '1', 'frequency': 24000.0, 'latitude': -40.975633, 'network_name': 'CanUCMe', 'bearing': '260'}\n"
     ]
    }
   ],
   "source": [
    "high_definition = False\n",
    "\n",
    "path = DIR/'tests'/'data'/'transmitters.csv'\n",
    "transmitters = wt.read_transmitters(path)\n",
    "print('num transmitters =', len(transmitters))\n",
    "for t in transmitters:\n",
    "    print(t)"
   ]
  },
  {
   "cell_type": "code",
   "execution_count": 13,
   "metadata": {
    "collapsed": false
   },
   "outputs": [
    {
     "name": "stdout",
     "output_type": "stream",
     "text": [
      "CanUCMe_21.az       MyNetwork_11.az   MyNetwork_9.az   Skynet_14.az\r\n",
      "CanUCMe_21.el       MyNetwork_11.el   MyNetwork_9.el   Skynet_14.el\r\n",
      "CanUCMe_21.lrp      MyNetwork_11.lrp  MyNetwork_9.lrp  Skynet_14.lrp\r\n",
      "CanUCMe_21.qth      MyNetwork_11.qth  MyNetwork_9.qth  Skynet_14.qth\r\n",
      "CanUCMe_22.az       MyNetwork_5.az    RuralCom_18.az   Skynet_15.az\r\n",
      "CanUCMe_22.el       MyNetwork_5.el    RuralCom_18.el   Skynet_15.el\r\n",
      "CanUCMe_22.lrp      MyNetwork_5.lrp   RuralCom_18.lrp  Skynet_15.lrp\r\n",
      "CanUCMe_22.qth      MyNetwork_5.qth   RuralCom_18.qth  Skynet_15.qth\r\n",
      "CanUCMe_23.az       MyNetwork_6.az    RuralCom_19.az   Skynet_16.az\r\n",
      "CanUCMe_23.el       MyNetwork_6.el    RuralCom_19.el   Skynet_16.el\r\n",
      "CanUCMe_23.lrp      MyNetwork_6.lrp   RuralCom_19.lrp  Skynet_16.lrp\r\n",
      "CanUCMe_23.qth      MyNetwork_6.qth   RuralCom_19.qth  Skynet_16.qth\r\n",
      "GrayWireless_4.az   MyNetwork_7.az    Skynet_12.az     Skynet_17.az\r\n",
      "GrayWireless_4.el   MyNetwork_7.el    Skynet_12.el     Skynet_17.el\r\n",
      "GrayWireless_4.lrp  MyNetwork_7.lrp   Skynet_12.lrp    Skynet_17.lrp\r\n",
      "GrayWireless_4.qth  MyNetwork_7.qth   Skynet_12.qth    Skynet_17.qth\r\n",
      "MyNetwork_10.az     MyNetwork_8.az    Skynet_13.az     Sonar_20.az\r\n",
      "MyNetwork_10.el     MyNetwork_8.el    Skynet_13.el     Sonar_20.el\r\n",
      "MyNetwork_10.lrp    MyNetwork_8.lrp   Skynet_13.lrp    Sonar_20.lrp\r\n",
      "MyNetwork_10.qth    MyNetwork_8.qth   Skynet_13.qth    Sonar_20.qth\r\n"
     ]
    }
   ],
   "source": [
    "# Create SPLAT transmitter files\n",
    "\n",
    "in_path = DIR/'tests'/'data'/'transmitters.csv'\n",
    "out_path = OUT_DIR/'splat_files'\n",
    "if out_path.exists():\n",
    "    shutil.rmtree(str(out_path))\n",
    "    \n",
    "wt.create_splat_transmitter_files(in_path, out_path)\n",
    "\n",
    "% ls {out_path}"
   ]
  },
  {
   "cell_type": "code",
   "execution_count": 14,
   "metadata": {
    "collapsed": false
   },
   "outputs": [
    {
     "name": "stdout",
     "output_type": "stream",
     "text": [
      "Tiles to download = ['S35E172', 'S35E173', 'S36E173', 'S36E174', 'S37E173', 'S37E174', 'S37E175', 'S38E174', 'S38E175', 'S38E176', 'S38E177', 'S39E174', 'S39E175', 'S39E176', 'S40E175', 'S40E176', 'S40E177', 'S41E174', 'S41E175', 'S41E176', 'S42E174', 'S42E175', 'S42E176', 'S45E168', 'S45E169', 'S46E168', 'S46E169', 'S47E167', 'S47E168', 'S48E167', 'S48E168']\n"
     ]
    },
    {
     "ename": "KeyboardInterrupt",
     "evalue": "",
     "output_type": "error",
     "traceback": [
      "\u001b[0;31m---------------------------------------------------------------------------\u001b[0m",
      "\u001b[0;31mKeyboardInterrupt\u001b[0m                         Traceback (most recent call last)",
      "\u001b[0;32m<ipython-input-14-b9f248aa61b7>\u001b[0m in \u001b[0;36m<module>\u001b[0;34m()\u001b[0m\n\u001b[1;32m     12\u001b[0m \u001b[0mapi_key\u001b[0m \u001b[0;34m=\u001b[0m \u001b[0mwt\u001b[0m\u001b[0;34m.\u001b[0m\u001b[0mget_secret\u001b[0m\u001b[0;34m(\u001b[0m\u001b[0;34m'GITLAB_API_KEY'\u001b[0m\u001b[0;34m)\u001b[0m\u001b[0;34m\u001b[0m\u001b[0m\n\u001b[1;32m     13\u001b[0m \u001b[0;34m\u001b[0m\u001b[0m\n\u001b[0;32m---> 14\u001b[0;31m \u001b[0mwt\u001b[0m\u001b[0;34m.\u001b[0m\u001b[0mdownload_srtm\u001b[0m\u001b[0;34m(\u001b[0m\u001b[0mtids\u001b[0m\u001b[0;34m,\u001b[0m \u001b[0mpath\u001b[0m\u001b[0;34m,\u001b[0m \u001b[0mhigh_definition\u001b[0m\u001b[0;34m=\u001b[0m\u001b[0mhigh_definition\u001b[0m\u001b[0;34m,\u001b[0m \u001b[0mapi_key\u001b[0m\u001b[0;34m=\u001b[0m\u001b[0mapi_key\u001b[0m\u001b[0;34m)\u001b[0m\u001b[0;34m\u001b[0m\u001b[0m\n\u001b[0m\u001b[1;32m     15\u001b[0m \u001b[0;34m\u001b[0m\u001b[0m\n\u001b[1;32m     16\u001b[0m \u001b[0mget_ipython\u001b[0m\u001b[0;34m(\u001b[0m\u001b[0;34m)\u001b[0m\u001b[0;34m.\u001b[0m\u001b[0mmagic\u001b[0m\u001b[0;34m(\u001b[0m\u001b[0;34m'ls {path}'\u001b[0m\u001b[0;34m)\u001b[0m\u001b[0;34m\u001b[0m\u001b[0m\n",
      "\u001b[0;32m/home/araichev/wavetrace/wavetrace/main.py\u001b[0m in \u001b[0;36mdownload_srtm\u001b[0;34m(tile_ids, path, api_key, high_definition)\u001b[0m\n\u001b[1;32m    359\u001b[0m         \u001b[0mp\u001b[0m \u001b[0;34m=\u001b[0m \u001b[0mpath\u001b[0m\u001b[0;34m/\u001b[0m\u001b[0mfile_name\u001b[0m\u001b[0;34m.\u001b[0m\u001b[0msplit\u001b[0m\u001b[0;34m(\u001b[0m\u001b[0;34m'/'\u001b[0m\u001b[0;34m)\u001b[0m\u001b[0;34m[\u001b[0m\u001b[0;34m-\u001b[0m\u001b[0;36m1\u001b[0m\u001b[0;34m]\u001b[0m\u001b[0;34m\u001b[0m\u001b[0m\n\u001b[1;32m    360\u001b[0m         \u001b[0;32mwith\u001b[0m \u001b[0mp\u001b[0m\u001b[0;34m.\u001b[0m\u001b[0mopen\u001b[0m\u001b[0;34m(\u001b[0m\u001b[0;34m'wb'\u001b[0m\u001b[0;34m)\u001b[0m \u001b[0;32mas\u001b[0m \u001b[0mtgt\u001b[0m\u001b[0;34m:\u001b[0m\u001b[0;34m\u001b[0m\u001b[0m\n\u001b[0;32m--> 361\u001b[0;31m             \u001b[0mcontent\u001b[0m \u001b[0;34m=\u001b[0m \u001b[0mbase64\u001b[0m\u001b[0;34m.\u001b[0m\u001b[0mb64decode\u001b[0m\u001b[0;34m(\u001b[0m\u001b[0mr\u001b[0m\u001b[0;34m.\u001b[0m\u001b[0mjson\u001b[0m\u001b[0;34m(\u001b[0m\u001b[0;34m)\u001b[0m\u001b[0;34m[\u001b[0m\u001b[0;34m'content'\u001b[0m\u001b[0;34m]\u001b[0m\u001b[0;34m)\u001b[0m\u001b[0;34m\u001b[0m\u001b[0m\n\u001b[0m\u001b[1;32m    362\u001b[0m             \u001b[0mtgt\u001b[0m\u001b[0;34m.\u001b[0m\u001b[0mwrite\u001b[0m\u001b[0;34m(\u001b[0m\u001b[0mcontent\u001b[0m\u001b[0;34m)\u001b[0m\u001b[0;34m\u001b[0m\u001b[0m\n\u001b[1;32m    363\u001b[0m \u001b[0;34m\u001b[0m\u001b[0m\n",
      "\u001b[0;32m/home/araichev/.virtualenvs/wavetrace/lib/python3.5/site-packages/requests/models.py\u001b[0m in \u001b[0;36mjson\u001b[0;34m(self, **kwargs)\u001b[0m\n\u001b[1;32m    793\u001b[0m         \"\"\"\n\u001b[1;32m    794\u001b[0m \u001b[0;34m\u001b[0m\u001b[0m\n\u001b[0;32m--> 795\u001b[0;31m         \u001b[0;32mif\u001b[0m \u001b[0;32mnot\u001b[0m \u001b[0mself\u001b[0m\u001b[0;34m.\u001b[0m\u001b[0mencoding\u001b[0m \u001b[0;32mand\u001b[0m \u001b[0mlen\u001b[0m\u001b[0;34m(\u001b[0m\u001b[0mself\u001b[0m\u001b[0;34m.\u001b[0m\u001b[0mcontent\u001b[0m\u001b[0;34m)\u001b[0m \u001b[0;34m>\u001b[0m \u001b[0;36m3\u001b[0m\u001b[0;34m:\u001b[0m\u001b[0;34m\u001b[0m\u001b[0m\n\u001b[0m\u001b[1;32m    796\u001b[0m             \u001b[0;31m# No encoding set. JSON RFC 4627 section 3 states we should expect\u001b[0m\u001b[0;34m\u001b[0m\u001b[0;34m\u001b[0m\u001b[0m\n\u001b[1;32m    797\u001b[0m             \u001b[0;31m# UTF-8, -16 or -32. Detect which one to use; If the detection or\u001b[0m\u001b[0;34m\u001b[0m\u001b[0;34m\u001b[0m\u001b[0m\n",
      "\u001b[0;32m/home/araichev/.virtualenvs/wavetrace/lib/python3.5/site-packages/requests/models.py\u001b[0m in \u001b[0;36mcontent\u001b[0;34m(self)\u001b[0m\n\u001b[1;32m    739\u001b[0m                     \u001b[0mself\u001b[0m\u001b[0;34m.\u001b[0m\u001b[0m_content\u001b[0m \u001b[0;34m=\u001b[0m \u001b[0;32mNone\u001b[0m\u001b[0;34m\u001b[0m\u001b[0m\n\u001b[1;32m    740\u001b[0m                 \u001b[0;32melse\u001b[0m\u001b[0;34m:\u001b[0m\u001b[0;34m\u001b[0m\u001b[0m\n\u001b[0;32m--> 741\u001b[0;31m                     \u001b[0mself\u001b[0m\u001b[0;34m.\u001b[0m\u001b[0m_content\u001b[0m \u001b[0;34m=\u001b[0m \u001b[0mbytes\u001b[0m\u001b[0;34m(\u001b[0m\u001b[0;34m)\u001b[0m\u001b[0;34m.\u001b[0m\u001b[0mjoin\u001b[0m\u001b[0;34m(\u001b[0m\u001b[0mself\u001b[0m\u001b[0;34m.\u001b[0m\u001b[0miter_content\u001b[0m\u001b[0;34m(\u001b[0m\u001b[0mCONTENT_CHUNK_SIZE\u001b[0m\u001b[0;34m)\u001b[0m\u001b[0;34m)\u001b[0m \u001b[0;32mor\u001b[0m \u001b[0mbytes\u001b[0m\u001b[0;34m(\u001b[0m\u001b[0;34m)\u001b[0m\u001b[0;34m\u001b[0m\u001b[0m\n\u001b[0m\u001b[1;32m    742\u001b[0m \u001b[0;34m\u001b[0m\u001b[0m\n\u001b[1;32m    743\u001b[0m             \u001b[0;32mexcept\u001b[0m \u001b[0mAttributeError\u001b[0m\u001b[0;34m:\u001b[0m\u001b[0;34m\u001b[0m\u001b[0m\n",
      "\u001b[0;32m/home/araichev/.virtualenvs/wavetrace/lib/python3.5/site-packages/requests/models.py\u001b[0m in \u001b[0;36mgenerate\u001b[0;34m()\u001b[0m\n\u001b[1;32m    662\u001b[0m             \u001b[0;32mif\u001b[0m \u001b[0mhasattr\u001b[0m\u001b[0;34m(\u001b[0m\u001b[0mself\u001b[0m\u001b[0;34m.\u001b[0m\u001b[0mraw\u001b[0m\u001b[0;34m,\u001b[0m \u001b[0;34m'stream'\u001b[0m\u001b[0;34m)\u001b[0m\u001b[0;34m:\u001b[0m\u001b[0;34m\u001b[0m\u001b[0m\n\u001b[1;32m    663\u001b[0m                 \u001b[0;32mtry\u001b[0m\u001b[0;34m:\u001b[0m\u001b[0;34m\u001b[0m\u001b[0m\n\u001b[0;32m--> 664\u001b[0;31m                     \u001b[0;32mfor\u001b[0m \u001b[0mchunk\u001b[0m \u001b[0;32min\u001b[0m \u001b[0mself\u001b[0m\u001b[0;34m.\u001b[0m\u001b[0mraw\u001b[0m\u001b[0;34m.\u001b[0m\u001b[0mstream\u001b[0m\u001b[0;34m(\u001b[0m\u001b[0mchunk_size\u001b[0m\u001b[0;34m,\u001b[0m \u001b[0mdecode_content\u001b[0m\u001b[0;34m=\u001b[0m\u001b[0;32mTrue\u001b[0m\u001b[0;34m)\u001b[0m\u001b[0;34m:\u001b[0m\u001b[0;34m\u001b[0m\u001b[0m\n\u001b[0m\u001b[1;32m    665\u001b[0m                         \u001b[0;32myield\u001b[0m \u001b[0mchunk\u001b[0m\u001b[0;34m\u001b[0m\u001b[0m\n\u001b[1;32m    666\u001b[0m                 \u001b[0;32mexcept\u001b[0m \u001b[0mProtocolError\u001b[0m \u001b[0;32mas\u001b[0m \u001b[0me\u001b[0m\u001b[0;34m:\u001b[0m\u001b[0;34m\u001b[0m\u001b[0m\n",
      "\u001b[0;32m/home/araichev/.virtualenvs/wavetrace/lib/python3.5/site-packages/requests/packages/urllib3/response.py\u001b[0m in \u001b[0;36mstream\u001b[0;34m(self, amt, decode_content)\u001b[0m\n\u001b[1;32m    351\u001b[0m         \u001b[0;32melse\u001b[0m\u001b[0;34m:\u001b[0m\u001b[0;34m\u001b[0m\u001b[0m\n\u001b[1;32m    352\u001b[0m             \u001b[0;32mwhile\u001b[0m \u001b[0;32mnot\u001b[0m \u001b[0mis_fp_closed\u001b[0m\u001b[0;34m(\u001b[0m\u001b[0mself\u001b[0m\u001b[0;34m.\u001b[0m\u001b[0m_fp\u001b[0m\u001b[0;34m)\u001b[0m\u001b[0;34m:\u001b[0m\u001b[0;34m\u001b[0m\u001b[0m\n\u001b[0;32m--> 353\u001b[0;31m                 \u001b[0mdata\u001b[0m \u001b[0;34m=\u001b[0m \u001b[0mself\u001b[0m\u001b[0;34m.\u001b[0m\u001b[0mread\u001b[0m\u001b[0;34m(\u001b[0m\u001b[0mamt\u001b[0m\u001b[0;34m=\u001b[0m\u001b[0mamt\u001b[0m\u001b[0;34m,\u001b[0m \u001b[0mdecode_content\u001b[0m\u001b[0;34m=\u001b[0m\u001b[0mdecode_content\u001b[0m\u001b[0;34m)\u001b[0m\u001b[0;34m\u001b[0m\u001b[0m\n\u001b[0m\u001b[1;32m    354\u001b[0m \u001b[0;34m\u001b[0m\u001b[0m\n\u001b[1;32m    355\u001b[0m                 \u001b[0;32mif\u001b[0m \u001b[0mdata\u001b[0m\u001b[0;34m:\u001b[0m\u001b[0;34m\u001b[0m\u001b[0m\n",
      "\u001b[0;32m/home/araichev/.virtualenvs/wavetrace/lib/python3.5/site-packages/requests/packages/urllib3/response.py\u001b[0m in \u001b[0;36mread\u001b[0;34m(self, amt, decode_content, cache_content)\u001b[0m\n\u001b[1;32m    308\u001b[0m             \u001b[0;32melse\u001b[0m\u001b[0;34m:\u001b[0m\u001b[0;34m\u001b[0m\u001b[0m\n\u001b[1;32m    309\u001b[0m                 \u001b[0mcache_content\u001b[0m \u001b[0;34m=\u001b[0m \u001b[0;32mFalse\u001b[0m\u001b[0;34m\u001b[0m\u001b[0m\n\u001b[0;32m--> 310\u001b[0;31m                 \u001b[0mdata\u001b[0m \u001b[0;34m=\u001b[0m \u001b[0mself\u001b[0m\u001b[0;34m.\u001b[0m\u001b[0m_fp\u001b[0m\u001b[0;34m.\u001b[0m\u001b[0mread\u001b[0m\u001b[0;34m(\u001b[0m\u001b[0mamt\u001b[0m\u001b[0;34m)\u001b[0m\u001b[0;34m\u001b[0m\u001b[0m\n\u001b[0m\u001b[1;32m    311\u001b[0m                 \u001b[0;32mif\u001b[0m \u001b[0mamt\u001b[0m \u001b[0;34m!=\u001b[0m \u001b[0;36m0\u001b[0m \u001b[0;32mand\u001b[0m \u001b[0;32mnot\u001b[0m \u001b[0mdata\u001b[0m\u001b[0;34m:\u001b[0m  \u001b[0;31m# Platform-specific: Buggy versions of Python.\u001b[0m\u001b[0;34m\u001b[0m\u001b[0m\n\u001b[1;32m    312\u001b[0m                     \u001b[0;31m# Close the connection when no data is returned\u001b[0m\u001b[0;34m\u001b[0m\u001b[0;34m\u001b[0m\u001b[0m\n",
      "\u001b[0;32m/usr/lib/python3.5/http/client.py\u001b[0m in \u001b[0;36mread\u001b[0;34m(self, amt)\u001b[0m\n\u001b[1;32m    431\u001b[0m             \u001b[0;31m# Amount is given, implement using readinto\u001b[0m\u001b[0;34m\u001b[0m\u001b[0;34m\u001b[0m\u001b[0m\n\u001b[1;32m    432\u001b[0m             \u001b[0mb\u001b[0m \u001b[0;34m=\u001b[0m \u001b[0mbytearray\u001b[0m\u001b[0;34m(\u001b[0m\u001b[0mamt\u001b[0m\u001b[0;34m)\u001b[0m\u001b[0;34m\u001b[0m\u001b[0m\n\u001b[0;32m--> 433\u001b[0;31m             \u001b[0mn\u001b[0m \u001b[0;34m=\u001b[0m \u001b[0mself\u001b[0m\u001b[0;34m.\u001b[0m\u001b[0mreadinto\u001b[0m\u001b[0;34m(\u001b[0m\u001b[0mb\u001b[0m\u001b[0;34m)\u001b[0m\u001b[0;34m\u001b[0m\u001b[0m\n\u001b[0m\u001b[1;32m    434\u001b[0m             \u001b[0;32mreturn\u001b[0m \u001b[0mmemoryview\u001b[0m\u001b[0;34m(\u001b[0m\u001b[0mb\u001b[0m\u001b[0;34m)\u001b[0m\u001b[0;34m[\u001b[0m\u001b[0;34m:\u001b[0m\u001b[0mn\u001b[0m\u001b[0;34m]\u001b[0m\u001b[0;34m.\u001b[0m\u001b[0mtobytes\u001b[0m\u001b[0;34m(\u001b[0m\u001b[0;34m)\u001b[0m\u001b[0;34m\u001b[0m\u001b[0m\n\u001b[1;32m    435\u001b[0m         \u001b[0;32melse\u001b[0m\u001b[0;34m:\u001b[0m\u001b[0;34m\u001b[0m\u001b[0m\n",
      "\u001b[0;32m/usr/lib/python3.5/http/client.py\u001b[0m in \u001b[0;36mreadinto\u001b[0;34m(self, b)\u001b[0m\n\u001b[1;32m    471\u001b[0m         \u001b[0;31m# connection, and the user is reading more bytes than will be provided\u001b[0m\u001b[0;34m\u001b[0m\u001b[0;34m\u001b[0m\u001b[0m\n\u001b[1;32m    472\u001b[0m         \u001b[0;31m# (for example, reading in 1k chunks)\u001b[0m\u001b[0;34m\u001b[0m\u001b[0;34m\u001b[0m\u001b[0m\n\u001b[0;32m--> 473\u001b[0;31m         \u001b[0mn\u001b[0m \u001b[0;34m=\u001b[0m \u001b[0mself\u001b[0m\u001b[0;34m.\u001b[0m\u001b[0mfp\u001b[0m\u001b[0;34m.\u001b[0m\u001b[0mreadinto\u001b[0m\u001b[0;34m(\u001b[0m\u001b[0mb\u001b[0m\u001b[0;34m)\u001b[0m\u001b[0;34m\u001b[0m\u001b[0m\n\u001b[0m\u001b[1;32m    474\u001b[0m         \u001b[0;32mif\u001b[0m \u001b[0;32mnot\u001b[0m \u001b[0mn\u001b[0m \u001b[0;32mand\u001b[0m \u001b[0mb\u001b[0m\u001b[0;34m:\u001b[0m\u001b[0;34m\u001b[0m\u001b[0m\n\u001b[1;32m    475\u001b[0m             \u001b[0;31m# Ideally, we would raise IncompleteRead if the content-length\u001b[0m\u001b[0;34m\u001b[0m\u001b[0;34m\u001b[0m\u001b[0m\n",
      "\u001b[0;32m/usr/lib/python3.5/socket.py\u001b[0m in \u001b[0;36mreadinto\u001b[0;34m(self, b)\u001b[0m\n\u001b[1;32m    573\u001b[0m         \u001b[0;32mwhile\u001b[0m \u001b[0;32mTrue\u001b[0m\u001b[0;34m:\u001b[0m\u001b[0;34m\u001b[0m\u001b[0m\n\u001b[1;32m    574\u001b[0m             \u001b[0;32mtry\u001b[0m\u001b[0;34m:\u001b[0m\u001b[0;34m\u001b[0m\u001b[0m\n\u001b[0;32m--> 575\u001b[0;31m                 \u001b[0;32mreturn\u001b[0m \u001b[0mself\u001b[0m\u001b[0;34m.\u001b[0m\u001b[0m_sock\u001b[0m\u001b[0;34m.\u001b[0m\u001b[0mrecv_into\u001b[0m\u001b[0;34m(\u001b[0m\u001b[0mb\u001b[0m\u001b[0;34m)\u001b[0m\u001b[0;34m\u001b[0m\u001b[0m\n\u001b[0m\u001b[1;32m    576\u001b[0m             \u001b[0;32mexcept\u001b[0m \u001b[0mtimeout\u001b[0m\u001b[0;34m:\u001b[0m\u001b[0;34m\u001b[0m\u001b[0m\n\u001b[1;32m    577\u001b[0m                 \u001b[0mself\u001b[0m\u001b[0;34m.\u001b[0m\u001b[0m_timeout_occurred\u001b[0m \u001b[0;34m=\u001b[0m \u001b[0;32mTrue\u001b[0m\u001b[0;34m\u001b[0m\u001b[0m\n",
      "\u001b[0;32m/usr/lib/python3.5/ssl.py\u001b[0m in \u001b[0;36mrecv_into\u001b[0;34m(self, buffer, nbytes, flags)\u001b[0m\n\u001b[1;32m    922\u001b[0m                   \u001b[0;34m\"non-zero flags not allowed in calls to recv_into() on %s\"\u001b[0m \u001b[0;34m%\u001b[0m\u001b[0;34m\u001b[0m\u001b[0m\n\u001b[1;32m    923\u001b[0m                   self.__class__)\n\u001b[0;32m--> 924\u001b[0;31m             \u001b[0;32mreturn\u001b[0m \u001b[0mself\u001b[0m\u001b[0;34m.\u001b[0m\u001b[0mread\u001b[0m\u001b[0;34m(\u001b[0m\u001b[0mnbytes\u001b[0m\u001b[0;34m,\u001b[0m \u001b[0mbuffer\u001b[0m\u001b[0;34m)\u001b[0m\u001b[0;34m\u001b[0m\u001b[0m\n\u001b[0m\u001b[1;32m    925\u001b[0m         \u001b[0;32melse\u001b[0m\u001b[0;34m:\u001b[0m\u001b[0;34m\u001b[0m\u001b[0m\n\u001b[1;32m    926\u001b[0m             \u001b[0;32mreturn\u001b[0m \u001b[0msocket\u001b[0m\u001b[0;34m.\u001b[0m\u001b[0mrecv_into\u001b[0m\u001b[0;34m(\u001b[0m\u001b[0mself\u001b[0m\u001b[0;34m,\u001b[0m \u001b[0mbuffer\u001b[0m\u001b[0;34m,\u001b[0m \u001b[0mnbytes\u001b[0m\u001b[0;34m,\u001b[0m \u001b[0mflags\u001b[0m\u001b[0;34m)\u001b[0m\u001b[0;34m\u001b[0m\u001b[0m\n",
      "\u001b[0;32m/usr/lib/python3.5/ssl.py\u001b[0m in \u001b[0;36mread\u001b[0;34m(self, len, buffer)\u001b[0m\n\u001b[1;32m    784\u001b[0m             \u001b[0;32mraise\u001b[0m \u001b[0mValueError\u001b[0m\u001b[0;34m(\u001b[0m\u001b[0;34m\"Read on closed or unwrapped SSL socket.\"\u001b[0m\u001b[0;34m)\u001b[0m\u001b[0;34m\u001b[0m\u001b[0m\n\u001b[1;32m    785\u001b[0m         \u001b[0;32mtry\u001b[0m\u001b[0;34m:\u001b[0m\u001b[0;34m\u001b[0m\u001b[0m\n\u001b[0;32m--> 786\u001b[0;31m             \u001b[0;32mreturn\u001b[0m \u001b[0mself\u001b[0m\u001b[0;34m.\u001b[0m\u001b[0m_sslobj\u001b[0m\u001b[0;34m.\u001b[0m\u001b[0mread\u001b[0m\u001b[0;34m(\u001b[0m\u001b[0mlen\u001b[0m\u001b[0;34m,\u001b[0m \u001b[0mbuffer\u001b[0m\u001b[0;34m)\u001b[0m\u001b[0;34m\u001b[0m\u001b[0m\n\u001b[0m\u001b[1;32m    787\u001b[0m         \u001b[0;32mexcept\u001b[0m \u001b[0mSSLError\u001b[0m \u001b[0;32mas\u001b[0m \u001b[0mx\u001b[0m\u001b[0;34m:\u001b[0m\u001b[0;34m\u001b[0m\u001b[0m\n\u001b[1;32m    788\u001b[0m             \u001b[0;32mif\u001b[0m \u001b[0mx\u001b[0m\u001b[0;34m.\u001b[0m\u001b[0margs\u001b[0m\u001b[0;34m[\u001b[0m\u001b[0;36m0\u001b[0m\u001b[0;34m]\u001b[0m \u001b[0;34m==\u001b[0m \u001b[0mSSL_ERROR_EOF\u001b[0m \u001b[0;32mand\u001b[0m \u001b[0mself\u001b[0m\u001b[0;34m.\u001b[0m\u001b[0msuppress_ragged_eofs\u001b[0m\u001b[0;34m:\u001b[0m\u001b[0;34m\u001b[0m\u001b[0m\n",
      "\u001b[0;32m/usr/lib/python3.5/ssl.py\u001b[0m in \u001b[0;36mread\u001b[0;34m(self, len, buffer)\u001b[0m\n\u001b[1;32m    568\u001b[0m         \"\"\"\n\u001b[1;32m    569\u001b[0m         \u001b[0;32mif\u001b[0m \u001b[0mbuffer\u001b[0m \u001b[0;32mis\u001b[0m \u001b[0;32mnot\u001b[0m \u001b[0;32mNone\u001b[0m\u001b[0;34m:\u001b[0m\u001b[0;34m\u001b[0m\u001b[0m\n\u001b[0;32m--> 570\u001b[0;31m             \u001b[0mv\u001b[0m \u001b[0;34m=\u001b[0m \u001b[0mself\u001b[0m\u001b[0;34m.\u001b[0m\u001b[0m_sslobj\u001b[0m\u001b[0;34m.\u001b[0m\u001b[0mread\u001b[0m\u001b[0;34m(\u001b[0m\u001b[0mlen\u001b[0m\u001b[0;34m,\u001b[0m \u001b[0mbuffer\u001b[0m\u001b[0;34m)\u001b[0m\u001b[0;34m\u001b[0m\u001b[0m\n\u001b[0m\u001b[1;32m    571\u001b[0m         \u001b[0;32melse\u001b[0m\u001b[0;34m:\u001b[0m\u001b[0;34m\u001b[0m\u001b[0m\n\u001b[1;32m    572\u001b[0m             \u001b[0mv\u001b[0m \u001b[0;34m=\u001b[0m \u001b[0mself\u001b[0m\u001b[0;34m.\u001b[0m\u001b[0m_sslobj\u001b[0m\u001b[0;34m.\u001b[0m\u001b[0mread\u001b[0m\u001b[0;34m(\u001b[0m\u001b[0mlen\u001b[0m \u001b[0;32mor\u001b[0m \u001b[0;36m1024\u001b[0m\u001b[0;34m)\u001b[0m\u001b[0;34m\u001b[0m\u001b[0m\n",
      "\u001b[0;31mKeyboardInterrupt\u001b[0m: "
     ]
    }
   ],
   "source": [
    "# Download topography data\n",
    "\n",
    "buffer = 0.5 # decimal degrees\n",
    "points = [Point(p).buffer(buffer) for p in wt.get_lonlats(transmitters)]\n",
    "tids = wt.compute_intersecting_tiles(list(points))\n",
    "print('Tiles to download =', tids)\n",
    "\n",
    "if high_definition:\n",
    "    path = IN_DIR/'srtm1'\n",
    "else:\n",
    "    path = IN_DIR/'srtm3'\n",
    "api_key = wt.get_secret('GITLAB_API_KEY')\n",
    "\n",
    "wt.download_srtm(tids, path, high_definition=high_definition, api_key=api_key)\n",
    "\n",
    "% ls {path}"
   ]
  },
  {
   "cell_type": "code",
   "execution_count": 9,
   "metadata": {
    "collapsed": false
   },
   "outputs": [
    {
     "name": "stdout",
     "output_type": "stream",
     "text": [
      "-35:-34:186:187-hd.sdf  CanUCMe_23.qth      MyNetwork_7.qth  Skynet_13.qth\r\n",
      "-36:-35:185:186-hd.sdf  GrayWireless_4.az   MyNetwork_8.az   Skynet_14.az\r\n",
      "-36:-35:186:187-hd.sdf  GrayWireless_4.el   MyNetwork_8.el   Skynet_14.el\r\n",
      "-37:-36:184:185-hd.sdf  GrayWireless_4.lrp  MyNetwork_8.lrp  Skynet_14.lrp\r\n",
      "-37:-36:185:186-hd.sdf  GrayWireless_4.qth  MyNetwork_8.qth  Skynet_14.qth\r\n",
      "-38:-37:183:184-hd.sdf  MyNetwork_10.az     MyNetwork_9.az   Skynet_15.az\r\n",
      "-38:-37:184:185-hd.sdf  MyNetwork_10.el     MyNetwork_9.el   Skynet_15.el\r\n",
      "-38:-37:185:186-hd.sdf  MyNetwork_10.lrp    MyNetwork_9.lrp  Skynet_15.lrp\r\n",
      "-40:-39:183:184-hd.sdf  MyNetwork_10.qth    MyNetwork_9.qth  Skynet_15.qth\r\n",
      "-41:-40:184:185-hd.sdf  MyNetwork_11.az     RuralCom_18.az   Skynet_16.az\r\n",
      "-42:-41:184:185-hd.sdf  MyNetwork_11.el     RuralCom_18.el   Skynet_16.el\r\n",
      "-46:-45:191:192-hd.sdf  MyNetwork_11.lrp    RuralCom_18.lrp  Skynet_16.lrp\r\n",
      "-47:-46:192:193-hd.sdf  MyNetwork_11.qth    RuralCom_18.qth  Skynet_16.qth\r\n",
      "CanUCMe_21.az           MyNetwork_5.az      RuralCom_19.az   Skynet_17.az\r\n",
      "CanUCMe_21.el           MyNetwork_5.el      RuralCom_19.el   Skynet_17.el\r\n",
      "CanUCMe_21.lrp          MyNetwork_5.lrp     RuralCom_19.lrp  Skynet_17.lrp\r\n",
      "CanUCMe_21.qth          MyNetwork_5.qth     RuralCom_19.qth  Skynet_17.qth\r\n",
      "CanUCMe_22.az           MyNetwork_6.az      Skynet_12.az     Sonar_20.az\r\n",
      "CanUCMe_22.el           MyNetwork_6.el      Skynet_12.el     Sonar_20.el\r\n",
      "CanUCMe_22.lrp          MyNetwork_6.lrp     Skynet_12.lrp    Sonar_20.lrp\r\n",
      "CanUCMe_22.qth          MyNetwork_6.qth     Skynet_12.qth    Sonar_20.qth\r\n",
      "CanUCMe_23.az           MyNetwork_7.az      Skynet_13.az\r\n",
      "CanUCMe_23.el           MyNetwork_7.el      Skynet_13.el\r\n",
      "CanUCMe_23.lrp          MyNetwork_7.lrp     Skynet_13.lrp\r\n"
     ]
    }
   ],
   "source": [
    "# Create SPLAT topography files\n",
    "\n",
    "if high_definition:\n",
    "    in_path = IN_DIR/'srtm1'\n",
    "else:\n",
    "    in_path = IN_DIR/'srtm3'\n",
    "out_path = OUT_DIR/'splat_files'\n",
    "\n",
    "wt.create_splat_topography_files(in_path, out_path, high_definition=high_definition)\n",
    "\n",
    "% ls {out_path}"
   ]
  },
  {
   "cell_type": "code",
   "execution_count": 10,
   "metadata": {
    "collapsed": false
   },
   "outputs": [
    {
     "name": "stdout",
     "output_type": "stream",
     "text": [
      "Timing compute_coverage...\n",
      "2016-08-18 18:04:39.403941   Began process\n",
      "2016-08-19 05:32:30.330512   Finished in 687.83 min\n",
      "\u001b[0m\u001b[01;35mCanUCMe_21-ck.ppm\u001b[0m               \u001b[01;35mMyNetwork_9-ck.ppm\u001b[0m\n",
      "CanUCMe_21.kml                  MyNetwork_9.kml\n",
      "\u001b[01;35mCanUCMe_21.ppm\u001b[0m                  \u001b[01;35mMyNetwork_9.ppm\u001b[0m\n",
      "CanUCMe_21-site_report.txt      MyNetwork_9-site_report.txt\n",
      "\u001b[01;35mCanUCMe_22-ck.ppm\u001b[0m               \u001b[01;35mRuralCom_18-ck.ppm\u001b[0m\n",
      "CanUCMe_22.kml                  RuralCom_18.kml\n",
      "\u001b[01;35mCanUCMe_22.ppm\u001b[0m                  \u001b[01;35mRuralCom_18.ppm\u001b[0m\n",
      "CanUCMe_22-site_report.txt      RuralCom_18-site_report.txt\n",
      "\u001b[01;35mCanUCMe_23-ck.ppm\u001b[0m               \u001b[01;35mRuralCom_19-ck.ppm\u001b[0m\n",
      "CanUCMe_23.kml                  RuralCom_19.kml\n",
      "\u001b[01;35mCanUCMe_23.ppm\u001b[0m                  \u001b[01;35mRuralCom_19.ppm\u001b[0m\n",
      "CanUCMe_23-site_report.txt      RuralCom_19-site_report.txt\n",
      "\u001b[01;35mGrayWireless_4-ck.ppm\u001b[0m           \u001b[01;35mSkynet_12-ck.ppm\u001b[0m\n",
      "GrayWireless_4.kml              Skynet_12.kml\n",
      "\u001b[01;35mGrayWireless_4.ppm\u001b[0m              \u001b[01;35mSkynet_12.ppm\u001b[0m\n",
      "GrayWireless_4-site_report.txt  Skynet_12-site_report.txt\n",
      "\u001b[01;35mMyNetwork_10-ck.ppm\u001b[0m             \u001b[01;35mSkynet_13-ck.ppm\u001b[0m\n",
      "MyNetwork_10.kml                Skynet_13.kml\n",
      "\u001b[01;35mMyNetwork_10.ppm\u001b[0m                \u001b[01;35mSkynet_13.ppm\u001b[0m\n",
      "MyNetwork_10-site_report.txt    Skynet_13-site_report.txt\n",
      "\u001b[01;35mMyNetwork_11-ck.ppm\u001b[0m             \u001b[01;35mSkynet_14-ck.ppm\u001b[0m\n",
      "MyNetwork_11.kml                Skynet_14.kml\n",
      "\u001b[01;35mMyNetwork_11.ppm\u001b[0m                \u001b[01;35mSkynet_14.ppm\u001b[0m\n",
      "MyNetwork_11-site_report.txt    Skynet_14-site_report.txt\n",
      "\u001b[01;35mMyNetwork_5-ck.ppm\u001b[0m              \u001b[01;35mSkynet_15-ck.ppm\u001b[0m\n",
      "MyNetwork_5.kml                 Skynet_15.kml\n",
      "\u001b[01;35mMyNetwork_5.ppm\u001b[0m                 \u001b[01;35mSkynet_15.ppm\u001b[0m\n",
      "MyNetwork_5-site_report.txt     Skynet_15-site_report.txt\n",
      "\u001b[01;35mMyNetwork_6-ck.ppm\u001b[0m              \u001b[01;35mSkynet_16-ck.ppm\u001b[0m\n",
      "MyNetwork_6.kml                 Skynet_16.kml\n",
      "\u001b[01;35mMyNetwork_6.ppm\u001b[0m                 \u001b[01;35mSkynet_16.ppm\u001b[0m\n",
      "MyNetwork_6-site_report.txt     Skynet_16-site_report.txt\n",
      "\u001b[01;35mMyNetwork_7-ck.ppm\u001b[0m              \u001b[01;35mSkynet_17-ck.ppm\u001b[0m\n",
      "MyNetwork_7.kml                 Skynet_17.kml\n",
      "\u001b[01;35mMyNetwork_7.ppm\u001b[0m                 \u001b[01;35mSkynet_17.ppm\u001b[0m\n",
      "MyNetwork_7-site_report.txt     Skynet_17-site_report.txt\n",
      "\u001b[01;35mMyNetwork_8-ck.ppm\u001b[0m              \u001b[01;35mSonar_20-ck.ppm\u001b[0m\n",
      "MyNetwork_8.kml                 Sonar_20.kml\n",
      "\u001b[01;35mMyNetwork_8.ppm\u001b[0m                 \u001b[01;35mSonar_20.ppm\u001b[0m\n",
      "MyNetwork_8-site_report.txt     Sonar_20-site_report.txt\n"
     ]
    }
   ],
   "source": [
    "# Create coverage reports\n",
    "\n",
    "in_path = OUT_DIR/'splat_files'\n",
    "out_path = OUT_DIR/'coverage_reports'\n",
    "wt.compute_coverage(in_path, out_path, transmitters=transmitters, \n",
    "  high_definition=high_definition)\n",
    "\n",
    "% ls {out_path}"
   ]
  },
  {
   "cell_type": "code",
   "execution_count": 11,
   "metadata": {
    "collapsed": false
   },
   "outputs": [
    {
     "name": "stdout",
     "output_type": "stream",
     "text": [
      "\u001b[0m\u001b[01;35mCanUCMe_21-ck.png\u001b[0m               \u001b[01;35mMyNetwork_9-ck.png\u001b[0m\r\n",
      "CanUCMe_21.kml                  MyNetwork_9.kml\r\n",
      "\u001b[01;35mCanUCMe_21.png\u001b[0m                  \u001b[01;35mMyNetwork_9.png\u001b[0m\r\n",
      "CanUCMe_21-site_report.txt      MyNetwork_9-site_report.txt\r\n",
      "\u001b[01;35mCanUCMe_21.tif\u001b[0m                  \u001b[01;35mMyNetwork_9.tif\u001b[0m\r\n",
      "\u001b[01;35mCanUCMe_22-ck.png\u001b[0m               \u001b[01;35mRuralCom_18-ck.png\u001b[0m\r\n",
      "CanUCMe_22.kml                  RuralCom_18.kml\r\n",
      "\u001b[01;35mCanUCMe_22.png\u001b[0m                  \u001b[01;35mRuralCom_18.png\u001b[0m\r\n",
      "CanUCMe_22-site_report.txt      RuralCom_18-site_report.txt\r\n",
      "\u001b[01;35mCanUCMe_22.tif\u001b[0m                  \u001b[01;35mRuralCom_18.tif\u001b[0m\r\n",
      "\u001b[01;35mCanUCMe_23-ck.png\u001b[0m               \u001b[01;35mRuralCom_19-ck.png\u001b[0m\r\n",
      "CanUCMe_23.kml                  RuralCom_19.kml\r\n",
      "\u001b[01;35mCanUCMe_23.png\u001b[0m                  \u001b[01;35mRuralCom_19.png\u001b[0m\r\n",
      "CanUCMe_23-site_report.txt      RuralCom_19-site_report.txt\r\n",
      "\u001b[01;35mCanUCMe_23.tif\u001b[0m                  \u001b[01;35mRuralCom_19.tif\u001b[0m\r\n",
      "\u001b[01;35mGrayWireless_4-ck.png\u001b[0m           \u001b[01;35mSkynet_12-ck.png\u001b[0m\r\n",
      "GrayWireless_4.kml              Skynet_12.kml\r\n",
      "\u001b[01;35mGrayWireless_4.png\u001b[0m              \u001b[01;35mSkynet_12.png\u001b[0m\r\n",
      "GrayWireless_4-site_report.txt  Skynet_12-site_report.txt\r\n",
      "\u001b[01;35mGrayWireless_4.tif\u001b[0m              \u001b[01;35mSkynet_12.tif\u001b[0m\r\n",
      "\u001b[01;35mMyNetwork_10-ck.png\u001b[0m             \u001b[01;35mSkynet_13-ck.png\u001b[0m\r\n",
      "MyNetwork_10.kml                Skynet_13.kml\r\n",
      "\u001b[01;35mMyNetwork_10.png\u001b[0m                \u001b[01;35mSkynet_13.png\u001b[0m\r\n",
      "MyNetwork_10-site_report.txt    Skynet_13-site_report.txt\r\n",
      "\u001b[01;35mMyNetwork_10.tif\u001b[0m                \u001b[01;35mSkynet_13.tif\u001b[0m\r\n",
      "\u001b[01;35mMyNetwork_11-ck.png\u001b[0m             \u001b[01;35mSkynet_14-ck.png\u001b[0m\r\n",
      "MyNetwork_11.kml                Skynet_14.kml\r\n",
      "\u001b[01;35mMyNetwork_11.png\u001b[0m                \u001b[01;35mSkynet_14.png\u001b[0m\r\n",
      "MyNetwork_11-site_report.txt    Skynet_14-site_report.txt\r\n",
      "\u001b[01;35mMyNetwork_11.tif\u001b[0m                \u001b[01;35mSkynet_14.tif\u001b[0m\r\n",
      "\u001b[01;35mMyNetwork_5-ck.png\u001b[0m              \u001b[01;35mSkynet_15-ck.png\u001b[0m\r\n",
      "MyNetwork_5.kml                 Skynet_15.kml\r\n",
      "\u001b[01;35mMyNetwork_5.png\u001b[0m                 \u001b[01;35mSkynet_15.png\u001b[0m\r\n",
      "MyNetwork_5-site_report.txt     Skynet_15-site_report.txt\r\n",
      "\u001b[01;35mMyNetwork_5.tif\u001b[0m                 \u001b[01;35mSkynet_15.tif\u001b[0m\r\n",
      "\u001b[01;35mMyNetwork_6-ck.png\u001b[0m              \u001b[01;35mSkynet_16-ck.png\u001b[0m\r\n",
      "MyNetwork_6.kml                 Skynet_16.kml\r\n",
      "\u001b[01;35mMyNetwork_6.png\u001b[0m                 \u001b[01;35mSkynet_16.png\u001b[0m\r\n",
      "MyNetwork_6-site_report.txt     Skynet_16-site_report.txt\r\n",
      "\u001b[01;35mMyNetwork_6.tif\u001b[0m                 \u001b[01;35mSkynet_16.tif\u001b[0m\r\n",
      "\u001b[01;35mMyNetwork_7-ck.png\u001b[0m              \u001b[01;35mSkynet_17-ck.png\u001b[0m\r\n",
      "MyNetwork_7.kml                 Skynet_17.kml\r\n",
      "\u001b[01;35mMyNetwork_7.png\u001b[0m                 \u001b[01;35mSkynet_17.png\u001b[0m\r\n",
      "MyNetwork_7-site_report.txt     Skynet_17-site_report.txt\r\n",
      "\u001b[01;35mMyNetwork_7.tif\u001b[0m                 \u001b[01;35mSkynet_17.tif\u001b[0m\r\n",
      "\u001b[01;35mMyNetwork_8-ck.png\u001b[0m              \u001b[01;35mSonar_20-ck.png\u001b[0m\r\n",
      "MyNetwork_8.kml                 Sonar_20.kml\r\n",
      "\u001b[01;35mMyNetwork_8.png\u001b[0m                 \u001b[01;35mSonar_20.png\u001b[0m\r\n",
      "MyNetwork_8-site_report.txt     Sonar_20-site_report.txt\r\n",
      "\u001b[01;35mMyNetwork_8.tif\u001b[0m                 \u001b[01;35mSonar_20.tif\u001b[0m\r\n"
     ]
    }
   ],
   "source": [
    "# Post-process coverage reports\n",
    "\n",
    "path = OUT_DIR/'coverage_reports'\n",
    "wt.postprocess_coverage(path)\n",
    "\n",
    "% ls {path}"
   ]
  },
  {
   "cell_type": "code",
   "execution_count": null,
   "metadata": {
    "collapsed": true
   },
   "outputs": [],
   "source": []
  }
 ],
 "metadata": {
  "kernelspec": {
   "display_name": "Python 3",
   "language": "python",
   "name": "python3"
  },
  "language_info": {
   "codemirror_mode": {
    "name": "ipython",
    "version": 3
   },
   "file_extension": ".py",
   "mimetype": "text/x-python",
   "name": "python",
   "nbconvert_exporter": "python",
   "pygments_lexer": "ipython3",
   "version": "3.5.1"
  }
 },
 "nbformat": 4,
 "nbformat_minor": 0
}
