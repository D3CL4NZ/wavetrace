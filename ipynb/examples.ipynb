{
 "cells": [
  {
   "cell_type": "code",
   "execution_count": 2,
   "metadata": {
    "collapsed": false
   },
   "outputs": [],
   "source": [
    "import sys\n",
    "from pathlib import Path\n",
    "import shutil\n",
    "\n",
    "import requests\n",
    "\n",
    "DIR = Path('..')\n",
    "sys.path.append(str(DIR))\n",
    "\n",
    "import wavetrace as wt\n",
    "\n",
    "IN_DIR = DIR/'example_data'/'inputs'\n",
    "OUT_DIR = DIR/'example_data'/'outputs'\n",
    "\n",
    "%load_ext autoreload\n",
    "%autoreload 2\n",
    "\n"
   ]
  },
  {
   "cell_type": "code",
   "execution_count": null,
   "metadata": {
    "collapsed": false
   },
   "outputs": [],
   "source": [
    "# # Download elevation test data\n",
    "\n",
    "# TEST_DATA_DIR = DIR/'tests'/'data'\n",
    "# ts = wt.read_transmitters(TEST_DATA_DIR/'transmitters.csv')[:2]\n",
    "# lon_lats = wt.get_lon_lats(ts)\n",
    "# tiles = wt.get_srtm_tile_names(lon_lats)\n",
    "# print('Tiles to download =', tiles)\n",
    "    \n",
    "# wt.download_topography_nasa(tiles, TEST_DATA_DIR)"
   ]
  },
  {
   "cell_type": "code",
   "execution_count": 3,
   "metadata": {
    "collapsed": false
   },
   "outputs": [
    {
     "name": "stdout",
     "output_type": "stream",
     "text": [
      "[{'power_eirp': 4.0, 'horizontal_beamwidth': '', 'name': 'GrayWireless_4', 'bearing': '0', 'longitude': 174.336547, 'polarization': 0.0, 'antenna_height': 10.0, 'latitude': -35.712247, 'site_name': '4', 'antenna_downtilt': '', 'vertical_beamwidth': '', 'network_name': 'Gray Wireless', 'frequency': 5725.0}, {'power_eirp': 4.0, 'horizontal_beamwidth': '90', 'name': 'MyNetwork_5', 'bearing': '0', 'longitude': 174.281534, 'polarization': 0.0, 'antenna_height': 20.0, 'latitude': -35.658841, 'site_name': '5', 'antenna_downtilt': '1', 'vertical_beamwidth': '30', 'network_name': 'My Network', 'frequency': 5725.0}]\n"
     ]
    }
   ],
   "source": [
    "transmitters = wt.read_transmitters(IN_DIR/'transmitters.csv')[:2]\n",
    "high_definition = False\n",
    "print(transmitters)"
   ]
  },
  {
   "cell_type": "code",
   "execution_count": null,
   "metadata": {
    "collapsed": false
   },
   "outputs": [],
   "source": [
    "# Download topography data\n",
    "\n",
    "lon_lats = wt.get_lon_lats(transmitters)\n",
    "tiles = wt.get_srtm_tile_names(lon_lats)\n",
    "print('Tiles to download =', tiles)\n",
    "\n",
    "username = None\n",
    "password = None\n",
    "if high_definition:\n",
    "    path = IN_DIR/'srtm-hd'\n",
    "    try:\n",
    "        username = wt.get_secret('NASA_USERNAME')\n",
    "        password = wt.get_secret('NASA_PASSWORD')\n",
    "    except:\n",
    "        pass\n",
    "else:\n",
    "    path = IN_DIR/'srtm-sd'\n",
    "    \n",
    "wt.download_topography_nasa(tiles, path, high_definition=high_definition,\n",
    "  username=username, password=password)"
   ]
  },
  {
   "cell_type": "code",
   "execution_count": 4,
   "metadata": {
    "collapsed": false
   },
   "outputs": [
    {
     "name": "stdout",
     "output_type": "stream",
     "text": [
      "CanUCMe_21.az       MyNetwork_11.az     MyNetwork_9.az      Skynet_14.az\r\n",
      "CanUCMe_21.el       MyNetwork_11.el     MyNetwork_9.el      Skynet_14.el\r\n",
      "CanUCMe_21.lrp      MyNetwork_11.lrp    MyNetwork_9.lrp     Skynet_14.lrp\r\n",
      "CanUCMe_21.qth      MyNetwork_11.qth    MyNetwork_9.qth     Skynet_14.qth\r\n",
      "CanUCMe_22.az       MyNetwork_5.az      RuralCom_18.az      Skynet_15.az\r\n",
      "CanUCMe_22.el       MyNetwork_5.el      RuralCom_18.el      Skynet_15.el\r\n",
      "CanUCMe_22.lrp      MyNetwork_5.lrp     RuralCom_18.lrp     Skynet_15.lrp\r\n",
      "CanUCMe_22.qth      MyNetwork_5.qth     RuralCom_18.qth     Skynet_15.qth\r\n",
      "CanUCMe_23.az       MyNetwork_6.az      RuralCom_19.az      Skynet_16.az\r\n",
      "CanUCMe_23.el       MyNetwork_6.el      RuralCom_19.el      Skynet_16.el\r\n",
      "CanUCMe_23.lrp      MyNetwork_6.lrp     RuralCom_19.lrp     Skynet_16.lrp\r\n",
      "CanUCMe_23.qth      MyNetwork_6.qth     RuralCom_19.qth     Skynet_16.qth\r\n",
      "GrayWireless_4.az   MyNetwork_7.az      Skynet_12.az        Skynet_17.az\r\n",
      "GrayWireless_4.el   MyNetwork_7.el      Skynet_12.el        Skynet_17.el\r\n",
      "GrayWireless_4.lrp  MyNetwork_7.lrp     Skynet_12.lrp       Skynet_17.lrp\r\n",
      "GrayWireless_4.qth  MyNetwork_7.qth     Skynet_12.qth       Skynet_17.qth\r\n",
      "MyNetwork_10.az     MyNetwork_8.az      Skynet_13.az        Sonar_20.az\r\n",
      "MyNetwork_10.el     MyNetwork_8.el      Skynet_13.el        Sonar_20.el\r\n",
      "MyNetwork_10.lrp    MyNetwork_8.lrp     Skynet_13.lrp       Sonar_20.lrp\r\n",
      "MyNetwork_10.qth    MyNetwork_8.qth     Skynet_13.qth       Sonar_20.qth\r\n"
     ]
    }
   ],
   "source": [
    "# Create SPLAT transmitter files\n",
    "\n",
    "in_path = IN_DIR/'transmitters.csv'\n",
    "out_path = OUT_DIR/'splat_files'\n",
    "if out_path.exists():\n",
    "    shutil.rmtree(str(out_path))\n",
    "    \n",
    "wt.create_splat_transmitter_files(in_path, out_path)\n",
    "\n",
    "% ls {out_path}"
   ]
  },
  {
   "cell_type": "code",
   "execution_count": 5,
   "metadata": {
    "collapsed": false
   },
   "outputs": [
    {
     "name": "stdout",
     "output_type": "stream",
     "text": [
      "-35:-34:186:187.sdf  MyNetwork_5.lrp      Skynet_12.lrp\r\n",
      "-36:-35:185:186.sdf  MyNetwork_5.qth      Skynet_12.qth\r\n",
      "CanUCMe_21.az        MyNetwork_6.az       Skynet_13.az\r\n",
      "CanUCMe_21.el        MyNetwork_6.el       Skynet_13.el\r\n",
      "CanUCMe_21.lrp       MyNetwork_6.lrp      Skynet_13.lrp\r\n",
      "CanUCMe_21.qth       MyNetwork_6.qth      Skynet_13.qth\r\n",
      "CanUCMe_22.az        MyNetwork_7.az       Skynet_14.az\r\n",
      "CanUCMe_22.el        MyNetwork_7.el       Skynet_14.el\r\n",
      "CanUCMe_22.lrp       MyNetwork_7.lrp      Skynet_14.lrp\r\n",
      "CanUCMe_22.qth       MyNetwork_7.qth      Skynet_14.qth\r\n",
      "CanUCMe_23.az        MyNetwork_8.az       Skynet_15.az\r\n",
      "CanUCMe_23.el        MyNetwork_8.el       Skynet_15.el\r\n",
      "CanUCMe_23.lrp       MyNetwork_8.lrp      Skynet_15.lrp\r\n",
      "CanUCMe_23.qth       MyNetwork_8.qth      Skynet_15.qth\r\n",
      "GrayWireless_4.az    MyNetwork_9.az       Skynet_16.az\r\n",
      "GrayWireless_4.el    MyNetwork_9.el       Skynet_16.el\r\n",
      "GrayWireless_4.lrp   MyNetwork_9.lrp      Skynet_16.lrp\r\n",
      "GrayWireless_4.qth   MyNetwork_9.qth      Skynet_16.qth\r\n",
      "MyNetwork_10.az      RuralCom_18.az       Skynet_17.az\r\n",
      "MyNetwork_10.el      RuralCom_18.el       Skynet_17.el\r\n",
      "MyNetwork_10.lrp     RuralCom_18.lrp      Skynet_17.lrp\r\n",
      "MyNetwork_10.qth     RuralCom_18.qth      Skynet_17.qth\r\n",
      "MyNetwork_11.az      RuralCom_19.az       Sonar_20.az\r\n",
      "MyNetwork_11.el      RuralCom_19.el       Sonar_20.el\r\n",
      "MyNetwork_11.lrp     RuralCom_19.lrp      Sonar_20.lrp\r\n",
      "MyNetwork_11.qth     RuralCom_19.qth      Sonar_20.qth\r\n",
      "MyNetwork_5.az       Skynet_12.az\r\n",
      "MyNetwork_5.el       Skynet_12.el\r\n"
     ]
    }
   ],
   "source": [
    "# Create SPLAT topography files\n",
    "\n",
    "if high_definition:\n",
    "    in_path = IN_DIR/'srtm-hd'\n",
    "else:\n",
    "    in_path = IN_DIR/'srtm-sd'\n",
    "out_path = OUT_DIR/'splat_files'\n",
    "\n",
    "wt.create_splat_topography_files(in_path, out_path, high_definition=high_definition)\n",
    "\n",
    "% ls {out_path}"
   ]
  },
  {
   "cell_type": "code",
   "execution_count": 6,
   "metadata": {
    "collapsed": false
   },
   "outputs": [
    {
     "name": "stdout",
     "output_type": "stream",
     "text": [
      "Timing create_coverage_reports...\n",
      "2016-08-12 14:40:43.057847   Began process\n",
      "2016-08-12 14:41:32.034120   Finished in 0.80 min\n",
      "GrayWireless_4-ck.ppm           MyNetwork_5-ck.ppm\n",
      "GrayWireless_4-site_report.txt  MyNetwork_5-site_report.txt\n",
      "GrayWireless_4.kml              MyNetwork_5.kml\n",
      "GrayWireless_4.ppm              MyNetwork_5.ppm\n"
     ]
    }
   ],
   "source": [
    "# Create coverage reports\n",
    "\n",
    "transmitter_names = [t['name'] for t in transmitters[:1]]\n",
    "in_path = OUT_DIR/'splat_files'\n",
    "out_path = OUT_DIR/'coverage_reports'\n",
    "wt.create_coverage_reports(in_path, out_path, transmitter_names, \n",
    "  high_definition=high_definition)\n",
    "\n",
    "% ls {out_path}"
   ]
  },
  {
   "cell_type": "code",
   "execution_count": 7,
   "metadata": {
    "collapsed": false
   },
   "outputs": [
    {
     "name": "stdout",
     "output_type": "stream",
     "text": [
      "gdal_translate -of Gtiff -a_ullr 173.0 -34.00083 176.0 -37.0 -a_srs EPSG:4326 GrayWireless_4.png GrayWireless_4.tif\n"
     ]
    },
    {
     "ename": "CalledProcessError",
     "evalue": "Command '['gdal_translate', '-of', 'Gtiff', '-a_ullr', '173.0', '-34.00083', '176.0', '-37.0', '-a_srs', 'EPSG:4326', 'GrayWireless_4.png', 'GrayWireless_4.tif']' returned non-zero exit status 1",
     "output_type": "error",
     "traceback": [
      "\u001b[0;31m---------------------------------------------------------------------------\u001b[0m",
      "\u001b[0;31mCalledProcessError\u001b[0m                        Traceback (most recent call last)",
      "\u001b[0;32m<ipython-input-7-a34d21b4f4d9>\u001b[0m in \u001b[0;36m<module>\u001b[0;34m()\u001b[0m\n\u001b[1;32m      2\u001b[0m \u001b[0;34m\u001b[0m\u001b[0m\n\u001b[1;32m      3\u001b[0m \u001b[0mpath\u001b[0m \u001b[0;34m=\u001b[0m \u001b[0mOUT_DIR\u001b[0m\u001b[0;34m/\u001b[0m\u001b[0;34m'coverage_reports'\u001b[0m\u001b[0;34m\u001b[0m\u001b[0m\n\u001b[0;32m----> 4\u001b[0;31m \u001b[0mwt\u001b[0m\u001b[0;34m.\u001b[0m\u001b[0mpostprocess_coverage_reports\u001b[0m\u001b[0;34m(\u001b[0m\u001b[0mpath\u001b[0m\u001b[0;34m,\u001b[0m \u001b[0mdelete_ppm\u001b[0m\u001b[0;34m=\u001b[0m\u001b[0;32mFalse\u001b[0m\u001b[0;34m)\u001b[0m\u001b[0;34m\u001b[0m\u001b[0m\n\u001b[0m\u001b[1;32m      5\u001b[0m \u001b[0;34m\u001b[0m\u001b[0m\n\u001b[1;32m      6\u001b[0m \u001b[0mget_ipython\u001b[0m\u001b[0;34m(\u001b[0m\u001b[0;34m)\u001b[0m\u001b[0;34m.\u001b[0m\u001b[0mmagic\u001b[0m\u001b[0;34m(\u001b[0m\u001b[0;34m'ls {path}'\u001b[0m\u001b[0;34m)\u001b[0m\u001b[0;34m\u001b[0m\u001b[0m\n",
      "\u001b[0;32m/Users/araichev/wavetrace/wavetrace/main.py\u001b[0m in \u001b[0;36mpostprocess_coverage_reports\u001b[0;34m(path, delete_ppm)\u001b[0m\n\u001b[1;32m    502\u001b[0m             \u001b[0mprint\u001b[0m\u001b[0;34m(\u001b[0m\u001b[0;34m\" \"\u001b[0m\u001b[0;34m.\u001b[0m\u001b[0mjoin\u001b[0m\u001b[0;34m(\u001b[0m\u001b[0margs\u001b[0m\u001b[0;34m)\u001b[0m\u001b[0;34m)\u001b[0m\u001b[0;34m\u001b[0m\u001b[0m\n\u001b[1;32m    503\u001b[0m             subprocess.run(args, cwd=str(path),\n\u001b[0;32m--> 504\u001b[0;31m               stdout=subprocess.PIPE, universal_newlines=True, check=True)\n\u001b[0m\u001b[1;32m    505\u001b[0m \u001b[0;34m\u001b[0m\u001b[0m\n\u001b[1;32m    506\u001b[0m \u001b[0;32mdef\u001b[0m \u001b[0mget_bounds_from_kml\u001b[0m\u001b[0;34m(\u001b[0m\u001b[0mkml_string\u001b[0m\u001b[0;34m)\u001b[0m\u001b[0;34m:\u001b[0m\u001b[0;34m\u001b[0m\u001b[0m\n",
      "\u001b[0;32m/usr/local/Cellar/python3/3.5.1/Frameworks/Python.framework/Versions/3.5/lib/python3.5/subprocess.py\u001b[0m in \u001b[0;36mrun\u001b[0;34m(input, timeout, check, *popenargs, **kwargs)\u001b[0m\n\u001b[1;32m    709\u001b[0m         \u001b[0;32mif\u001b[0m \u001b[0mcheck\u001b[0m \u001b[0;32mand\u001b[0m \u001b[0mretcode\u001b[0m\u001b[0;34m:\u001b[0m\u001b[0;34m\u001b[0m\u001b[0m\n\u001b[1;32m    710\u001b[0m             raise CalledProcessError(retcode, process.args,\n\u001b[0;32m--> 711\u001b[0;31m                                      output=stdout, stderr=stderr)\n\u001b[0m\u001b[1;32m    712\u001b[0m     \u001b[0;32mreturn\u001b[0m \u001b[0mCompletedProcess\u001b[0m\u001b[0;34m(\u001b[0m\u001b[0mprocess\u001b[0m\u001b[0;34m.\u001b[0m\u001b[0margs\u001b[0m\u001b[0;34m,\u001b[0m \u001b[0mretcode\u001b[0m\u001b[0;34m,\u001b[0m \u001b[0mstdout\u001b[0m\u001b[0;34m,\u001b[0m \u001b[0mstderr\u001b[0m\u001b[0;34m)\u001b[0m\u001b[0;34m\u001b[0m\u001b[0m\n\u001b[1;32m    713\u001b[0m \u001b[0;34m\u001b[0m\u001b[0m\n",
      "\u001b[0;31mCalledProcessError\u001b[0m: Command '['gdal_translate', '-of', 'Gtiff', '-a_ullr', '173.0', '-34.00083', '176.0', '-37.0', '-a_srs', 'EPSG:4326', 'GrayWireless_4.png', 'GrayWireless_4.tif']' returned non-zero exit status 1"
     ]
    }
   ],
   "source": [
    "# Post-process coverage reports\n",
    "\n",
    "path = OUT_DIR/'coverage_reports'\n",
    "wt.postprocess_coverage_reports(path, delete_ppm=False)\n",
    "\n",
    "% ls {path}"
   ]
  },
  {
   "cell_type": "code",
   "execution_count": null,
   "metadata": {
    "collapsed": true
   },
   "outputs": [],
   "source": []
  }
 ],
 "metadata": {
  "kernelspec": {
   "display_name": "Python 3",
   "language": "python",
   "name": "python3"
  },
  "language_info": {
   "codemirror_mode": {
    "name": "ipython",
    "version": 3
   },
   "file_extension": ".py",
   "mimetype": "text/x-python",
   "name": "python",
   "nbconvert_exporter": "python",
   "pygments_lexer": "ipython3",
   "version": "3.5.1"
  }
 },
 "nbformat": 4,
 "nbformat_minor": 0
}
