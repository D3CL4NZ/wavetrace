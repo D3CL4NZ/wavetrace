{
 "cells": [
  {
   "cell_type": "code",
   "execution_count": 2,
   "metadata": {
    "collapsed": false
   },
   "outputs": [
    {
     "name": "stdout",
     "output_type": "stream",
     "text": [
      "The autoreload extension is already loaded. To reload it, use:\n",
      "  %reload_ext autoreload\n"
     ]
    }
   ],
   "source": [
    "import sys\n",
    "from pathlib import Path\n",
    "\n",
    "DIR = Path('..')\n",
    "sys.path.append(str(DIR))\n",
    "\n",
    "from wavetrace import *\n",
    "\n",
    "IN_DIR = DIR/'examples'/'inputs'\n",
    "OUT_DIR = DIR/'examples'/'outputs'\n",
    "\n",
    "%load_ext autoreload\n",
    "%autoreload 2\n",
    "\n",
    "high_definition = False\n"
   ]
  },
  {
   "cell_type": "code",
   "execution_count": null,
   "metadata": {
    "collapsed": false
   },
   "outputs": [],
   "source": [
    "# Create SPLAT transmitters data\n",
    "\n",
    "in_path = IN_DIR/'transmitters.csv'\n",
    "out_path = OUT_DIR/'transmitters'\n",
    "create_splat_transmitter_data(in_path, out_path)"
   ]
  },
  {
   "cell_type": "code",
   "execution_count": null,
   "metadata": {
    "collapsed": true
   },
   "outputs": [],
   "source": [
    "# To test high definition download use\n",
    "# http://e4ftl01.cr.usgs.gov/SRTM/SRTMGL1.003/2000.02.11/N00E006.SRTMGL1.hgt.zip\n",
    "# username='bingobongo', password='Bingo0Bongo'"
   ]
  },
  {
   "cell_type": "code",
   "execution_count": null,
   "metadata": {
    "collapsed": false
   },
   "outputs": [],
   "source": [
    "# Download elevation data\n",
    "\n",
    "bounds = [174, -37, 176, -36]\n",
    "names = get_srtm_tile_names(bounds)\n",
    "print('Tiles to download =', names)\n",
    "\n",
    "\n",
    "if high_definition:\n",
    "    path = IN_DIR/'elevations-hd'\n",
    "else:\n",
    "    path = IN_DIR/'elevations-sd'\n",
    "    \n",
    "download_elevation_data_nasa(bounds, path, high_definition=high_definition,\n",
    "  username='bingobongo', password='Bingo0Bongo')"
   ]
  },
  {
   "cell_type": "code",
   "execution_count": 6,
   "metadata": {
    "collapsed": false
   },
   "outputs": [],
   "source": [
    "# Create SPLAT elevation data\n",
    "\n",
    "if high_definition:\n",
    "    in_path = IN_DIR/'elevations-hd'\n",
    "    out_path = OUT_DIR/'elevations-hd'\n",
    "else:\n",
    "    in_path = IN_DIR/'elevations-sd'\n",
    "    out_path = OUT_DIR/'elevations-sd'\n",
    "\n",
    "create_splat_elevation_data(in_path, out_path, high_definition=high_definition)"
   ]
  },
  {
   "cell_type": "code",
   "execution_count": 5,
   "metadata": {
    "collapsed": false
   },
   "outputs": [
    {
     "name": "stdout",
     "output_type": "stream",
     "text": [
      "splat -t MyNetwork_11.qth -L 8.0 -dbm -db -110 -o MyNetwork_11.ppm -kml -metric -ngs\n"
     ]
    }
   ],
   "source": [
    "# Create coverage maps\n",
    "\n",
    "in_path = OUT_DIR/'transmitters'/'MyNetwork_11.qth'\n",
    "out_path = OUT_DIR\n",
    "create_splat_coverage_map(in_path, out_path, high_definition=high_definition)"
   ]
  },
  {
   "cell_type": "code",
   "execution_count": null,
   "metadata": {
    "collapsed": true
   },
   "outputs": [],
   "source": []
  }
 ],
 "metadata": {
  "kernelspec": {
   "display_name": "Python 3",
   "language": "python",
   "name": "python3"
  },
  "language_info": {
   "codemirror_mode": {
    "name": "ipython",
    "version": 3
   },
   "file_extension": ".py",
   "mimetype": "text/x-python",
   "name": "python",
   "nbconvert_exporter": "python",
   "pygments_lexer": "ipython3",
   "version": "3.5.1"
  }
 },
 "nbformat": 4,
 "nbformat_minor": 0
}
