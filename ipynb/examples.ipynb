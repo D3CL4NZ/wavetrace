{
 "cells": [
  {
   "cell_type": "code",
   "execution_count": 1,
   "metadata": {
    "collapsed": false
   },
   "outputs": [],
   "source": [
    "import sys\n",
    "from pathlib import Path\n",
    "import shutil\n",
    "import json\n",
    "import csv\n",
    "import re\n",
    "import math\n",
    "\n",
    "from shapely.geometry import Point\n",
    "import requests\n",
    "\n",
    "DIR = Path('..')\n",
    "sys.path.append(str(DIR))\n",
    "\n",
    "import wavetrace as wt\n",
    "\n",
    "%load_ext autoreload\n",
    "%autoreload 2\n",
    "\n",
    "TMP = DIR/'tmp'\n"
   ]
  },
  {
   "cell_type": "code",
   "execution_count": 2,
   "metadata": {
    "collapsed": false
   },
   "outputs": [],
   "source": [
    "# # Visually check that SRTM tiles cover NZ by \n",
    "# # making polygons and viewing them at https://geojson.io.\n",
    "\n",
    "# tids = wt.SRTM_NZ_TILE_IDS\n",
    "# collection = {\n",
    "#     'type': 'FeatureCollection', \n",
    "#     'features': list(map(wt.build_feature, tids))\n",
    "#     }\n",
    "# json.dumps(collection)"
   ]
  },
  {
   "cell_type": "code",
   "execution_count": 3,
   "metadata": {
    "collapsed": false
   },
   "outputs": [],
   "source": [
    "# Initialize\n",
    "\n",
    "wt.rm_paths(TMP)\n",
    "#transmitters_path = DIR/'tests'/'data'/'transmitters.csv'\n",
    "transmitters_path = DIR/'tests'/'data'/'transmitters_single.csv'\n",
    "api_key = wt.get_secret('GITLAB_API_KEY') # Need this to download topo\n",
    "high_definition = False\n",
    "if high_definition:\n",
    "    topography_path = TMP/'srtm1'\n",
    "else:\n",
    "    topography_path = TMP/'srtm3'\n"
   ]
  },
  {
   "cell_type": "code",
   "execution_count": 4,
   "metadata": {
    "collapsed": false
   },
   "outputs": [
    {
     "name": "stdout",
     "output_type": "stream",
     "text": [
      "GrayWireless_4.az  GrayWireless_4.el  GrayWireless_4.lrp  GrayWireless_4.qth\r\n"
     ]
    }
   ],
   "source": [
    "# Process transmitters\n",
    "\n",
    "out_path = TMP/'splat_files'   \n",
    "wt.process_transmitters(transmitters_path, out_path)\n",
    "\n",
    "% ls {out_path}"
   ]
  },
  {
   "cell_type": "code",
   "execution_count": 8,
   "metadata": {
    "collapsed": false
   },
   "outputs": [
    {
     "name": "stdout",
     "output_type": "stream",
     "text": [
      "transmitters= [{'antenna_downtilt': '', 'antenna_height': 10.0, 'frequency': 5725.0, 'network_name': 'Gray Wireless', 'extra': '', 'site_name': '4', 'power_eirp': 4.0, 'name': 'GrayWireless_4', 'polarization': 0.0, 'bearing': '0', 'latitude': -35.712247, 'horizontal_beamwidth': '', 'vertical_beamwidth': '', 'longitude': 174.336547}]\n",
      "Tiles to download = ['S36E173', 'S36E174', 'S37E173', 'S37E174']\n",
      "\u001b[0m\u001b[01;31mS36E173.SRTMGL3.hgt.zip\u001b[0m  \u001b[01;31mS37E173.SRTMGL3.hgt.zip\u001b[0m\n",
      "\u001b[01;31mS36E174.SRTMGL3.hgt.zip\u001b[0m  \u001b[01;31mS37E174.SRTMGL3.hgt.zip\u001b[0m\n"
     ]
    }
   ],
   "source": [
    "# Download topography\n",
    "\n",
    "transmitters = wt.read_transmitters(transmitters_path)\n",
    "print('transmitters=', transmitters)\n",
    "\n",
    "tids = wt.get_covering_tiles_ids(transmitters)\n",
    "print('Tiles to download =', tids)\n",
    "\n",
    "wt.download_topography(tids, topography_path, \n",
    "  high_definition=high_definition, api_key=api_key)\n",
    "\n",
    "% ls {topography_path}"
   ]
  },
  {
   "cell_type": "code",
   "execution_count": 9,
   "metadata": {
    "collapsed": false
   },
   "outputs": [
    {
     "name": "stdout",
     "output_type": "stream",
     "text": [
      "-36:-35:185:186.sdf  -37:-36:185:186.sdf  GrayWireless_4.az  GrayWireless_4.lrp\r\n",
      "-36:-35:186:187.sdf  -37:-36:186:187.sdf  GrayWireless_4.el  GrayWireless_4.qth\r\n"
     ]
    }
   ],
   "source": [
    "# Process topography\n",
    "\n",
    "out_path = TMP/'splat_files'\n",
    "wt.process_topography(topography_path, out_path, \n",
    "  high_definition=high_definition)\n",
    "\n",
    "% ls {out_path}"
   ]
  },
  {
   "cell_type": "code",
   "execution_count": 10,
   "metadata": {
    "collapsed": false
   },
   "outputs": [
    {
     "name": "stdout",
     "output_type": "stream",
     "text": [
      "\u001b[0m\u001b[01;35mGrayWireless_4-ck.png\u001b[0m  \u001b[01;35mGrayWireless_4.png\u001b[0m              \u001b[01;35mGrayWireless_4.tif\u001b[0m\r\n",
      "GrayWireless_4.kml     GrayWireless_4-site_report.txt\r\n"
     ]
    }
   ],
   "source": [
    "# Compute coverage\n",
    "\n",
    "in_path = TMP/'splat_files'\n",
    "out_path = TMP/'coverage_reports'\n",
    "wt.compute_coverage(in_path, out_path, high_definition=high_definition)\n",
    "\n",
    "% ls {out_path}"
   ]
  },
  {
   "cell_type": "code",
   "execution_count": 11,
   "metadata": {
    "collapsed": false
   },
   "outputs": [],
   "source": [
    "# Compute satellite line-of-sight for the Optus D2 geostationary satellite \n",
    "# at 152 degrees longitude\n",
    "\n",
    "in_path = (TMP/'srtm3'/'S36E173.SRTMGL3.hgt.zip').resolve()\n",
    "satellite_lon = 152\n",
    "tile_id = wt.get_tile_id(in_path)\n",
    "out_path = TMP/'{!s}_satellite_los.tif'.format(tile_id)\n",
    "wt.compute_satellite_los(in_path, satellite_lon, out_path)"
   ]
  },
  {
   "cell_type": "code",
   "execution_count": null,
   "metadata": {
    "collapsed": false
   },
   "outputs": [],
   "source": [
    "# Clean up\n",
    "\n",
    "wt.rm_paths(TMP)"
   ]
  }
 ],
 "metadata": {
  "kernelspec": {
   "display_name": "Python 3",
   "language": "python",
   "name": "python3"
  },
  "language_info": {
   "codemirror_mode": {
    "name": "ipython",
    "version": 3
   },
   "file_extension": ".py",
   "mimetype": "text/x-python",
   "name": "python",
   "nbconvert_exporter": "python",
   "pygments_lexer": "ipython3",
   "version": "3.5.1"
  }
 },
 "nbformat": 4,
 "nbformat_minor": 0
}
