{
 "cells": [
  {
   "cell_type": "code",
   "execution_count": 4,
   "metadata": {
    "collapsed": false
   },
   "outputs": [
    {
     "name": "stdout",
     "output_type": "stream",
     "text": [
      "The autoreload extension is already loaded. To reload it, use:\n",
      "  %reload_ext autoreload\n"
     ]
    }
   ],
   "source": [
    "import sys\n",
    "from pathlib import Path\n",
    "import shutil\n",
    "import json\n",
    "import csv\n",
    "import re\n",
    "\n",
    "from shapely.geometry import Point\n",
    "import requests\n",
    "\n",
    "DIR = Path('..')\n",
    "sys.path.append(str(DIR))\n",
    "\n",
    "import wavetrace as wt\n",
    "\n",
    "%load_ext autoreload\n",
    "%autoreload 2\n",
    "\n"
   ]
  },
  {
   "cell_type": "code",
   "execution_count": 6,
   "metadata": {
    "collapsed": false
   },
   "outputs": [
    {
     "data": {
      "text/plain": [
       "0.0004166666666666667"
      ]
     },
     "execution_count": 6,
     "metadata": {},
     "output_type": "execute_result"
    }
   ],
   "source": [
    "3601"
   ]
  },
  {
   "cell_type": "code",
   "execution_count": null,
   "metadata": {
    "collapsed": false
   },
   "outputs": [],
   "source": [
    "# Test\n",
    "\n",
    "# in_path = (DIR/'tests'/'data'/'srtm3'/'S37E175.hgt').resolve()\n",
    "in_path = (DIR/'tests'/'data'/'srtm3'/'S36E174.SRTMGL3.hgt.zip').resolve()\n",
    "out_path = DIR/'tests'/'data'/'tmp'/'sample_satellite_shadow.tif'\n",
    "if not out_path.exists():\n",
    "    out_path.touch()\n",
    "out_path = out_path.resolve()\n",
    "tid = wt.extract_tile_id(in_path)\n",
    "wt.compute_satellite_shadow(in_path, 152, out_path)"
   ]
  },
  {
   "cell_type": "code",
   "execution_count": null,
   "metadata": {
    "collapsed": false
   },
   "outputs": [],
   "source": [
    "# # Visually check that SRTM tiles cover NZ by \n",
    "# # making polygons and viewing them at https://geojson.io.\n",
    "\n",
    "# tids = wt.SRTM_NZ_TILE_IDS\n",
    "# collection = {\n",
    "#     'type': 'FeatureCollection', \n",
    "#     'features': list(map(wt.build_feature, tids))\n",
    "#     }\n",
    "# json.dumps(collection)"
   ]
  },
  {
   "cell_type": "code",
   "execution_count": null,
   "metadata": {
    "collapsed": false
   },
   "outputs": [],
   "source": [
    "# Initialize\n",
    "\n",
    "TMP = DIR/'tmp'\n",
    "wt.rm_paths(TMP)\n",
    "#transmitters_path = DIR/'tests'/'data'/'transmitters.csv'\n",
    "transmitters_path = DIR/'tests'/'data'/'transmitters_single.csv'\n",
    "api_key = wt.get_secret('GITLAB_API_KEY') # Need this to download topo\n",
    "high_definition = False\n",
    "if high_definition:\n",
    "    topography_path = TMP/'srtm1'\n",
    "else:\n",
    "    topography_path = TMP/'srtm3'\n"
   ]
  },
  {
   "cell_type": "code",
   "execution_count": null,
   "metadata": {
    "collapsed": false
   },
   "outputs": [],
   "source": [
    "# Process transmitters\n",
    "\n",
    "out_path = TMP/'splat_files'   \n",
    "wt.process_transmitters(transmitters_path, out_path)\n",
    "\n",
    "% ls {out_path}"
   ]
  },
  {
   "cell_type": "code",
   "execution_count": null,
   "metadata": {
    "collapsed": false
   },
   "outputs": [],
   "source": [
    "# Download topography\n",
    "\n",
    "transmitters = wt.read_transmitters(transmitters_path)\n",
    "print('transmitters=', transmitters)\n",
    "\n",
    "tids = wt.compute_tile_ids(transmitters)\n",
    "print('Tiles to download =', tids)\n",
    "\n",
    "wt.download_topography(tids, topography_path, \n",
    "  high_definition=high_definition, api_key=api_key)\n",
    "\n",
    "% ls {path}"
   ]
  },
  {
   "cell_type": "code",
   "execution_count": null,
   "metadata": {
    "collapsed": false
   },
   "outputs": [],
   "source": [
    "# Process topography\n",
    "\n",
    "out_path = TMP/'splat_files'\n",
    "wt.process_topography(topography_path, out_path, \n",
    "  high_definition=high_definition)\n",
    "\n",
    "% ls {out_path}"
   ]
  },
  {
   "cell_type": "code",
   "execution_count": null,
   "metadata": {
    "collapsed": false
   },
   "outputs": [],
   "source": [
    "# Compute coverage\n",
    "\n",
    "in_path = TMP/'splat_files'\n",
    "out_path = TMP/'coverage_reports'\n",
    "wt.compute_coverage(in_path, out_path, high_definition=high_definition)\n",
    "\n",
    "% ls {out_path}"
   ]
  },
  {
   "cell_type": "code",
   "execution_count": null,
   "metadata": {
    "collapsed": false
   },
   "outputs": [],
   "source": [
    "## Clean up\n",
    "\n",
    "# wt.rm_paths(TMP)"
   ]
  }
 ],
 "metadata": {
  "kernelspec": {
   "display_name": "Python 3",
   "language": "python",
   "name": "python3"
  },
  "language_info": {
   "codemirror_mode": {
    "name": "ipython",
    "version": 3
   },
   "file_extension": ".py",
   "mimetype": "text/x-python",
   "name": "python",
   "nbconvert_exporter": "python",
   "pygments_lexer": "ipython3",
   "version": "3.5.1"
  }
 },
 "nbformat": 4,
 "nbformat_minor": 0
}
