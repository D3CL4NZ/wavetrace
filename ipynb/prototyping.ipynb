{
 "cells": [
  {
   "cell_type": "code",
   "execution_count": 12,
   "metadata": {
    "collapsed": false
   },
   "outputs": [
    {
     "name": "stdout",
     "output_type": "stream",
     "text": [
      "The autoreload extension is already loaded. To reload it, use:\n",
      "  %reload_ext autoreload\n"
     ]
    }
   ],
   "source": [
    "import sys\n",
    "from pathlib import Path\n",
    "\n",
    "DIR = Path('..')\n",
    "sys.path.append(str(DIR))\n",
    "\n",
    "from wavetrace import *\n",
    "\n",
    "DATA_DIR = DIR/'sample_data'\n",
    "OUT_DIR = DIR/'outputs'\n",
    "\n",
    "%load_ext autoreload\n",
    "%autoreload 2\n"
   ]
  },
  {
   "cell_type": "code",
   "execution_count": 10,
   "metadata": {
    "collapsed": false
   },
   "outputs": [
    {
     "name": "stdout",
     "output_type": "stream",
     "text": [
      "Working on hgt ../sample_data/elevations/sd/N00E006.hgt\n",
      "Creating sdf ../sample_data/elevations/sd/N00E006.sdf\n",
      "Moving sdf to ../outputs/new/elevations/sd/N00E006.sdf\n",
      "Working on hgt ../sample_data/elevations/sd/N00E006.hgt.zip\n",
      "Unzipped hgt as ../sample_data/elevations/sd/N00E006.hgt\n",
      "Creating sdf ../sample_data/elevations/sd/N00E006.sdf\n",
      "Moving sdf to ../outputs/new/elevations/sd/N00E006.sdf\n",
      "Deleting hgt ../sample_data/elevations/sd/N00E006.hgt\n",
      "Working on hgt ../sample_data/elevations/sd/S01E006.hgt.zip\n",
      "Unzipped hgt as ../sample_data/elevations/sd/S01E006.hgt\n",
      "Creating sdf ../sample_data/elevations/sd/S01E006.sdf\n",
      "Moving sdf to ../outputs/new/elevations/sd/S01E006.sdf\n",
      "Deleting hgt ../sample_data/elevations/sd/S01E006.hgt\n",
      "Working on hgt ../sample_data/elevations/sd/S02E005.hgt.zip\n",
      "Unzipped hgt as ../sample_data/elevations/sd/S02E005.hgt\n",
      "Creating sdf ../sample_data/elevations/sd/S02E005.sdf\n",
      "Moving sdf to ../outputs/new/elevations/sd/S02E005.sdf\n",
      "Deleting hgt ../sample_data/elevations/sd/S02E005.hgt\n"
     ]
    }
   ],
   "source": [
    "in_dir = DATA_DIR/'elevations'/'sd'\n",
    "out_dir = OUT_DIR/'elevations'/'sd'\n",
    "create_splat_elevation_data(in_dir, out_dir)"
   ]
  },
  {
   "cell_type": "code",
   "execution_count": 11,
   "metadata": {
    "collapsed": false
   },
   "outputs": [],
   "source": [
    "path = DATA_DIR/'transmitters.csv'\n",
    "ts = read_transmitters(path)\n",
    "out_dir = OUT_DIR/'transmitters'\n",
    "\n",
    "create_splat_qth_data(ts, out_dir)\n",
    "create_splat_lrp_data(ts, out_dir)\n",
    "create_splat_az_data(ts, out_dir)\n",
    "create_splat_el_data(ts, out_dir)"
   ]
  },
  {
   "cell_type": "code",
   "execution_count": null,
   "metadata": {
    "collapsed": false
   },
   "outputs": [],
   "source": [
    "bounds = [-1.1, -1.6, 7, 2.1]\n",
    "names = get_srtm_tile_names(bounds)\n",
    "print('tile names =', names)\n",
    "download_elevation_data_nasa(bounds, DATA_DIR/'elevations'/'sd', high_definition=False)"
   ]
  },
  {
   "cell_type": "code",
   "execution_count": null,
   "metadata": {
    "collapsed": true
   },
   "outputs": [],
   "source": []
  }
 ],
 "metadata": {
  "kernelspec": {
   "display_name": "Python 3",
   "language": "python",
   "name": "python3"
  }
 },
 "nbformat": 4,
 "nbformat_minor": 0
}
