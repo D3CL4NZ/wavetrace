{
 "cells": [
  {
   "cell_type": "code",
   "execution_count": null,
   "metadata": {
    "collapsed": false
   },
   "outputs": [],
   "source": [
    "import sys\n",
    "from pathlib import Path\n",
    "\n",
    "DIR = Path('..')\n",
    "sys.path.append(str(DIR))\n",
    "\n",
    "from wavetrace import *\n",
    "\n",
    "DATA_DIR = DIR/'data'\n",
    "\n",
    "%load_ext autoreload\n",
    "%autoreload 2\n"
   ]
  },
  {
   "cell_type": "code",
   "execution_count": 16,
   "metadata": {
    "collapsed": false
   },
   "outputs": [],
   "source": [
    "path = DATA_DIR/'transmitters'/'transmitters_sample.csv'\n",
    "ts = read_transmitters(path)\n",
    "out_dir = DIR/'tmp'\n",
    "\n",
    "create_splat_qth_data(ts, out_dir=out_dir)\n",
    "create_splat_lrp_data(ts, out_dir=out_dir)"
   ]
  },
  {
   "cell_type": "code",
   "execution_count": null,
   "metadata": {
    "collapsed": false
   },
   "outputs": [],
   "source": [
    "bounds = [-1.1, -1.6, 7, 2.1]\n",
    "names = get_srtm_tile_names(bounds)\n",
    "print('tile names =', names)\n",
    "download_elevations_nasa(bounds, DATA_DIR, high_definition=True)"
   ]
  },
  {
   "cell_type": "code",
   "execution_count": null,
   "metadata": {
    "collapsed": true
   },
   "outputs": [],
   "source": []
  }
 ],
 "metadata": {
  "kernelspec": {
   "display_name": "Python 3",
   "language": "python",
   "name": "python3"
  },
  "language_info": {
   "codemirror_mode": {
    "name": "ipython",
    "version": 3
   },
   "file_extension": ".py",
   "mimetype": "text/x-python",
   "name": "python",
   "nbconvert_exporter": "python",
   "pygments_lexer": "ipython3",
   "version": "3.5.1"
  }
 },
 "nbformat": 4,
 "nbformat_minor": 0
}
