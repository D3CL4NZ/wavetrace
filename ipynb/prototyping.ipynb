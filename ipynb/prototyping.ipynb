{
 "cells": [
  {
   "cell_type": "code",
   "execution_count": 1,
   "metadata": {
    "collapsed": false
   },
   "outputs": [],
   "source": [
    "import sys\n",
    "from pathlib import Path\n",
    "\n",
    "DIR = Path('..')\n",
    "sys.path.append(str(DIR))\n",
    "\n",
    "from wavetrace import *\n",
    "\n",
    "DATA_DIR = DIR/'data'\n",
    "\n",
    "%load_ext autoreload\n",
    "%autoreload 2\n"
   ]
  },
  {
   "cell_type": "code",
   "execution_count": 4,
   "metadata": {
    "collapsed": false
   },
   "outputs": [
    {
     "name": "stdout",
     "output_type": "stream",
     "text": [
      "tile names = ['S02W002', 'S01W002', 'N00W002', 'N01W002', 'N02W002', 'S02W001', 'S01W001', 'N00W001', 'N01W001', 'N02W001', 'S02E000', 'S01E000', 'N00E000', 'N01E000', 'N02E000', 'S02E001', 'S01E001', 'N00E001', 'N01E001', 'N02E001', 'S02E002', 'S01E002', 'N00E002', 'N01E002', 'N02E002', 'S02E003', 'S01E003', 'N00E003', 'N01E003', 'N02E003', 'S02E004', 'S01E004', 'N00E004', 'N01E004', 'N02E004', 'S02E005', 'S01E005', 'N00E005', 'N01E005', 'N02E005', 'S02E006', 'S01E006', 'N00E006', 'N01E006', 'N02E006']\n",
      "Downloading N00E006.SRTMGL1.hgt.zip...\n",
      "Downloading S01E006.SRTMGL1.hgt.zip...\n",
      "Downloading S02E005.SRTMGL1.hgt.zip...\n"
     ]
    }
   ],
   "source": [
    "bounds = [-1.1, -1.6, 7, 2.1]\n",
    "names = get_srtm_tile_names(bounds)\n",
    "print('tile names =', names)\n",
    "download_elevations_nasa(bounds, DATA_DIR, high_definition=True)"
   ]
  },
  {
   "cell_type": "code",
   "execution_count": null,
   "metadata": {
    "collapsed": true
   },
   "outputs": [],
   "source": []
  }
 ],
 "metadata": {
  "kernelspec": {
   "display_name": "Python 3",
   "language": "python",
   "name": "python3"
  },
  "language_info": {
   "codemirror_mode": {
    "name": "ipython",
    "version": 3
   },
   "file_extension": ".py",
   "mimetype": "text/x-python",
   "name": "python",
   "nbconvert_exporter": "python",
   "pygments_lexer": "ipython3",
   "version": "3.5.1"
  }
 },
 "nbformat": 4,
 "nbformat_minor": 0
}
